{
 "cells": [
  {
   "cell_type": "markdown",
   "id": "88bf472f-cedc-4faa-826f-4cf9e4fc34f0",
   "metadata": {},
   "source": [
    "# Psühhoosi prodroomi sümptomite eraldamine meditsiinitekstidest treeningandmestike loomiseks\n",
    "Magistritöö (15 EAP)\n",
    "Kristel Agu\n",
    "\n",
    "Juhendajad: Sulev Reisberg (PhD), Kairit Sirts (PhD)"
   ]
  },
  {
   "cell_type": "markdown",
   "id": "a0b4a78f-7515-4224-a9db-84f3be0ab5ae",
   "metadata": {},
   "source": [
    "Käesolevas koodivihikus on toodud magistritöö tööprotsess."
   ]
  },
  {
   "cell_type": "markdown",
   "id": "98c85154-cceb-40dd-9d67-8d4afe2691d6",
   "metadata": {},
   "source": [
    "### Vajalike teekide ja Word2Vec importimine"
   ]
  },
  {
   "cell_type": "code",
   "execution_count": 1,
   "id": "0091d689",
   "metadata": {},
   "outputs": [],
   "source": [
    "import sys\n",
    "import re\n",
    "import os\n",
    "import psycopg2\n",
    "\n",
    "import numpy as np\n",
    "import pandas as pd\n",
    "import matplotlib.pyplot as plt\n",
    "import seaborn as sns\n",
    "\n",
    "from gensim.models import KeyedVectors\n",
    "from gensim.models import Word2Vec\n",
    "\n",
    "from collections import defaultdict\n",
    "\n",
    "from sklearn.model_selection import train_test_split\n",
    "from sklearn.linear_model import LogisticRegression\n",
    "from sklearn.preprocessing import StandardScaler\n",
    "from sklearn.metrics import classification_report\n",
    "from sklearn import metrics\n",
    "from sklearn.metrics import confusion_matrix\n",
    "from sklearn.metrics import precision_recall_fscore_support\n",
    "\n",
    "from dotenv import load_dotenv\n",
    "from pathlib import Path\n",
    "\n",
    "from joblib import dump, load"
   ]
  },
  {
   "cell_type": "markdown",
   "id": "e28e1990-80c0-4b68-9408-0ff0971d504e",
   "metadata": {},
   "source": [
    "#### Word2Vec mudel"
   ]
  },
  {
   "cell_type": "markdown",
   "id": "2f2542c9",
   "metadata": {},
   "source": [
    "Laen sisse sõnade vektorid, mille alusel hakkan leidma oma otsitavatele lausetele vektoreid. Eeltreenitud Word2Vec mudel pärineb Eesti Keeleressursside Keskuse skip-gram sõnaesinduste failist: https://entu.keeleressursid.ee/shared/7540/I7G5aC1YgdInohMJjUhi1d5e4jLdhQerZ4ikezz1JEv3B9yuJt9KiPl9lrS87Yz0 "
   ]
  },
  {
   "cell_type": "code",
   "execution_count": 2,
   "id": "8f540253",
   "metadata": {},
   "outputs": [],
   "source": [
    "wv_model = KeyedVectors.load_word2vec_format(\"words.sg.s100.w2v.bin\", binary=True)"
   ]
  },
  {
   "cell_type": "markdown",
   "id": "ce582d14-9d4d-486b-a9b8-096dae8fa197",
   "metadata": {},
   "source": [
    "Tutvun Word2Vec mudeli vektoriga. Võtan näidissõnaks \"veider\" ja kuvan vektori:"
   ]
  },
  {
   "cell_type": "code",
   "execution_count": 3,
   "id": "2826a0fd",
   "metadata": {},
   "outputs": [
    {
     "data": {
      "text/plain": [
       "array([ 0.489677  , -0.06757759,  0.4913517 ,  0.17079575, -0.34754735,\n",
       "        0.03508419, -0.38074473, -0.3223883 ,  0.36341348,  0.4271472 ,\n",
       "        0.00192196,  0.3290145 , -0.4747525 , -0.23610973,  0.12227923,\n",
       "        0.32070485, -0.14790066, -0.16029397,  0.24335657, -0.16966338,\n",
       "       -0.29142123, -0.11911654,  0.34636688, -0.30428684,  0.4361419 ,\n",
       "       -0.12453059,  0.45834678,  0.21598616,  0.48576415,  0.31055462,\n",
       "       -0.5950194 , -0.0661293 ,  0.04692078, -0.0953622 ,  0.29758826,\n",
       "       -0.0431558 ,  0.25921   , -0.07302137, -0.10943634, -0.29749694,\n",
       "        0.0856127 ,  0.46847922,  0.27082697,  0.27186885,  0.00254969,\n",
       "        0.18949154, -0.00091688, -0.08441706,  0.00644971, -0.39223325,\n",
       "        0.10878088,  0.37698707,  0.02959591, -0.3332812 , -0.12879844,\n",
       "       -0.2568749 , -0.16604906, -0.41839033, -0.38317037,  0.04098077,\n",
       "        0.03845564,  0.0122781 ,  0.0125342 ,  0.38286757,  0.06073887,\n",
       "        0.37068525, -0.21964091, -0.22835533,  0.75543565, -0.0104424 ,\n",
       "       -0.02949701,  0.2064266 , -0.3236754 , -0.08270954, -0.06402905,\n",
       "       -0.5136188 , -0.20102987, -0.62457955, -0.43555352, -0.2615332 ,\n",
       "        0.768507  , -0.8004468 , -0.13446248, -0.14409204, -0.20073955,\n",
       "        0.18318458,  0.01209941, -0.19941728,  0.5671271 , -0.18251328,\n",
       "       -0.1782649 ,  0.52207595,  0.41634837,  0.5544901 ,  0.7698525 ,\n",
       "        0.4229351 , -0.09526037,  0.49525675,  0.12466135, -0.5233133 ],\n",
       "      dtype=float32)"
      ]
     },
     "execution_count": 3,
     "metadata": {},
     "output_type": "execute_result"
    }
   ],
   "source": [
    "word_vector = wv_model[\"veider\"]\n",
    "word_vector"
   ]
  },
  {
   "cell_type": "markdown",
   "id": "b15aee2d-6094-4e5d-b2ec-23f4f14b8313",
   "metadata": {},
   "source": [
    "Kuna kõiki sõnu ei pruugi laaditud mudelis esindatud olla, loon eraldi hulga nende sõnade hoidmiseks ja loendamiseks."
   ]
  },
  {
   "cell_type": "code",
   "execution_count": 9,
   "id": "d3c6a98a",
   "metadata": {},
   "outputs": [],
   "source": [
    "vasteta = set()\n",
    "vasteta_count = defaultdict(int)"
   ]
  },
  {
   "cell_type": "markdown",
   "id": "1959dc7a-f114-49d1-9d8c-601a305d4d4a",
   "metadata": {},
   "source": [
    "### Funktsioonid"
   ]
  },
  {
   "cell_type": "markdown",
   "id": "30876c68-fb07-4087-a555-8df276a34d5d",
   "metadata": {},
   "source": [
    "Kuna etteantavad laused sisaldavad palju erinevaid sümboleid ja kirjavahemärke, on vajalik teksti puhastamine. Kasutan selleks regulaaravaldisega funktsiooni:"
   ]
  },
  {
   "cell_type": "code",
   "execution_count": 10,
   "id": "0eb12b5e",
   "metadata": {},
   "outputs": [],
   "source": [
    "def puhasta(tekst):\n",
    "    return re.sub(\"[\\W_]+\", \" \", tekst)"
   ]
  },
  {
   "cell_type": "markdown",
   "id": "302efaaa-e5f5-4af7-894a-b7d305ec3f7d",
   "metadata": {},
   "source": [
    "Kõigepealt loon funktsiooni, millega on võimalik leida lause keskmine vektor, kasutades varasemalt sisseloetud Word2Vec mudelit:"
   ]
  },
  {
   "cell_type": "code",
   "execution_count": 11,
   "id": "72d0536a",
   "metadata": {},
   "outputs": [],
   "source": [
    "def sentence_to_vecs(lause):\n",
    "    \n",
    "    lause = puhasta(lause)\n",
    " \n",
    "    lause_sõnadena = lause.lower().split()\n",
    "    \n",
    "    summa_vektor = np.zeros(len(wv_model[\"jah\"]))\n",
    "    count = 0\n",
    "    \n",
    "    for sõna in lause_sõnadena:\n",
    "        if sõna in wv_model:\n",
    "            vektor = wv_model[sõna]\n",
    "            summa_vektor += vektor\n",
    "            count += 1\n",
    "        else:\n",
    "            vasteta.add(sõna)\n",
    "            vasteta_count[sõna] +=1\n",
    "    if count == 0:\n",
    "        return summa_vektor # kõik sõnad lauses olid vasteta\n",
    "    keskmine_vektor = summa_vektor / count\n",
    "                \n",
    "    return keskmine_vektor"
   ]
  },
  {
   "cell_type": "code",
   "execution_count": 12,
   "id": "81b4706b",
   "metadata": {},
   "outputs": [],
   "source": [
    "def df_to_vec(df, column):\n",
    "    laused = df[column].tolist()\n",
    "    \n",
    "    lausete_vektorid = []\n",
    "    \n",
    "    for lause in laused:\n",
    "        lausete_vektorid.append(sentence_to_vecs(lause))\n",
    "    return lausete_vektorid"
   ]
  },
  {
   "cell_type": "code",
   "execution_count": 13,
   "id": "5dee12a1-37a2-4716-b59c-223627bb9874",
   "metadata": {},
   "outputs": [],
   "source": [
    "def df_to_train_data(df):\n",
    "    lausete_vektorid = df_to_vec(df, 'lause')\n",
    "\n",
    "    labels = df['on_symptom']\n",
    "    features = lausete_vektorid\n",
    "\n",
    "    # esmalt jagada X_train, X_val_test, y_train, y_val_test\n",
    "    # kus testandmestiku suuruseks 30%\n",
    "    X_train, X_val_test, y_train, y_val_test = train_test_split(features, labels, test_size=0.3, stratify=labels, random_state = 42)\n",
    "\n",
    "    # teiseks jagada X_val, X_test, y_val, y_test\n",
    "    # kus testandmestiku suurus 50% (pool algsest ehk 30%-lisest testandmestikust)\n",
    "    X_val, X_test, y_val, y_test = train_test_split(X_val_test, y_val_test, test_size=0.5, stratify=y_val_test, random_state = 42)\n",
    "\n",
    "    # lõpuks saame 70% treeningandmestiku, 15% testandmestiku ning 15% valideerimisandmestiku suurusteks\n",
    "    return X_train, y_train, X_test, y_test, X_val, y_val"
   ]
  },
  {
   "cell_type": "code",
   "execution_count": 14,
   "id": "c554b10e-53de-4157-a957-290a182516c8",
   "metadata": {},
   "outputs": [],
   "source": [
    "def df_to_pred(df, an_file_name, out_file_name, mudel):\n",
    "    df_copy = df.copy()\n",
    "    print(\"Algselt andmebaasi lausetes: \", len(df_copy))\n",
    "\n",
    "    df_annotated = pd.read_excel(an_file_name, index_col=0)\n",
    "        \n",
    "    for lause in df_annotated['lause'].tolist():\n",
    "        df_copy = df_copy.drop(df_copy[df_copy[2] == lause].index)\n",
    "\n",
    "    print(\"Pärast andmebaasi lausetes: \", len(df_copy))\n",
    "\n",
    "    lausete_vektorid = df_to_vec(df_copy, 2)\n",
    "\n",
    "    predictions_db_all = mudel.predict(lausete_vektorid)\n",
    "    predictions_proba_db_all = mudel.predict_proba(lausete_vektorid)\n",
    "\n",
    "    df_copy['on_symptom_proba'] = predictions_proba_db_all[:,1]\n",
    "\n",
    "    top_300 = df_copy[df_copy['on_symptom_proba'] > 0.5].sort_values(by=['on_symptom_proba'], ascending=False)[:300]\n",
    "    \n",
    "    top_300.to_excel(out_file_name)\n",
    "\n",
    "    return top_300"
   ]
  },
  {
   "cell_type": "code",
   "execution_count": 15,
   "id": "94d2d630-d380-417d-a448-38a95265aa88",
   "metadata": {},
   "outputs": [],
   "source": [
    "def sagedustabeliks(df, column):\n",
    "    sagedustabel = defaultdict(int)\n",
    "\n",
    "    for index, row in df.iterrows():\n",
    "        puhastatud_lause = puhasta(row[column])\n",
    "        for sõna in puhastatud_lause.split():\n",
    "            sagedustabel[sõna] +=1\n",
    "    return sorted(sagedustabel.items(), key=lambda x:x[1])"
   ]
  },
  {
   "cell_type": "markdown",
   "id": "c0443cb4-28d7-4f5c-bafe-969badd5775a",
   "metadata": {},
   "source": [
    "# I sümptom (\"veider käitumine\")"
   ]
  },
  {
   "cell_type": "markdown",
   "id": "52e6b8ae-9ab9-419d-a192-d7ad3ee41d7d",
   "metadata": {},
   "source": [
    "## Esmane andmete sisselugemine ja vektorite loomine"
   ]
  },
  {
   "cell_type": "markdown",
   "id": "a944fcf6-c345-4987-a6b4-a38700d96c27",
   "metadata": {},
   "source": [
    "Kuna töös kasutatud andmed ei ole avalikult kättesaadavad, siis võib kasutada järgmisi näidisandmeid ning kohandada koodi vastavalt:"
   ]
  },
  {
   "cell_type": "code",
   "execution_count": 30,
   "id": "c8242cab-d018-4372-ac42-dea26ba91b97",
   "metadata": {},
   "outputs": [],
   "source": [
    "sample_data = [{'id': 1, 'tekst_id': 11, 'lause': 'Patsient käitub veidralt.', 'on_symptom': 1},\n",
    "        {'id': 2, 'tekst_id': 12, 'lause': 'Teine palju pikem testlause rohkemate sõnadega, lisaks kirjavahemärgid!', 'on_symptom': 0},\n",
    "        {'id': 3, 'tekst_id': 13, 'lause': 'Word2Vec mudelis ei ole sõna depersonalisatsioon', 'on_symptom': 0},\n",
    "        {'id': 4, 'tekst_id': 14, 'lause': 'Patsiendi käitumine on olnud juba pool aastat veider', 'on_symptom': 1},\n",
    "        {'id': 5, 'tekst_id': 15, 'lause': 'RR 130/70 mmHg', 'on_symptom': 0},\n",
    "        {'id': 6, 'tekst_id': 16, 'lause': 'Veider käitumine', 'on_symptom': 1},\n",
    "        {'id': 7, 'tekst_id': 17, 'lause': 'Kaebab peavalu', 'on_symptom': 0},\n",
    "        {'id': 8, 'tekst_id': 18, 'lause': 'Patsient käitub veidralt.', 'on_symptom': 1},\n",
    "        {'id': 9, 'tekst_id': 19, 'lause': 'Veel üks testlause', 'on_symptom': 0},\n",
    "        {'id': 10, 'tekst_id': 20, 'lause': 'Ilmneb veidrale käitumisele viitavaid märke', 'on_symptom': 1},\n",
    "        {'id': 11, 'tekst_id': 21, 'lause': 'Teine palju pikem testlause rohkemate sõnadega, lisaks kirjavahemärgid!', 'on_symptom': 0},\n",
    "        {'id': 12, 'tekst_id': 22, 'lause': 'Word2Vec mudelis ei ole sõna depersonalisatsioon', 'on_symptom': 0},\n",
    "        {'id': 13, 'tekst_id': 23, 'lause': 'Patsiendi käitumine on olnud juba pool aastat veider', 'on_symptom': 1},\n",
    "        {'id': 14, 'tekst_id': 24, 'lause': 'RR 130/70 mmHg', 'on_symptom': 0},\n",
    "        {'id': 15, 'tekst_id': 25, 'lause': 'Veider käitumine', 'on_symptom': 1},\n",
    "        {'id': 16, 'tekst_id': 26, 'lause': 'Kaebab peavalu', 'on_symptom': 0},\n",
    "        {'id': 17, 'tekst_id': 27, 'lause': 'Patsient käitub veidralt.', 'on_symptom': 1},\n",
    "        {'id': 18, 'tekst_id': 28, 'lause': 'Veel üks testlause', 'on_symptom': 0},\n",
    "        {'id': 19, 'tekst_id': 29, 'lause': 'Ilmneb veidrale käitumisele viitavaid märke', 'on_symptom': 1}]\n",
    "test_df = pd.DataFrame.from_records(sample_data)"
   ]
  },
  {
   "cell_type": "markdown",
   "id": "1fc0bdbc-ce02-46f7-8d73-2e0bd507390a",
   "metadata": {},
   "source": [
    "Loen sisse varasemalt annoteeritud .xlsx andmefaili, milles on laused märksõnadega \"veidr/veide\" ning \"veid\":"
   ]
  },
  {
   "cell_type": "code",
   "execution_count": 5,
   "id": "fe100a6a",
   "metadata": {},
   "outputs": [],
   "source": [
    "df_annotated = pd.read_excel('data.xlsx', index_col=0)"
   ]
  },
  {
   "cell_type": "code",
   "execution_count": 6,
   "id": "5ec00c95",
   "metadata": {},
   "outputs": [
    {
     "data": {
      "text/plain": [
       "(177, 3)"
      ]
     },
     "execution_count": 6,
     "metadata": {},
     "output_type": "execute_result"
    }
   ],
   "source": [
    "df_annotated.shape"
   ]
  },
  {
   "cell_type": "code",
   "execution_count": 7,
   "id": "028353eb",
   "metadata": {},
   "outputs": [
    {
     "data": {
      "text/plain": [
       "on_symptom\n",
       "0    116\n",
       "1     61\n",
       "dtype: int64"
      ]
     },
     "execution_count": 7,
     "metadata": {},
     "output_type": "execute_result"
    }
   ],
   "source": [
    "df_annotated.groupby(\"on_symptom\").size()"
   ]
  },
  {
   "cell_type": "markdown",
   "id": "63a626be",
   "metadata": {},
   "source": [
    "Andmestikus on kokku 177 andmerida, millest sümptom esineb 61-l lausel ning sümptomit ei esine 116-l andmereal (nendest 111 on leitud märksõnaga \"veid\")."
   ]
  },
  {
   "cell_type": "markdown",
   "id": "8b4fb950-c8d0-48e2-a11d-a40768e995b1",
   "metadata": {},
   "source": [
    "## Mudeli loomine"
   ]
  },
  {
   "cell_type": "markdown",
   "id": "bd49f742-da86-4441-9f29-dd44dab8b2bf",
   "metadata": {},
   "source": [
    "Valisin oma andmete jaoks logistilise regressiooni mudeli. Märgendiks võtan andmestiku tulba \"on_symptom\" ning tunnusteks lausete keskmised vektorid."
   ]
  },
  {
   "cell_type": "code",
   "execution_count": 34,
   "id": "dedf1ab2-d23b-4988-9353-0a2634c15ba7",
   "metadata": {},
   "outputs": [],
   "source": [
    "X_train, y_train, X_test, y_test, X_val, y_val = df_to_train_data(df_annotated)"
   ]
  },
  {
   "cell_type": "code",
   "execution_count": 35,
   "id": "a57f7c59-0733-4600-8581-249662580603",
   "metadata": {},
   "outputs": [
    {
     "name": "stdout",
     "output_type": "stream",
     "text": [
      "Alganmestiku suurus: 177\n",
      "Treeningandmestiku suurus: 123\n",
      "Testandmestiku suurus: 27\n",
      "Valideerimisandmestiku suurus: 27\n"
     ]
    }
   ],
   "source": [
    "print(f\"Alganmestiku suurus: {len(df_annotated)}\")\n",
    "print(f\"Treeningandmestiku suurus: {len(X_train)}\")\n",
    "print(f\"Testandmestiku suurus: {len(X_test)}\")\n",
    "print(f\"Valideerimisandmestiku suurus: {len(X_val)}\")"
   ]
  },
  {
   "cell_type": "code",
   "execution_count": 36,
   "id": "45209cb6",
   "metadata": {},
   "outputs": [
    {
     "data": {
      "text/html": [
       "<style>#sk-container-id-2 {color: black;}#sk-container-id-2 pre{padding: 0;}#sk-container-id-2 div.sk-toggleable {background-color: white;}#sk-container-id-2 label.sk-toggleable__label {cursor: pointer;display: block;width: 100%;margin-bottom: 0;padding: 0.3em;box-sizing: border-box;text-align: center;}#sk-container-id-2 label.sk-toggleable__label-arrow:before {content: \"▸\";float: left;margin-right: 0.25em;color: #696969;}#sk-container-id-2 label.sk-toggleable__label-arrow:hover:before {color: black;}#sk-container-id-2 div.sk-estimator:hover label.sk-toggleable__label-arrow:before {color: black;}#sk-container-id-2 div.sk-toggleable__content {max-height: 0;max-width: 0;overflow: hidden;text-align: left;background-color: #f0f8ff;}#sk-container-id-2 div.sk-toggleable__content pre {margin: 0.2em;color: black;border-radius: 0.25em;background-color: #f0f8ff;}#sk-container-id-2 input.sk-toggleable__control:checked~div.sk-toggleable__content {max-height: 200px;max-width: 100%;overflow: auto;}#sk-container-id-2 input.sk-toggleable__control:checked~label.sk-toggleable__label-arrow:before {content: \"▾\";}#sk-container-id-2 div.sk-estimator input.sk-toggleable__control:checked~label.sk-toggleable__label {background-color: #d4ebff;}#sk-container-id-2 div.sk-label input.sk-toggleable__control:checked~label.sk-toggleable__label {background-color: #d4ebff;}#sk-container-id-2 input.sk-hidden--visually {border: 0;clip: rect(1px 1px 1px 1px);clip: rect(1px, 1px, 1px, 1px);height: 1px;margin: -1px;overflow: hidden;padding: 0;position: absolute;width: 1px;}#sk-container-id-2 div.sk-estimator {font-family: monospace;background-color: #f0f8ff;border: 1px dotted black;border-radius: 0.25em;box-sizing: border-box;margin-bottom: 0.5em;}#sk-container-id-2 div.sk-estimator:hover {background-color: #d4ebff;}#sk-container-id-2 div.sk-parallel-item::after {content: \"\";width: 100%;border-bottom: 1px solid gray;flex-grow: 1;}#sk-container-id-2 div.sk-label:hover label.sk-toggleable__label {background-color: #d4ebff;}#sk-container-id-2 div.sk-serial::before {content: \"\";position: absolute;border-left: 1px solid gray;box-sizing: border-box;top: 0;bottom: 0;left: 50%;z-index: 0;}#sk-container-id-2 div.sk-serial {display: flex;flex-direction: column;align-items: center;background-color: white;padding-right: 0.2em;padding-left: 0.2em;position: relative;}#sk-container-id-2 div.sk-item {position: relative;z-index: 1;}#sk-container-id-2 div.sk-parallel {display: flex;align-items: stretch;justify-content: center;background-color: white;position: relative;}#sk-container-id-2 div.sk-item::before, #sk-container-id-2 div.sk-parallel-item::before {content: \"\";position: absolute;border-left: 1px solid gray;box-sizing: border-box;top: 0;bottom: 0;left: 50%;z-index: -1;}#sk-container-id-2 div.sk-parallel-item {display: flex;flex-direction: column;z-index: 1;position: relative;background-color: white;}#sk-container-id-2 div.sk-parallel-item:first-child::after {align-self: flex-end;width: 50%;}#sk-container-id-2 div.sk-parallel-item:last-child::after {align-self: flex-start;width: 50%;}#sk-container-id-2 div.sk-parallel-item:only-child::after {width: 0;}#sk-container-id-2 div.sk-dashed-wrapped {border: 1px dashed gray;margin: 0 0.4em 0.5em 0.4em;box-sizing: border-box;padding-bottom: 0.4em;background-color: white;}#sk-container-id-2 div.sk-label label {font-family: monospace;font-weight: bold;display: inline-block;line-height: 1.2em;}#sk-container-id-2 div.sk-label-container {text-align: center;}#sk-container-id-2 div.sk-container {/* jupyter's `normalize.less` sets `[hidden] { display: none; }` but bootstrap.min.css set `[hidden] { display: none !important; }` so we also need the `!important` here to be able to override the default hidden behavior on the sphinx rendered scikit-learn.org. See: https://github.com/scikit-learn/scikit-learn/issues/21755 */display: inline-block !important;position: relative;}#sk-container-id-2 div.sk-text-repr-fallback {display: none;}</style><div id=\"sk-container-id-2\" class=\"sk-top-container\"><div class=\"sk-text-repr-fallback\"><pre>LogisticRegression()</pre><b>In a Jupyter environment, please rerun this cell to show the HTML representation or trust the notebook. <br />On GitHub, the HTML representation is unable to render, please try loading this page with nbviewer.org.</b></div><div class=\"sk-container\" hidden><div class=\"sk-item\"><div class=\"sk-estimator sk-toggleable\"><input class=\"sk-toggleable__control sk-hidden--visually\" id=\"sk-estimator-id-2\" type=\"checkbox\" checked><label for=\"sk-estimator-id-2\" class=\"sk-toggleable__label sk-toggleable__label-arrow\">LogisticRegression</label><div class=\"sk-toggleable__content\"><pre>LogisticRegression()</pre></div></div></div></div></div>"
      ],
      "text/plain": [
       "LogisticRegression()"
      ]
     },
     "execution_count": 36,
     "metadata": {},
     "output_type": "execute_result"
    }
   ],
   "source": [
    "model_veider1 = LogisticRegression()\n",
    "model_veider1.fit(X_train, y_train)"
   ]
  },
  {
   "cell_type": "code",
   "execution_count": 38,
   "id": "03f28e5e",
   "metadata": {},
   "outputs": [],
   "source": [
    "predictions_veider_test = model_veider1.predict(X_test)\n",
    "predictions_proba_veider_test = model_veider1.predict_proba(X_test)"
   ]
  },
  {
   "cell_type": "code",
   "execution_count": 39,
   "id": "deb97eb5",
   "metadata": {
    "scrolled": true
   },
   "outputs": [
    {
     "name": "stdout",
     "output_type": "stream",
     "text": [
      "              precision    recall  f1-score   support\n",
      "\n",
      "           0       0.86      1.00      0.92        18\n",
      "           1       1.00      0.67      0.80         9\n",
      "\n",
      "    accuracy                           0.89        27\n",
      "   macro avg       0.93      0.83      0.86        27\n",
      "weighted avg       0.90      0.89      0.88        27\n",
      "\n"
     ]
    }
   ],
   "source": [
    "classification_report_test_veider_1 = classification_report(y_test, predictions_veider_test)\n",
    "print(classification_report_test_veider_1)"
   ]
  },
  {
   "cell_type": "code",
   "execution_count": 40,
   "id": "5e6eb806",
   "metadata": {},
   "outputs": [
    {
     "name": "stdout",
     "output_type": "stream",
     "text": [
      "Tõsipositiivseid oli 6\n",
      "Tõsinegatiivseid oli 18\n",
      "Valepositiivseid oli 0\n",
      "Valenegatiivseid oli 3\n"
     ]
    }
   ],
   "source": [
    "cnf_matrix = metrics.confusion_matrix(y_test, predictions_veider_test)\n",
    "\n",
    "TP = cnf_matrix[1,1]\n",
    "TN = cnf_matrix[0,0]\n",
    "FP = cnf_matrix[0,1]\n",
    "FN = cnf_matrix[1,0]\n",
    "\n",
    "print(f\"Tõsipositiivseid oli {TP}\")\n",
    "print(f\"Tõsinegatiivseid oli {TN}\")\n",
    "print(f\"Valepositiivseid oli {FP}\")\n",
    "print(f\"Valenegatiivseid oli {FN}\")"
   ]
  },
  {
   "cell_type": "markdown",
   "id": "0fde30df-9210-46a6-ae61-646af7623225",
   "metadata": {},
   "source": [
    "Segadus- ehk eksimismaatriksi kuvamine. Joonise tegemiseks on lähtutud TÜ õppeainest \"Sissejuhatus andmeteadusesse\"."
   ]
  },
  {
   "cell_type": "code",
   "execution_count": 44,
   "id": "dcaa30c2",
   "metadata": {},
   "outputs": [
    {
     "data": {
      "image/png": "[encoded data removed]",
      "text/plain": [
       "<Figure size 1000x500 with 1 Axes>"
      ]
     },
     "metadata": {},
     "output_type": "display_data"
    }
   ],
   "source": [
    "matrix_veider1 = confusion_matrix(y_test, predictions_veider_test)\n",
    "\n",
    "fig, axes = plt.subplots(1, figsize=(10, 5))\n",
    "\n",
    "s_veider1 = sns.heatmap(matrix_veider1, cmap='crest', annot=True, annot_kws={\"fontsize\":16}, cbar=False, fmt=\"d\", xticklabels=[\"ei\", \"jah\"], yticklabels=[\"ei\", \"jah\"]);\n",
    "s_veider1.set_ylabel(\"Tegelikud märgendid\", fontsize=13);\n",
    "s_veider1.set_xlabel(\"Ennustatud märgendid\", fontsize=13);\n",
    "s_veider1.set_title(\"Segadusmaatriks testandmetel\");"
   ]
  },
  {
   "cell_type": "code",
   "execution_count": 45,
   "id": "d39de7af",
   "metadata": {},
   "outputs": [],
   "source": [
    "c_values = [0.01, 0.03, 0.05, 0.07, 0.1, 0.5, 1, 3, 5, 10, 25, 50, 100]\n",
    "model_accuracy_test = {}\n",
    "fscores = {}\n",
    "\n",
    "for c_value in c_values:\n",
    "    model = LogisticRegression(C = c_value)\n",
    "    model.fit(X_train, y_train)\n",
    "    \n",
    "    accuracy = model.score(X_test, y_test)\n",
    "    model_accuracy_test[f\"c-value {c_value}\"] = accuracy\n",
    "    \n",
    "    prediction_test = model.predict(X_test)\n",
    "    prfs = precision_recall_fscore_support(y_test, prediction_test, average='weighted', zero_division = np.nan)\n",
    "    fscores[f\"c-value {c_value}\"] = prfs[2]"
   ]
  },
  {
   "cell_type": "code",
   "execution_count": 46,
   "id": "be41d68a",
   "metadata": {},
   "outputs": [
    {
     "name": "stdout",
     "output_type": "stream",
     "text": [
      "Mudeli täpsused erinevate C-väärtustega:\n",
      "c-value 0.01 0.6666666666666666\n",
      "c-value 0.03 0.6666666666666666\n",
      "c-value 0.05 0.6666666666666666\n",
      "c-value 0.07 0.7037037037037037\n",
      "c-value 0.1 0.7037037037037037\n",
      "c-value 0.5 0.8148148148148148\n",
      "c-value 1 0.8888888888888888\n",
      "c-value 3 0.8888888888888888\n",
      "c-value 5 0.8888888888888888\n",
      "c-value 10 0.8888888888888888\n",
      "c-value 25 0.8888888888888888\n",
      "c-value 50 0.9259259259259259\n",
      "c-value 100 0.9259259259259259\n"
     ]
    }
   ],
   "source": [
    "print(\"Mudeli täpsused erinevate C-väärtustega:\")\n",
    "for key, value in model_accuracy_test.items():\n",
    "    print(key, value)"
   ]
  },
  {
   "cell_type": "code",
   "execution_count": 47,
   "id": "b466e519",
   "metadata": {},
   "outputs": [
    {
     "name": "stdout",
     "output_type": "stream",
     "text": [
      "Mudeli F-skoorid erinevate C-väärtustega:\n",
      "c-value 0.01 0.8\n",
      "c-value 0.03 0.8\n",
      "c-value 0.05 0.8\n",
      "c-value 0.07 0.6121212121212122\n",
      "c-value 0.1 0.6121212121212122\n",
      "c-value 0.5 0.7904940587867417\n",
      "c-value 1 0.8820512820512819\n",
      "c-value 3 0.8871224165341813\n",
      "c-value 5 0.8871224165341813\n",
      "c-value 10 0.8871224165341813\n",
      "c-value 25 0.8871224165341813\n",
      "c-value 50 0.9232456140350878\n",
      "c-value 100 0.9232456140350878\n"
     ]
    }
   ],
   "source": [
    "print(\"Mudeli F-skoorid erinevate C-väärtustega:\")\n",
    "for key, value in fscores.items():\n",
    "    print(key, value)"
   ]
  },
  {
   "cell_type": "markdown",
   "id": "d2efe507-a87b-4427-9843-165c5add7f27",
   "metadata": {},
   "source": [
    "Mudeli F-skoori väärtuste alusel on otsustatud valida hüperparameetri C väärtuseks 10. Alates C-väärtusest 50 on küll täheldatav F-skoori edasine suurenemine, kuid soov on siiski hoida regularisatsiooni piisavalt kõrgel, et saada hiljem testandmestikul paremaid tulemusi kui treeningandmetel."
   ]
  },
  {
   "cell_type": "code",
   "execution_count": 48,
   "id": "bd4d5264",
   "metadata": {},
   "outputs": [
    {
     "data": {
      "text/html": [
       "<style>#sk-container-id-3 {color: black;}#sk-container-id-3 pre{padding: 0;}#sk-container-id-3 div.sk-toggleable {background-color: white;}#sk-container-id-3 label.sk-toggleable__label {cursor: pointer;display: block;width: 100%;margin-bottom: 0;padding: 0.3em;box-sizing: border-box;text-align: center;}#sk-container-id-3 label.sk-toggleable__label-arrow:before {content: \"▸\";float: left;margin-right: 0.25em;color: #696969;}#sk-container-id-3 label.sk-toggleable__label-arrow:hover:before {color: black;}#sk-container-id-3 div.sk-estimator:hover label.sk-toggleable__label-arrow:before {color: black;}#sk-container-id-3 div.sk-toggleable__content {max-height: 0;max-width: 0;overflow: hidden;text-align: left;background-color: #f0f8ff;}#sk-container-id-3 div.sk-toggleable__content pre {margin: 0.2em;color: black;border-radius: 0.25em;background-color: #f0f8ff;}#sk-container-id-3 input.sk-toggleable__control:checked~div.sk-toggleable__content {max-height: 200px;max-width: 100%;overflow: auto;}#sk-container-id-3 input.sk-toggleable__control:checked~label.sk-toggleable__label-arrow:before {content: \"▾\";}#sk-container-id-3 div.sk-estimator input.sk-toggleable__control:checked~label.sk-toggleable__label {background-color: #d4ebff;}#sk-container-id-3 div.sk-label input.sk-toggleable__control:checked~label.sk-toggleable__label {background-color: #d4ebff;}#sk-container-id-3 input.sk-hidden--visually {border: 0;clip: rect(1px 1px 1px 1px);clip: rect(1px, 1px, 1px, 1px);height: 1px;margin: -1px;overflow: hidden;padding: 0;position: absolute;width: 1px;}#sk-container-id-3 div.sk-estimator {font-family: monospace;background-color: #f0f8ff;border: 1px dotted black;border-radius: 0.25em;box-sizing: border-box;margin-bottom: 0.5em;}#sk-container-id-3 div.sk-estimator:hover {background-color: #d4ebff;}#sk-container-id-3 div.sk-parallel-item::after {content: \"\";width: 100%;border-bottom: 1px solid gray;flex-grow: 1;}#sk-container-id-3 div.sk-label:hover label.sk-toggleable__label {background-color: #d4ebff;}#sk-container-id-3 div.sk-serial::before {content: \"\";position: absolute;border-left: 1px solid gray;box-sizing: border-box;top: 0;bottom: 0;left: 50%;z-index: 0;}#sk-container-id-3 div.sk-serial {display: flex;flex-direction: column;align-items: center;background-color: white;padding-right: 0.2em;padding-left: 0.2em;position: relative;}#sk-container-id-3 div.sk-item {position: relative;z-index: 1;}#sk-container-id-3 div.sk-parallel {display: flex;align-items: stretch;justify-content: center;background-color: white;position: relative;}#sk-container-id-3 div.sk-item::before, #sk-container-id-3 div.sk-parallel-item::before {content: \"\";position: absolute;border-left: 1px solid gray;box-sizing: border-box;top: 0;bottom: 0;left: 50%;z-index: -1;}#sk-container-id-3 div.sk-parallel-item {display: flex;flex-direction: column;z-index: 1;position: relative;background-color: white;}#sk-container-id-3 div.sk-parallel-item:first-child::after {align-self: flex-end;width: 50%;}#sk-container-id-3 div.sk-parallel-item:last-child::after {align-self: flex-start;width: 50%;}#sk-container-id-3 div.sk-parallel-item:only-child::after {width: 0;}#sk-container-id-3 div.sk-dashed-wrapped {border: 1px dashed gray;margin: 0 0.4em 0.5em 0.4em;box-sizing: border-box;padding-bottom: 0.4em;background-color: white;}#sk-container-id-3 div.sk-label label {font-family: monospace;font-weight: bold;display: inline-block;line-height: 1.2em;}#sk-container-id-3 div.sk-label-container {text-align: center;}#sk-container-id-3 div.sk-container {/* jupyter's `normalize.less` sets `[hidden] { display: none; }` but bootstrap.min.css set `[hidden] { display: none !important; }` so we also need the `!important` here to be able to override the default hidden behavior on the sphinx rendered scikit-learn.org. See: https://github.com/scikit-learn/scikit-learn/issues/21755 */display: inline-block !important;position: relative;}#sk-container-id-3 div.sk-text-repr-fallback {display: none;}</style><div id=\"sk-container-id-3\" class=\"sk-top-container\"><div class=\"sk-text-repr-fallback\"><pre>LogisticRegression(C=10)</pre><b>In a Jupyter environment, please rerun this cell to show the HTML representation or trust the notebook. <br />On GitHub, the HTML representation is unable to render, please try loading this page with nbviewer.org.</b></div><div class=\"sk-container\" hidden><div class=\"sk-item\"><div class=\"sk-estimator sk-toggleable\"><input class=\"sk-toggleable__control sk-hidden--visually\" id=\"sk-estimator-id-3\" type=\"checkbox\" checked><label for=\"sk-estimator-id-3\" class=\"sk-toggleable__label sk-toggleable__label-arrow\">LogisticRegression</label><div class=\"sk-toggleable__content\"><pre>LogisticRegression(C=10)</pre></div></div></div></div></div>"
      ],
      "text/plain": [
       "LogisticRegression(C=10)"
      ]
     },
     "execution_count": 48,
     "metadata": {},
     "output_type": "execute_result"
    }
   ],
   "source": [
    "model_veider2 = LogisticRegression(C = 10)\n",
    "model_veider2.fit(X_train, y_train)"
   ]
  },
  {
   "cell_type": "markdown",
   "id": "86a78ab7-afd3-47c2-885f-610def4feebe",
   "metadata": {},
   "source": [
    "Edaspidi on hindamismeetrikaid kuvatud valideerimisandmestikul."
   ]
  },
  {
   "cell_type": "code",
   "execution_count": 52,
   "id": "65e9e200",
   "metadata": {},
   "outputs": [],
   "source": [
    "predictions_veider_val1 = model_veider2.predict(X_val)"
   ]
  },
  {
   "cell_type": "code",
   "execution_count": 53,
   "id": "234661ce",
   "metadata": {},
   "outputs": [
    {
     "name": "stdout",
     "output_type": "stream",
     "text": [
      "              precision    recall  f1-score   support\n",
      "\n",
      "           0       0.83      0.88      0.86        17\n",
      "           1       0.78      0.70      0.74        10\n",
      "\n",
      "    accuracy                           0.81        27\n",
      "   macro avg       0.81      0.79      0.80        27\n",
      "weighted avg       0.81      0.81      0.81        27\n",
      "\n"
     ]
    }
   ],
   "source": [
    "classification_report_val_1 = classification_report(y_val, predictions_veider_val1)\n",
    "print(classification_report_val_1)"
   ]
  },
  {
   "cell_type": "code",
   "execution_count": 54,
   "id": "bfcdab4e-ac8c-42b5-b8f1-86d4ef9c05bd",
   "metadata": {},
   "outputs": [],
   "source": [
    "classification_report_val_1 = classification_report(y_val, predictions_veider_val1, output_dict=True)"
   ]
  },
  {
   "cell_type": "code",
   "execution_count": 55,
   "id": "ad4ad1f9-c191-45f6-bec1-e0c57a42c57a",
   "metadata": {},
   "outputs": [],
   "source": [
    "classification_reports = []"
   ]
  },
  {
   "cell_type": "code",
   "execution_count": 56,
   "id": "96bfdd69-9509-44ba-b453-ab3c84b260b0",
   "metadata": {},
   "outputs": [],
   "source": [
    "classification_reports.append(classification_report_val_1)"
   ]
  },
  {
   "cell_type": "code",
   "execution_count": 57,
   "id": "9a0f853a",
   "metadata": {},
   "outputs": [
    {
     "data": {
      "image/png": "[encoded data removed]",
      "text/plain": [
       "<Figure size 1000x500 with 1 Axes>"
      ]
     },
     "metadata": {},
     "output_type": "display_data"
    }
   ],
   "source": [
    "matrix_veider_val1 = confusion_matrix(y_val, predictions_veider_val1)\n",
    "\n",
    "fig, axes = plt.subplots(1, figsize=(10, 5))\n",
    "\n",
    "s_veider_val1 = sns.heatmap(matrix_veider_val1, cmap='crest', annot=True, annot_kws={\"fontsize\":16}, cbar=False, fmt=\"d\", xticklabels=[\"ei\", \"jah\"], yticklabels=[\"ei\", \"jah\"]);\n",
    "s_veider_val1.set_ylabel(\"Tegelikud märgendid\", fontsize=13);\n",
    "s_veider_val1.set_xlabel(\"Ennustatud märgendid\", fontsize=13);\n",
    "s_veider_val1.set_title(\"Segadusmaatriks valideerimisandmestikul\");"
   ]
  },
  {
   "cell_type": "code",
   "execution_count": 58,
   "id": "5370c1b9-80d9-48b0-9d40-21f4d07c09ad",
   "metadata": {},
   "outputs": [],
   "source": [
    "fig = s_veider_val1.get_figure()\n",
    "fig.savefig(\"val1.png\")"
   ]
  },
  {
   "cell_type": "code",
   "execution_count": 59,
   "id": "6bb78e22",
   "metadata": {},
   "outputs": [
    {
     "data": {
      "text/html": [
       "<style>#sk-container-id-4 {color: black;}#sk-container-id-4 pre{padding: 0;}#sk-container-id-4 div.sk-toggleable {background-color: white;}#sk-container-id-4 label.sk-toggleable__label {cursor: pointer;display: block;width: 100%;margin-bottom: 0;padding: 0.3em;box-sizing: border-box;text-align: center;}#sk-container-id-4 label.sk-toggleable__label-arrow:before {content: \"▸\";float: left;margin-right: 0.25em;color: #696969;}#sk-container-id-4 label.sk-toggleable__label-arrow:hover:before {color: black;}#sk-container-id-4 div.sk-estimator:hover label.sk-toggleable__label-arrow:before {color: black;}#sk-container-id-4 div.sk-toggleable__content {max-height: 0;max-width: 0;overflow: hidden;text-align: left;background-color: #f0f8ff;}#sk-container-id-4 div.sk-toggleable__content pre {margin: 0.2em;color: black;border-radius: 0.25em;background-color: #f0f8ff;}#sk-container-id-4 input.sk-toggleable__control:checked~div.sk-toggleable__content {max-height: 200px;max-width: 100%;overflow: auto;}#sk-container-id-4 input.sk-toggleable__control:checked~label.sk-toggleable__label-arrow:before {content: \"▾\";}#sk-container-id-4 div.sk-estimator input.sk-toggleable__control:checked~label.sk-toggleable__label {background-color: #d4ebff;}#sk-container-id-4 div.sk-label input.sk-toggleable__control:checked~label.sk-toggleable__label {background-color: #d4ebff;}#sk-container-id-4 input.sk-hidden--visually {border: 0;clip: rect(1px 1px 1px 1px);clip: rect(1px, 1px, 1px, 1px);height: 1px;margin: -1px;overflow: hidden;padding: 0;position: absolute;width: 1px;}#sk-container-id-4 div.sk-estimator {font-family: monospace;background-color: #f0f8ff;border: 1px dotted black;border-radius: 0.25em;box-sizing: border-box;margin-bottom: 0.5em;}#sk-container-id-4 div.sk-estimator:hover {background-color: #d4ebff;}#sk-container-id-4 div.sk-parallel-item::after {content: \"\";width: 100%;border-bottom: 1px solid gray;flex-grow: 1;}#sk-container-id-4 div.sk-label:hover label.sk-toggleable__label {background-color: #d4ebff;}#sk-container-id-4 div.sk-serial::before {content: \"\";position: absolute;border-left: 1px solid gray;box-sizing: border-box;top: 0;bottom: 0;left: 50%;z-index: 0;}#sk-container-id-4 div.sk-serial {display: flex;flex-direction: column;align-items: center;background-color: white;padding-right: 0.2em;padding-left: 0.2em;position: relative;}#sk-container-id-4 div.sk-item {position: relative;z-index: 1;}#sk-container-id-4 div.sk-parallel {display: flex;align-items: stretch;justify-content: center;background-color: white;position: relative;}#sk-container-id-4 div.sk-item::before, #sk-container-id-4 div.sk-parallel-item::before {content: \"\";position: absolute;border-left: 1px solid gray;box-sizing: border-box;top: 0;bottom: 0;left: 50%;z-index: -1;}#sk-container-id-4 div.sk-parallel-item {display: flex;flex-direction: column;z-index: 1;position: relative;background-color: white;}#sk-container-id-4 div.sk-parallel-item:first-child::after {align-self: flex-end;width: 50%;}#sk-container-id-4 div.sk-parallel-item:last-child::after {align-self: flex-start;width: 50%;}#sk-container-id-4 div.sk-parallel-item:only-child::after {width: 0;}#sk-container-id-4 div.sk-dashed-wrapped {border: 1px dashed gray;margin: 0 0.4em 0.5em 0.4em;box-sizing: border-box;padding-bottom: 0.4em;background-color: white;}#sk-container-id-4 div.sk-label label {font-family: monospace;font-weight: bold;display: inline-block;line-height: 1.2em;}#sk-container-id-4 div.sk-label-container {text-align: center;}#sk-container-id-4 div.sk-container {/* jupyter's `normalize.less` sets `[hidden] { display: none; }` but bootstrap.min.css set `[hidden] { display: none !important; }` so we also need the `!important` here to be able to override the default hidden behavior on the sphinx rendered scikit-learn.org. See: https://github.com/scikit-learn/scikit-learn/issues/21755 */display: inline-block !important;position: relative;}#sk-container-id-4 div.sk-text-repr-fallback {display: none;}</style><div id=\"sk-container-id-4\" class=\"sk-top-container\"><div class=\"sk-text-repr-fallback\"><pre>LogisticRegression(C=10)</pre><b>In a Jupyter environment, please rerun this cell to show the HTML representation or trust the notebook. <br />On GitHub, the HTML representation is unable to render, please try loading this page with nbviewer.org.</b></div><div class=\"sk-container\" hidden><div class=\"sk-item\"><div class=\"sk-estimator sk-toggleable\"><input class=\"sk-toggleable__control sk-hidden--visually\" id=\"sk-estimator-id-4\" type=\"checkbox\" checked><label for=\"sk-estimator-id-4\" class=\"sk-toggleable__label sk-toggleable__label-arrow\">LogisticRegression</label><div class=\"sk-toggleable__content\"><pre>LogisticRegression(C=10)</pre></div></div></div></div></div>"
      ],
      "text/plain": [
       "LogisticRegression(C=10)"
      ]
     },
     "execution_count": 59,
     "metadata": {},
     "output_type": "execute_result"
    }
   ],
   "source": [
    "labels_veider1 = df_annotated['on_symptom']\n",
    "features_veider1 = df_to_vec(df_annotated, 'lause')\n",
    "\n",
    "model_veider1 = LogisticRegression(C=10)\n",
    "model_veider1.fit(features_veider1, labels_veider1)"
   ]
  },
  {
   "cell_type": "markdown",
   "id": "880c98f2-2edf-45e2-af69-ba7cfda60084",
   "metadata": {},
   "source": [
    "## Ühendus andmebaasiga ning mudeli esimene testimine 150 uue lause peal"
   ]
  },
  {
   "cell_type": "code",
   "execution_count": 61,
   "id": "a6255551",
   "metadata": {},
   "outputs": [
    {
     "data": {
      "text/plain": [
       "True"
      ]
     },
     "execution_count": 61,
     "metadata": {},
     "output_type": "execute_result"
    }
   ],
   "source": [
    "env_path = Path('.') / '.env'\n",
    "load_dotenv(dotenv_path=env_path)"
   ]
  },
  {
   "cell_type": "code",
   "execution_count": 62,
   "id": "27cef523",
   "metadata": {},
   "outputs": [],
   "source": [
    "conn = psycopg2.connect(database = os.getenv(\"DATABASE\"), \n",
    "                        user = os.getenv(\"USER\"), \n",
    "                        host= os.getenv(\"HOST\"),\n",
    "                        password = os.getenv(\"PASSWORD\"),\n",
    "                        port = os.getenv(\"PORT\"))"
   ]
  },
  {
   "cell_type": "code",
   "execution_count": 63,
   "id": "41e0bdb8",
   "metadata": {},
   "outputs": [],
   "source": [
    "cur = conn.cursor()\n",
    "\n",
    "# Execute a query\n",
    "cur.execute(\"SELECT lause FROM user_kristel.esmase_prodroomi_laused WHERE NOT lower(lause::text) SIMILAR TO '%(veider|veidr|veid)%' LIMIT 150;\")\n",
    "\n",
    "# Retrieve query results\n",
    "records = cur.fetchall()"
   ]
  },
  {
   "cell_type": "code",
   "execution_count": 64,
   "id": "d6fd9b37",
   "metadata": {},
   "outputs": [],
   "source": [
    "conn.commit()\n",
    "conn.close()"
   ]
  },
  {
   "cell_type": "code",
   "execution_count": 65,
   "id": "6ed81475",
   "metadata": {},
   "outputs": [],
   "source": [
    "df_db_test = pd.DataFrame(records)"
   ]
  },
  {
   "cell_type": "code",
   "execution_count": 66,
   "id": "68c55acc",
   "metadata": {},
   "outputs": [],
   "source": [
    "lausete_vektorid_db_test = df_to_vec(df_db_test, 0)"
   ]
  },
  {
   "cell_type": "code",
   "execution_count": 67,
   "id": "9cb6ef16",
   "metadata": {},
   "outputs": [],
   "source": [
    "predictions_db_test = model_veider1.predict(lausete_vektorid_db_test)\n",
    "predictions_proba_db_test = model_veider1.predict_proba(lausete_vektorid_db_test)"
   ]
  },
  {
   "cell_type": "code",
   "execution_count": 69,
   "id": "5df2404c",
   "metadata": {},
   "outputs": [],
   "source": [
    "df_db_test['on_symptom_proba'] = predictions_proba_db_test[:,1]"
   ]
  },
  {
   "cell_type": "code",
   "execution_count": 71,
   "id": "f019969a",
   "metadata": {},
   "outputs": [],
   "source": [
    "vähimad_db_test = df_db_test.sort_values(by=['on_symptom_proba'])[:70]"
   ]
  },
  {
   "cell_type": "code",
   "execution_count": 72,
   "id": "db5a2efd",
   "metadata": {},
   "outputs": [],
   "source": [
    "suurimad_db_test = df_db_test.sort_values(by=['on_symptom_proba'])[-70:]"
   ]
  },
  {
   "cell_type": "code",
   "execution_count": 50,
   "id": "3cfd8081-d950-4e03-bbf6-1d940aa99202",
   "metadata": {},
   "outputs": [],
   "source": [
    "suurimad_db_test.to_excel('suurimad_db_test.xlsx')"
   ]
  },
  {
   "cell_type": "markdown",
   "id": "684161bf-4f77-4504-a5bc-8b552240fc7f",
   "metadata": {},
   "source": [
    "Mudel keskendub rohkem mõttekäigule, luululisusele ning meelepettelistele elamustele. Otsustatud hinnata annotatsioone uuesti ning hinnata sümptomiks kõik ainult veidrat käitumist kirjeldavad laused ning jätta välja näiteks veidra mõtlemisega seotud kirjeldused."
   ]
  },
  {
   "cell_type": "code",
   "execution_count": 74,
   "id": "d1be399b",
   "metadata": {},
   "outputs": [],
   "source": [
    "df_annotated_uus = pd.read_excel('data2_2.xlsx', index_col=0)"
   ]
  },
  {
   "cell_type": "code",
   "execution_count": 75,
   "id": "146a7786",
   "metadata": {},
   "outputs": [
    {
     "data": {
      "text/plain": [
       "on_symptom\n",
       "0    142\n",
       "1     35\n",
       "dtype: int64"
      ]
     },
     "execution_count": 75,
     "metadata": {},
     "output_type": "execute_result"
    }
   ],
   "source": [
    "df_annotated_uus.groupby(\"on_symptom\").size()"
   ]
  },
  {
   "cell_type": "code",
   "execution_count": 76,
   "id": "1d367f1f-fc52-41bf-8dd3-06e195a7e356",
   "metadata": {},
   "outputs": [],
   "source": [
    "X_train, y_train, X_test, y_test, X_val, y_val = df_to_train_data(df_annotated_uus)"
   ]
  },
  {
   "cell_type": "code",
   "execution_count": 77,
   "id": "da79046a-7d18-49aa-98f9-931821bcd9b8",
   "metadata": {},
   "outputs": [
    {
     "name": "stdout",
     "output_type": "stream",
     "text": [
      "Alganmestiku suurus: 177\n",
      "Treeningandmestiku suurus: 123\n",
      "Testandmestiku suurus: 27\n",
      "Valideerimisandmestiku suurus: 27\n"
     ]
    }
   ],
   "source": [
    "print(f\"Alganmestiku suurus: {len(df_annotated_uus)}\")\n",
    "print(f\"Treeningandmestiku suurus: {len(X_train)}\")\n",
    "print(f\"Testandmestiku suurus: {len(X_test)}\")\n",
    "print(f\"Valideerimisandmestiku suurus: {len(X_val)}\")"
   ]
  },
  {
   "cell_type": "code",
   "execution_count": 78,
   "id": "0678522a",
   "metadata": {},
   "outputs": [
    {
     "data": {
      "text/html": [
       "<style>#sk-container-id-5 {color: black;}#sk-container-id-5 pre{padding: 0;}#sk-container-id-5 div.sk-toggleable {background-color: white;}#sk-container-id-5 label.sk-toggleable__label {cursor: pointer;display: block;width: 100%;margin-bottom: 0;padding: 0.3em;box-sizing: border-box;text-align: center;}#sk-container-id-5 label.sk-toggleable__label-arrow:before {content: \"▸\";float: left;margin-right: 0.25em;color: #696969;}#sk-container-id-5 label.sk-toggleable__label-arrow:hover:before {color: black;}#sk-container-id-5 div.sk-estimator:hover label.sk-toggleable__label-arrow:before {color: black;}#sk-container-id-5 div.sk-toggleable__content {max-height: 0;max-width: 0;overflow: hidden;text-align: left;background-color: #f0f8ff;}#sk-container-id-5 div.sk-toggleable__content pre {margin: 0.2em;color: black;border-radius: 0.25em;background-color: #f0f8ff;}#sk-container-id-5 input.sk-toggleable__control:checked~div.sk-toggleable__content {max-height: 200px;max-width: 100%;overflow: auto;}#sk-container-id-5 input.sk-toggleable__control:checked~label.sk-toggleable__label-arrow:before {content: \"▾\";}#sk-container-id-5 div.sk-estimator input.sk-toggleable__control:checked~label.sk-toggleable__label {background-color: #d4ebff;}#sk-container-id-5 div.sk-label input.sk-toggleable__control:checked~label.sk-toggleable__label {background-color: #d4ebff;}#sk-container-id-5 input.sk-hidden--visually {border: 0;clip: rect(1px 1px 1px 1px);clip: rect(1px, 1px, 1px, 1px);height: 1px;margin: -1px;overflow: hidden;padding: 0;position: absolute;width: 1px;}#sk-container-id-5 div.sk-estimator {font-family: monospace;background-color: #f0f8ff;border: 1px dotted black;border-radius: 0.25em;box-sizing: border-box;margin-bottom: 0.5em;}#sk-container-id-5 div.sk-estimator:hover {background-color: #d4ebff;}#sk-container-id-5 div.sk-parallel-item::after {content: \"\";width: 100%;border-bottom: 1px solid gray;flex-grow: 1;}#sk-container-id-5 div.sk-label:hover label.sk-toggleable__label {background-color: #d4ebff;}#sk-container-id-5 div.sk-serial::before {content: \"\";position: absolute;border-left: 1px solid gray;box-sizing: border-box;top: 0;bottom: 0;left: 50%;z-index: 0;}#sk-container-id-5 div.sk-serial {display: flex;flex-direction: column;align-items: center;background-color: white;padding-right: 0.2em;padding-left: 0.2em;position: relative;}#sk-container-id-5 div.sk-item {position: relative;z-index: 1;}#sk-container-id-5 div.sk-parallel {display: flex;align-items: stretch;justify-content: center;background-color: white;position: relative;}#sk-container-id-5 div.sk-item::before, #sk-container-id-5 div.sk-parallel-item::before {content: \"\";position: absolute;border-left: 1px solid gray;box-sizing: border-box;top: 0;bottom: 0;left: 50%;z-index: -1;}#sk-container-id-5 div.sk-parallel-item {display: flex;flex-direction: column;z-index: 1;position: relative;background-color: white;}#sk-container-id-5 div.sk-parallel-item:first-child::after {align-self: flex-end;width: 50%;}#sk-container-id-5 div.sk-parallel-item:last-child::after {align-self: flex-start;width: 50%;}#sk-container-id-5 div.sk-parallel-item:only-child::after {width: 0;}#sk-container-id-5 div.sk-dashed-wrapped {border: 1px dashed gray;margin: 0 0.4em 0.5em 0.4em;box-sizing: border-box;padding-bottom: 0.4em;background-color: white;}#sk-container-id-5 div.sk-label label {font-family: monospace;font-weight: bold;display: inline-block;line-height: 1.2em;}#sk-container-id-5 div.sk-label-container {text-align: center;}#sk-container-id-5 div.sk-container {/* jupyter's `normalize.less` sets `[hidden] { display: none; }` but bootstrap.min.css set `[hidden] { display: none !important; }` so we also need the `!important` here to be able to override the default hidden behavior on the sphinx rendered scikit-learn.org. See: https://github.com/scikit-learn/scikit-learn/issues/21755 */display: inline-block !important;position: relative;}#sk-container-id-5 div.sk-text-repr-fallback {display: none;}</style><div id=\"sk-container-id-5\" class=\"sk-top-container\"><div class=\"sk-text-repr-fallback\"><pre>LogisticRegression(C=10)</pre><b>In a Jupyter environment, please rerun this cell to show the HTML representation or trust the notebook. <br />On GitHub, the HTML representation is unable to render, please try loading this page with nbviewer.org.</b></div><div class=\"sk-container\" hidden><div class=\"sk-item\"><div class=\"sk-estimator sk-toggleable\"><input class=\"sk-toggleable__control sk-hidden--visually\" id=\"sk-estimator-id-5\" type=\"checkbox\" checked><label for=\"sk-estimator-id-5\" class=\"sk-toggleable__label sk-toggleable__label-arrow\">LogisticRegression</label><div class=\"sk-toggleable__content\"><pre>LogisticRegression(C=10)</pre></div></div></div></div></div>"
      ],
      "text/plain": [
       "LogisticRegression(C=10)"
      ]
     },
     "execution_count": 78,
     "metadata": {},
     "output_type": "execute_result"
    }
   ],
   "source": [
    "model_veider2 = LogisticRegression(C=10)\n",
    "model_veider2.fit(X_train, y_train)"
   ]
  },
  {
   "cell_type": "code",
   "execution_count": 82,
   "id": "426103bd",
   "metadata": {},
   "outputs": [],
   "source": [
    "predictions_val_veider2 = model_veider2.predict(X_val)\n",
    "pred_proba_val_veider2 = model_veider2.predict_proba(X_val)"
   ]
  },
  {
   "cell_type": "code",
   "execution_count": 83,
   "id": "f2a87408",
   "metadata": {},
   "outputs": [
    {
     "name": "stdout",
     "output_type": "stream",
     "text": [
      "              precision    recall  f1-score   support\n",
      "\n",
      "           0       0.91      0.95      0.93        21\n",
      "           1       0.80      0.67      0.73         6\n",
      "\n",
      "    accuracy                           0.89        27\n",
      "   macro avg       0.85      0.81      0.83        27\n",
      "weighted avg       0.88      0.89      0.89        27\n",
      "\n"
     ]
    }
   ],
   "source": [
    "classification_report_val_veider2 = classification_report(y_val, predictions_val_veider2)\n",
    "print(classification_report_val_veider2)"
   ]
  },
  {
   "cell_type": "code",
   "execution_count": 84,
   "id": "4cfa7f6d-53da-4ef7-be6b-654bf39a1349",
   "metadata": {},
   "outputs": [],
   "source": [
    "classification_report_val_veider2 = classification_report(y_val, predictions_val_veider2, output_dict=True)"
   ]
  },
  {
   "cell_type": "code",
   "execution_count": 85,
   "id": "91846290-bc52-42dd-85c5-21e308b273d2",
   "metadata": {},
   "outputs": [],
   "source": [
    "classification_reports.append(classification_report_val_veider2)"
   ]
  },
  {
   "cell_type": "code",
   "execution_count": 86,
   "id": "a6c0c7c2",
   "metadata": {},
   "outputs": [
    {
     "data": {
      "image/png": "[encoded data removed]",
      "text/plain": [
       "<Figure size 1000x500 with 1 Axes>"
      ]
     },
     "metadata": {},
     "output_type": "display_data"
    }
   ],
   "source": [
    "matrix_veider_val2 = confusion_matrix(y_val, predictions_val_veider2)\n",
    "\n",
    "fig, axes = plt.subplots(1, figsize=(10, 5))\n",
    "\n",
    "s_veider2 = sns.heatmap(matrix_veider_val2, cmap='crest', annot=True, annot_kws={\"fontsize\":16}, cbar=False, fmt=\"d\", xticklabels=[\"ei\", \"jah\"], yticklabels=[\"ei\", \"jah\"]);\n",
    "s_veider2.set_ylabel(\"Tegelikud märgendid\", fontsize=13);\n",
    "s_veider2.set_xlabel(\"Ennustatud märgendid\", fontsize=13);\n",
    "s_veider2.set_title(\"Segadusmaatriks valideerimisandmestikul\");"
   ]
  },
  {
   "cell_type": "code",
   "execution_count": 87,
   "id": "a6ac3bcd-873c-4cf2-8e85-5f8ab37c6711",
   "metadata": {},
   "outputs": [],
   "source": [
    "fig = s_veider2.get_figure()\n",
    "fig.savefig(\"val_1.png\")"
   ]
  },
  {
   "cell_type": "code",
   "execution_count": 88,
   "id": "8540577e",
   "metadata": {},
   "outputs": [
    {
     "data": {
      "text/html": [
       "<style>#sk-container-id-6 {color: black;}#sk-container-id-6 pre{padding: 0;}#sk-container-id-6 div.sk-toggleable {background-color: white;}#sk-container-id-6 label.sk-toggleable__label {cursor: pointer;display: block;width: 100%;margin-bottom: 0;padding: 0.3em;box-sizing: border-box;text-align: center;}#sk-container-id-6 label.sk-toggleable__label-arrow:before {content: \"▸\";float: left;margin-right: 0.25em;color: #696969;}#sk-container-id-6 label.sk-toggleable__label-arrow:hover:before {color: black;}#sk-container-id-6 div.sk-estimator:hover label.sk-toggleable__label-arrow:before {color: black;}#sk-container-id-6 div.sk-toggleable__content {max-height: 0;max-width: 0;overflow: hidden;text-align: left;background-color: #f0f8ff;}#sk-container-id-6 div.sk-toggleable__content pre {margin: 0.2em;color: black;border-radius: 0.25em;background-color: #f0f8ff;}#sk-container-id-6 input.sk-toggleable__control:checked~div.sk-toggleable__content {max-height: 200px;max-width: 100%;overflow: auto;}#sk-container-id-6 input.sk-toggleable__control:checked~label.sk-toggleable__label-arrow:before {content: \"▾\";}#sk-container-id-6 div.sk-estimator input.sk-toggleable__control:checked~label.sk-toggleable__label {background-color: #d4ebff;}#sk-container-id-6 div.sk-label input.sk-toggleable__control:checked~label.sk-toggleable__label {background-color: #d4ebff;}#sk-container-id-6 input.sk-hidden--visually {border: 0;clip: rect(1px 1px 1px 1px);clip: rect(1px, 1px, 1px, 1px);height: 1px;margin: -1px;overflow: hidden;padding: 0;position: absolute;width: 1px;}#sk-container-id-6 div.sk-estimator {font-family: monospace;background-color: #f0f8ff;border: 1px dotted black;border-radius: 0.25em;box-sizing: border-box;margin-bottom: 0.5em;}#sk-container-id-6 div.sk-estimator:hover {background-color: #d4ebff;}#sk-container-id-6 div.sk-parallel-item::after {content: \"\";width: 100%;border-bottom: 1px solid gray;flex-grow: 1;}#sk-container-id-6 div.sk-label:hover label.sk-toggleable__label {background-color: #d4ebff;}#sk-container-id-6 div.sk-serial::before {content: \"\";position: absolute;border-left: 1px solid gray;box-sizing: border-box;top: 0;bottom: 0;left: 50%;z-index: 0;}#sk-container-id-6 div.sk-serial {display: flex;flex-direction: column;align-items: center;background-color: white;padding-right: 0.2em;padding-left: 0.2em;position: relative;}#sk-container-id-6 div.sk-item {position: relative;z-index: 1;}#sk-container-id-6 div.sk-parallel {display: flex;align-items: stretch;justify-content: center;background-color: white;position: relative;}#sk-container-id-6 div.sk-item::before, #sk-container-id-6 div.sk-parallel-item::before {content: \"\";position: absolute;border-left: 1px solid gray;box-sizing: border-box;top: 0;bottom: 0;left: 50%;z-index: -1;}#sk-container-id-6 div.sk-parallel-item {display: flex;flex-direction: column;z-index: 1;position: relative;background-color: white;}#sk-container-id-6 div.sk-parallel-item:first-child::after {align-self: flex-end;width: 50%;}#sk-container-id-6 div.sk-parallel-item:last-child::after {align-self: flex-start;width: 50%;}#sk-container-id-6 div.sk-parallel-item:only-child::after {width: 0;}#sk-container-id-6 div.sk-dashed-wrapped {border: 1px dashed gray;margin: 0 0.4em 0.5em 0.4em;box-sizing: border-box;padding-bottom: 0.4em;background-color: white;}#sk-container-id-6 div.sk-label label {font-family: monospace;font-weight: bold;display: inline-block;line-height: 1.2em;}#sk-container-id-6 div.sk-label-container {text-align: center;}#sk-container-id-6 div.sk-container {/* jupyter's `normalize.less` sets `[hidden] { display: none; }` but bootstrap.min.css set `[hidden] { display: none !important; }` so we also need the `!important` here to be able to override the default hidden behavior on the sphinx rendered scikit-learn.org. See: https://github.com/scikit-learn/scikit-learn/issues/21755 */display: inline-block !important;position: relative;}#sk-container-id-6 div.sk-text-repr-fallback {display: none;}</style><div id=\"sk-container-id-6\" class=\"sk-top-container\"><div class=\"sk-text-repr-fallback\"><pre>LogisticRegression(C=10)</pre><b>In a Jupyter environment, please rerun this cell to show the HTML representation or trust the notebook. <br />On GitHub, the HTML representation is unable to render, please try loading this page with nbviewer.org.</b></div><div class=\"sk-container\" hidden><div class=\"sk-item\"><div class=\"sk-estimator sk-toggleable\"><input class=\"sk-toggleable__control sk-hidden--visually\" id=\"sk-estimator-id-6\" type=\"checkbox\" checked><label for=\"sk-estimator-id-6\" class=\"sk-toggleable__label sk-toggleable__label-arrow\">LogisticRegression</label><div class=\"sk-toggleable__content\"><pre>LogisticRegression(C=10)</pre></div></div></div></div></div>"
      ],
      "text/plain": [
       "LogisticRegression(C=10)"
      ]
     },
     "execution_count": 88,
     "metadata": {},
     "output_type": "execute_result"
    }
   ],
   "source": [
    "labels_veider2 = df_annotated_uus['on_symptom']\n",
    "features_veider2 = df_to_vec(df_annotated_uus, 'lause')\n",
    "\n",
    "model_veider2 = LogisticRegression(C=10)\n",
    "model_veider2.fit(features_veider2, labels_veider2)"
   ]
  },
  {
   "cell_type": "code",
   "execution_count": 90,
   "id": "37a5c36c",
   "metadata": {},
   "outputs": [],
   "source": [
    "predictions_db_test_uus = model_veider2.predict(lausete_vektorid_db_test)\n",
    "predictions_proba_test_uus = model_veider2.predict_proba(lausete_vektorid_db_test)"
   ]
  },
  {
   "cell_type": "code",
   "execution_count": 92,
   "id": "5c0a1bed",
   "metadata": {},
   "outputs": [],
   "source": [
    "df_db_test['on_symptom_proba_uus'] = predictions_proba_test_uus[:,1]"
   ]
  },
  {
   "cell_type": "code",
   "execution_count": 93,
   "id": "86bc90e8",
   "metadata": {},
   "outputs": [],
   "source": [
    "vähimad_db_test_uus = df_db_test.sort_values(by=['on_symptom_proba_uus'])[:40]"
   ]
  },
  {
   "cell_type": "code",
   "execution_count": 94,
   "id": "2c4fedde",
   "metadata": {},
   "outputs": [],
   "source": [
    "suurimad_db_test_uus = df_db_test.sort_values(by=['on_symptom_proba_uus'])[-40:]"
   ]
  },
  {
   "cell_type": "code",
   "execution_count": 95,
   "id": "ba92e062-ea1b-4128-9b76-0d62c7c5cd02",
   "metadata": {},
   "outputs": [],
   "source": [
    "suurimad_db_test_uus.to_excel('suurimad_db_test_uus.xlsx')"
   ]
  },
  {
   "cell_type": "markdown",
   "id": "cbf3f694-8105-4219-9a09-1b0c012532bf",
   "metadata": {},
   "source": [
    "### Andmebaasist lausete pärimine ja dataframe´i loomine"
   ]
  },
  {
   "cell_type": "code",
   "execution_count": 99,
   "id": "92329f8e-1c32-41fe-91c7-817c2d0d7f67",
   "metadata": {},
   "outputs": [],
   "source": [
    "conn = psycopg2.connect(database = os.getenv(\"DATABASE\"), \n",
    "                        user = os.getenv(\"USER\"), \n",
    "                        host= os.getenv(\"HOST\"),\n",
    "                        password = os.getenv(\"PASSWORD\"),\n",
    "                        port = os.getenv(\"PORT\"))"
   ]
  },
  {
   "cell_type": "code",
   "execution_count": 100,
   "id": "41f7cfcb-e41b-4313-a742-efb7add88664",
   "metadata": {},
   "outputs": [],
   "source": [
    "cur = conn.cursor()\n",
    "\n",
    "# Execute a query\n",
    "cur.execute(\"SELECT id, tekst_id, lause FROM user_kristel.esmase_prodroomi_laused WHERE NOT lower(lause::text) SIMILAR TO '%(veider|veidr|veid)%';\")\n",
    "\n",
    "# Retrieve query results\n",
    "records = cur.fetchall()"
   ]
  },
  {
   "cell_type": "code",
   "execution_count": 101,
   "id": "8fa69a17-3d7b-4e65-8e49-02e05fff97aa",
   "metadata": {},
   "outputs": [],
   "source": [
    "conn.commit()\n",
    "conn.close()"
   ]
  },
  {
   "cell_type": "code",
   "execution_count": 103,
   "id": "88a92d74-8050-40a3-b7b2-d3f80187306a",
   "metadata": {},
   "outputs": [],
   "source": [
    "df_db_all = pd.DataFrame(records)"
   ]
  },
  {
   "cell_type": "code",
   "execution_count": 105,
   "id": "d857b4de-1719-467f-b880-7bf9f6d0cfae",
   "metadata": {},
   "outputs": [],
   "source": [
    "df_db_all['puhastatud'] = df_db_all[2].apply(puhasta)\n",
    "df_db_all['puhastatud'] = df_db_all['puhastatud'].apply(lambda x: x.lower())\n",
    "df_db_all.drop_duplicates(inplace=True, subset=['puhastatud'])\n",
    "df_db_all = df_db_all.drop('puhastatud', axis=1)"
   ]
  },
  {
   "cell_type": "markdown",
   "id": "77b22049-eca5-4c63-9d26-8a8484e3fba9",
   "metadata": {},
   "source": [
    "### Esimene kord 150 suurema tõenäosusega lauset"
   ]
  },
  {
   "cell_type": "code",
   "execution_count": 106,
   "id": "7bc46acf-b2d8-4fd6-93e1-b82e7b943c5e",
   "metadata": {},
   "outputs": [
    {
     "name": "stdout",
     "output_type": "stream",
     "text": [
      "Algselt andmebaasi lausetes:  20197\n",
      "Pärast andmebaasi lausetes:  20197\n"
     ]
    }
   ],
   "source": [
    "top_300_1 = df_to_pred(df_db_all, 'data2_2.xlsx', 'db_all_suurimad_300_1.xlsx', model_veider2)"
   ]
  },
  {
   "cell_type": "markdown",
   "id": "32ff0587-f888-48c4-8403-ea960fd8f04e",
   "metadata": {},
   "source": [
    "## Uute lisa-annotatsioonidega mudeli treenimine vol.1"
   ]
  },
  {
   "cell_type": "code",
   "execution_count": 109,
   "id": "5f920864-84bf-43c6-a3ab-440867094479",
   "metadata": {},
   "outputs": [],
   "source": [
    "df_annotated_1 = pd.read_excel('data3_3.xlsx', index_col=0)"
   ]
  },
  {
   "cell_type": "code",
   "execution_count": 110,
   "id": "de129bf6-0da8-40f8-857b-e68182774113",
   "metadata": {},
   "outputs": [
    {
     "data": {
      "text/plain": [
       "on_symptom\n",
       "0    422\n",
       "1     55\n",
       "dtype: int64"
      ]
     },
     "execution_count": 110,
     "metadata": {},
     "output_type": "execute_result"
    }
   ],
   "source": [
    "df_annotated_1.groupby(\"on_symptom\").size()"
   ]
  },
  {
   "cell_type": "code",
   "execution_count": 111,
   "id": "e3ce8c6b-33e6-41a7-bd37-4c3e1c063176",
   "metadata": {},
   "outputs": [],
   "source": [
    "X_train, y_train, X_test, y_test, X_val, y_val = df_to_train_data(df_annotated_1)"
   ]
  },
  {
   "cell_type": "code",
   "execution_count": 112,
   "id": "3645584c-bd0b-4f03-b838-fa639acbc03b",
   "metadata": {},
   "outputs": [
    {
     "name": "stdout",
     "output_type": "stream",
     "text": [
      "Alganmestiku suurus: 477\n",
      "Treeningandmestiku suurus: 333\n",
      "Testandmestiku suurus: 72\n",
      "Valideerimisandmestiku suurus: 72\n"
     ]
    }
   ],
   "source": [
    "print(f\"Alganmestiku suurus: {len(df_annotated_1)}\")\n",
    "print(f\"Treeningandmestiku suurus: {len(X_train)}\")\n",
    "print(f\"Testandmestiku suurus: {len(X_test)}\")\n",
    "print(f\"Valideerimisandmestiku suurus: {len(X_val)}\")"
   ]
  },
  {
   "cell_type": "code",
   "execution_count": 113,
   "id": "0d0fa9d2-a6fc-41cd-842b-d6949909da74",
   "metadata": {},
   "outputs": [
    {
     "data": {
      "text/html": [
       "<style>#sk-container-id-7 {color: black;}#sk-container-id-7 pre{padding: 0;}#sk-container-id-7 div.sk-toggleable {background-color: white;}#sk-container-id-7 label.sk-toggleable__label {cursor: pointer;display: block;width: 100%;margin-bottom: 0;padding: 0.3em;box-sizing: border-box;text-align: center;}#sk-container-id-7 label.sk-toggleable__label-arrow:before {content: \"▸\";float: left;margin-right: 0.25em;color: #696969;}#sk-container-id-7 label.sk-toggleable__label-arrow:hover:before {color: black;}#sk-container-id-7 div.sk-estimator:hover label.sk-toggleable__label-arrow:before {color: black;}#sk-container-id-7 div.sk-toggleable__content {max-height: 0;max-width: 0;overflow: hidden;text-align: left;background-color: #f0f8ff;}#sk-container-id-7 div.sk-toggleable__content pre {margin: 0.2em;color: black;border-radius: 0.25em;background-color: #f0f8ff;}#sk-container-id-7 input.sk-toggleable__control:checked~div.sk-toggleable__content {max-height: 200px;max-width: 100%;overflow: auto;}#sk-container-id-7 input.sk-toggleable__control:checked~label.sk-toggleable__label-arrow:before {content: \"▾\";}#sk-container-id-7 div.sk-estimator input.sk-toggleable__control:checked~label.sk-toggleable__label {background-color: #d4ebff;}#sk-container-id-7 div.sk-label input.sk-toggleable__control:checked~label.sk-toggleable__label {background-color: #d4ebff;}#sk-container-id-7 input.sk-hidden--visually {border: 0;clip: rect(1px 1px 1px 1px);clip: rect(1px, 1px, 1px, 1px);height: 1px;margin: -1px;overflow: hidden;padding: 0;position: absolute;width: 1px;}#sk-container-id-7 div.sk-estimator {font-family: monospace;background-color: #f0f8ff;border: 1px dotted black;border-radius: 0.25em;box-sizing: border-box;margin-bottom: 0.5em;}#sk-container-id-7 div.sk-estimator:hover {background-color: #d4ebff;}#sk-container-id-7 div.sk-parallel-item::after {content: \"\";width: 100%;border-bottom: 1px solid gray;flex-grow: 1;}#sk-container-id-7 div.sk-label:hover label.sk-toggleable__label {background-color: #d4ebff;}#sk-container-id-7 div.sk-serial::before {content: \"\";position: absolute;border-left: 1px solid gray;box-sizing: border-box;top: 0;bottom: 0;left: 50%;z-index: 0;}#sk-container-id-7 div.sk-serial {display: flex;flex-direction: column;align-items: center;background-color: white;padding-right: 0.2em;padding-left: 0.2em;position: relative;}#sk-container-id-7 div.sk-item {position: relative;z-index: 1;}#sk-container-id-7 div.sk-parallel {display: flex;align-items: stretch;justify-content: center;background-color: white;position: relative;}#sk-container-id-7 div.sk-item::before, #sk-container-id-7 div.sk-parallel-item::before {content: \"\";position: absolute;border-left: 1px solid gray;box-sizing: border-box;top: 0;bottom: 0;left: 50%;z-index: -1;}#sk-container-id-7 div.sk-parallel-item {display: flex;flex-direction: column;z-index: 1;position: relative;background-color: white;}#sk-container-id-7 div.sk-parallel-item:first-child::after {align-self: flex-end;width: 50%;}#sk-container-id-7 div.sk-parallel-item:last-child::after {align-self: flex-start;width: 50%;}#sk-container-id-7 div.sk-parallel-item:only-child::after {width: 0;}#sk-container-id-7 div.sk-dashed-wrapped {border: 1px dashed gray;margin: 0 0.4em 0.5em 0.4em;box-sizing: border-box;padding-bottom: 0.4em;background-color: white;}#sk-container-id-7 div.sk-label label {font-family: monospace;font-weight: bold;display: inline-block;line-height: 1.2em;}#sk-container-id-7 div.sk-label-container {text-align: center;}#sk-container-id-7 div.sk-container {/* jupyter's `normalize.less` sets `[hidden] { display: none; }` but bootstrap.min.css set `[hidden] { display: none !important; }` so we also need the `!important` here to be able to override the default hidden behavior on the sphinx rendered scikit-learn.org. See: https://github.com/scikit-learn/scikit-learn/issues/21755 */display: inline-block !important;position: relative;}#sk-container-id-7 div.sk-text-repr-fallback {display: none;}</style><div id=\"sk-container-id-7\" class=\"sk-top-container\"><div class=\"sk-text-repr-fallback\"><pre>LogisticRegression(C=10)</pre><b>In a Jupyter environment, please rerun this cell to show the HTML representation or trust the notebook. <br />On GitHub, the HTML representation is unable to render, please try loading this page with nbviewer.org.</b></div><div class=\"sk-container\" hidden><div class=\"sk-item\"><div class=\"sk-estimator sk-toggleable\"><input class=\"sk-toggleable__control sk-hidden--visually\" id=\"sk-estimator-id-7\" type=\"checkbox\" checked><label for=\"sk-estimator-id-7\" class=\"sk-toggleable__label sk-toggleable__label-arrow\">LogisticRegression</label><div class=\"sk-toggleable__content\"><pre>LogisticRegression(C=10)</pre></div></div></div></div></div>"
      ],
      "text/plain": [
       "LogisticRegression(C=10)"
      ]
     },
     "execution_count": 113,
     "metadata": {},
     "output_type": "execute_result"
    }
   ],
   "source": [
    "model_veider3 = LogisticRegression(C=10)\n",
    "model_veider3.fit(X_train, y_train)"
   ]
  },
  {
   "cell_type": "code",
   "execution_count": 115,
   "id": "90980355-ed25-43a0-9da6-754931cef2d6",
   "metadata": {},
   "outputs": [],
   "source": [
    "predictions_val_veider3 = model_veider3.predict(X_val)"
   ]
  },
  {
   "cell_type": "code",
   "execution_count": 116,
   "id": "e189cb51-715c-4f33-9aed-b105ef0874e4",
   "metadata": {},
   "outputs": [
    {
     "name": "stdout",
     "output_type": "stream",
     "text": [
      "              precision    recall  f1-score   support\n",
      "\n",
      "           0       0.92      0.92      0.92        63\n",
      "           1       0.44      0.44      0.44         9\n",
      "\n",
      "    accuracy                           0.86        72\n",
      "   macro avg       0.68      0.68      0.68        72\n",
      "weighted avg       0.86      0.86      0.86        72\n",
      "\n"
     ]
    }
   ],
   "source": [
    "classification_report_val_veider3 = classification_report(y_val, predictions_val_veider3)\n",
    "print(classification_report_val_veider3)"
   ]
  },
  {
   "cell_type": "code",
   "execution_count": 117,
   "id": "483851d9-40a9-459a-8468-1bf1b4a94345",
   "metadata": {},
   "outputs": [],
   "source": [
    "classification_report_val_veider3 = classification_report(y_val, predictions_val_veider3, output_dict=True)"
   ]
  },
  {
   "cell_type": "code",
   "execution_count": 118,
   "id": "e28c5d0e-9ae0-4b64-bf46-2f3952072f63",
   "metadata": {},
   "outputs": [],
   "source": [
    "classification_reports.append(classification_report_val_veider3)"
   ]
  },
  {
   "cell_type": "code",
   "execution_count": 119,
   "id": "873c580f-5925-474c-9b58-caef36f82f44",
   "metadata": {},
   "outputs": [
    {
     "data": {
      "image/png": "[encoded data removed]",
      "text/plain": [
       "<Figure size 1000x500 with 1 Axes>"
      ]
     },
     "metadata": {},
     "output_type": "display_data"
    }
   ],
   "source": [
    "matrix6 = confusion_matrix(y_val, predictions_val_veider3)\n",
    "\n",
    "fig, axes = plt.subplots(1, figsize=(10, 5))\n",
    "\n",
    "s6 = sns.heatmap(matrix6, cmap='crest', annot=True, annot_kws={\"fontsize\":16}, cbar=False, fmt=\"d\", xticklabels=[\"ei\", \"jah\"], yticklabels=[\"ei\", \"jah\"]);\n",
    "s6.set_ylabel(\"Tegelikud märgendid\", fontsize=13);\n",
    "s6.set_xlabel(\"Ennustatud märgendid\", fontsize=13);\n",
    "s6.set_title(\"Segadusmaatriks valideerimisandmestikul\");"
   ]
  },
  {
   "cell_type": "code",
   "execution_count": 120,
   "id": "f634ec15-9f2a-4bf2-8523-f10571fe6476",
   "metadata": {},
   "outputs": [],
   "source": [
    "fig = s6.get_figure()\n",
    "fig.savefig(\"val_2.png\")"
   ]
  },
  {
   "cell_type": "code",
   "execution_count": 121,
   "id": "a1ed5dd4-acc2-4e6d-b70c-ba789f43f7e5",
   "metadata": {},
   "outputs": [
    {
     "data": {
      "text/html": [
       "<style>#sk-container-id-8 {color: black;}#sk-container-id-8 pre{padding: 0;}#sk-container-id-8 div.sk-toggleable {background-color: white;}#sk-container-id-8 label.sk-toggleable__label {cursor: pointer;display: block;width: 100%;margin-bottom: 0;padding: 0.3em;box-sizing: border-box;text-align: center;}#sk-container-id-8 label.sk-toggleable__label-arrow:before {content: \"▸\";float: left;margin-right: 0.25em;color: #696969;}#sk-container-id-8 label.sk-toggleable__label-arrow:hover:before {color: black;}#sk-container-id-8 div.sk-estimator:hover label.sk-toggleable__label-arrow:before {color: black;}#sk-container-id-8 div.sk-toggleable__content {max-height: 0;max-width: 0;overflow: hidden;text-align: left;background-color: #f0f8ff;}#sk-container-id-8 div.sk-toggleable__content pre {margin: 0.2em;color: black;border-radius: 0.25em;background-color: #f0f8ff;}#sk-container-id-8 input.sk-toggleable__control:checked~div.sk-toggleable__content {max-height: 200px;max-width: 100%;overflow: auto;}#sk-container-id-8 input.sk-toggleable__control:checked~label.sk-toggleable__label-arrow:before {content: \"▾\";}#sk-container-id-8 div.sk-estimator input.sk-toggleable__control:checked~label.sk-toggleable__label {background-color: #d4ebff;}#sk-container-id-8 div.sk-label input.sk-toggleable__control:checked~label.sk-toggleable__label {background-color: #d4ebff;}#sk-container-id-8 input.sk-hidden--visually {border: 0;clip: rect(1px 1px 1px 1px);clip: rect(1px, 1px, 1px, 1px);height: 1px;margin: -1px;overflow: hidden;padding: 0;position: absolute;width: 1px;}#sk-container-id-8 div.sk-estimator {font-family: monospace;background-color: #f0f8ff;border: 1px dotted black;border-radius: 0.25em;box-sizing: border-box;margin-bottom: 0.5em;}#sk-container-id-8 div.sk-estimator:hover {background-color: #d4ebff;}#sk-container-id-8 div.sk-parallel-item::after {content: \"\";width: 100%;border-bottom: 1px solid gray;flex-grow: 1;}#sk-container-id-8 div.sk-label:hover label.sk-toggleable__label {background-color: #d4ebff;}#sk-container-id-8 div.sk-serial::before {content: \"\";position: absolute;border-left: 1px solid gray;box-sizing: border-box;top: 0;bottom: 0;left: 50%;z-index: 0;}#sk-container-id-8 div.sk-serial {display: flex;flex-direction: column;align-items: center;background-color: white;padding-right: 0.2em;padding-left: 0.2em;position: relative;}#sk-container-id-8 div.sk-item {position: relative;z-index: 1;}#sk-container-id-8 div.sk-parallel {display: flex;align-items: stretch;justify-content: center;background-color: white;position: relative;}#sk-container-id-8 div.sk-item::before, #sk-container-id-8 div.sk-parallel-item::before {content: \"\";position: absolute;border-left: 1px solid gray;box-sizing: border-box;top: 0;bottom: 0;left: 50%;z-index: -1;}#sk-container-id-8 div.sk-parallel-item {display: flex;flex-direction: column;z-index: 1;position: relative;background-color: white;}#sk-container-id-8 div.sk-parallel-item:first-child::after {align-self: flex-end;width: 50%;}#sk-container-id-8 div.sk-parallel-item:last-child::after {align-self: flex-start;width: 50%;}#sk-container-id-8 div.sk-parallel-item:only-child::after {width: 0;}#sk-container-id-8 div.sk-dashed-wrapped {border: 1px dashed gray;margin: 0 0.4em 0.5em 0.4em;box-sizing: border-box;padding-bottom: 0.4em;background-color: white;}#sk-container-id-8 div.sk-label label {font-family: monospace;font-weight: bold;display: inline-block;line-height: 1.2em;}#sk-container-id-8 div.sk-label-container {text-align: center;}#sk-container-id-8 div.sk-container {/* jupyter's `normalize.less` sets `[hidden] { display: none; }` but bootstrap.min.css set `[hidden] { display: none !important; }` so we also need the `!important` here to be able to override the default hidden behavior on the sphinx rendered scikit-learn.org. See: https://github.com/scikit-learn/scikit-learn/issues/21755 */display: inline-block !important;position: relative;}#sk-container-id-8 div.sk-text-repr-fallback {display: none;}</style><div id=\"sk-container-id-8\" class=\"sk-top-container\"><div class=\"sk-text-repr-fallback\"><pre>LogisticRegression(C=10)</pre><b>In a Jupyter environment, please rerun this cell to show the HTML representation or trust the notebook. <br />On GitHub, the HTML representation is unable to render, please try loading this page with nbviewer.org.</b></div><div class=\"sk-container\" hidden><div class=\"sk-item\"><div class=\"sk-estimator sk-toggleable\"><input class=\"sk-toggleable__control sk-hidden--visually\" id=\"sk-estimator-id-8\" type=\"checkbox\" checked><label for=\"sk-estimator-id-8\" class=\"sk-toggleable__label sk-toggleable__label-arrow\">LogisticRegression</label><div class=\"sk-toggleable__content\"><pre>LogisticRegression(C=10)</pre></div></div></div></div></div>"
      ],
      "text/plain": [
       "LogisticRegression(C=10)"
      ]
     },
     "execution_count": 121,
     "metadata": {},
     "output_type": "execute_result"
    }
   ],
   "source": [
    "labels_veider3 = df_annotated_1['on_symptom']\n",
    "features_veider3 = df_to_vec(df_annotated_1, 'lause')\n",
    "\n",
    "model_veider3 = LogisticRegression(C=10)\n",
    "model_veider3.fit(features_veider3, labels_veider3)"
   ]
  },
  {
   "cell_type": "markdown",
   "id": "25c2a9b5-5083-47f7-85e3-f9242b5f09c9",
   "metadata": {},
   "source": [
    "## Teine kord 150 suurima tõenäosusega lauset andmebaasist"
   ]
  },
  {
   "cell_type": "code",
   "execution_count": 123,
   "id": "d04d309b-bfd2-485f-b777-fedfafef2aca",
   "metadata": {},
   "outputs": [
    {
     "name": "stdout",
     "output_type": "stream",
     "text": [
      "Algselt andmebaasi lausetes:  20197\n",
      "Pärast andmebaasi lausetes:  19897\n"
     ]
    }
   ],
   "source": [
    "top_300_2 = df_to_pred(df_db_all, 'data3_3.xlsx', 'db_all_suurimad_300_2.xlsx', model_veider3)"
   ]
  },
  {
   "cell_type": "markdown",
   "id": "7c391155-9a29-45fc-aef2-28d94bdcc277",
   "metadata": {},
   "source": [
    "## Uute lisa-annotatsioonidega mudeli treenimine vol.2"
   ]
  },
  {
   "cell_type": "code",
   "execution_count": 125,
   "id": "14bbe271-1806-463e-8d04-ff8bb875cad3",
   "metadata": {},
   "outputs": [],
   "source": [
    "df_annotated_2 = pd.read_excel('data4_3.xlsx', index_col=0)"
   ]
  },
  {
   "cell_type": "code",
   "execution_count": 126,
   "id": "908b8ffb-21f3-4c0d-836e-832f4cd16b5c",
   "metadata": {},
   "outputs": [
    {
     "data": {
      "text/plain": [
       "on_symptom\n",
       "0    708\n",
       "1     69\n",
       "dtype: int64"
      ]
     },
     "execution_count": 126,
     "metadata": {},
     "output_type": "execute_result"
    }
   ],
   "source": [
    "df_annotated_2.groupby(\"on_symptom\").size()"
   ]
  },
  {
   "cell_type": "code",
   "execution_count": 127,
   "id": "90aad19c-b5c9-4449-9330-45c15e8bb24e",
   "metadata": {},
   "outputs": [],
   "source": [
    "X_train, y_train, X_test, y_test, X_val, y_val = df_to_train_data(df_annotated_2)"
   ]
  },
  {
   "cell_type": "code",
   "execution_count": 128,
   "id": "df42dcea-5295-4d73-9145-77e4edba3802",
   "metadata": {},
   "outputs": [
    {
     "name": "stdout",
     "output_type": "stream",
     "text": [
      "Alganmestiku suurus: 777\n",
      "Treeningandmestiku suurus: 543\n",
      "Testandmestiku suurus: 117\n",
      "Valideerimisandmestiku suurus: 117\n"
     ]
    }
   ],
   "source": [
    "print(f\"Alganmestiku suurus: {len(df_annotated_2)}\")\n",
    "print(f\"Treeningandmestiku suurus: {len(X_train)}\")\n",
    "print(f\"Testandmestiku suurus: {len(X_test)}\")\n",
    "print(f\"Valideerimisandmestiku suurus: {len(X_val)}\")"
   ]
  },
  {
   "cell_type": "code",
   "execution_count": 129,
   "id": "64fffe62-9183-44ca-8741-bc0b0caf0121",
   "metadata": {},
   "outputs": [
    {
     "data": {
      "text/html": [
       "<style>#sk-container-id-9 {color: black;}#sk-container-id-9 pre{padding: 0;}#sk-container-id-9 div.sk-toggleable {background-color: white;}#sk-container-id-9 label.sk-toggleable__label {cursor: pointer;display: block;width: 100%;margin-bottom: 0;padding: 0.3em;box-sizing: border-box;text-align: center;}#sk-container-id-9 label.sk-toggleable__label-arrow:before {content: \"▸\";float: left;margin-right: 0.25em;color: #696969;}#sk-container-id-9 label.sk-toggleable__label-arrow:hover:before {color: black;}#sk-container-id-9 div.sk-estimator:hover label.sk-toggleable__label-arrow:before {color: black;}#sk-container-id-9 div.sk-toggleable__content {max-height: 0;max-width: 0;overflow: hidden;text-align: left;background-color: #f0f8ff;}#sk-container-id-9 div.sk-toggleable__content pre {margin: 0.2em;color: black;border-radius: 0.25em;background-color: #f0f8ff;}#sk-container-id-9 input.sk-toggleable__control:checked~div.sk-toggleable__content {max-height: 200px;max-width: 100%;overflow: auto;}#sk-container-id-9 input.sk-toggleable__control:checked~label.sk-toggleable__label-arrow:before {content: \"▾\";}#sk-container-id-9 div.sk-estimator input.sk-toggleable__control:checked~label.sk-toggleable__label {background-color: #d4ebff;}#sk-container-id-9 div.sk-label input.sk-toggleable__control:checked~label.sk-toggleable__label {background-color: #d4ebff;}#sk-container-id-9 input.sk-hidden--visually {border: 0;clip: rect(1px 1px 1px 1px);clip: rect(1px, 1px, 1px, 1px);height: 1px;margin: -1px;overflow: hidden;padding: 0;position: absolute;width: 1px;}#sk-container-id-9 div.sk-estimator {font-family: monospace;background-color: #f0f8ff;border: 1px dotted black;border-radius: 0.25em;box-sizing: border-box;margin-bottom: 0.5em;}#sk-container-id-9 div.sk-estimator:hover {background-color: #d4ebff;}#sk-container-id-9 div.sk-parallel-item::after {content: \"\";width: 100%;border-bottom: 1px solid gray;flex-grow: 1;}#sk-container-id-9 div.sk-label:hover label.sk-toggleable__label {background-color: #d4ebff;}#sk-container-id-9 div.sk-serial::before {content: \"\";position: absolute;border-left: 1px solid gray;box-sizing: border-box;top: 0;bottom: 0;left: 50%;z-index: 0;}#sk-container-id-9 div.sk-serial {display: flex;flex-direction: column;align-items: center;background-color: white;padding-right: 0.2em;padding-left: 0.2em;position: relative;}#sk-container-id-9 div.sk-item {position: relative;z-index: 1;}#sk-container-id-9 div.sk-parallel {display: flex;align-items: stretch;justify-content: center;background-color: white;position: relative;}#sk-container-id-9 div.sk-item::before, #sk-container-id-9 div.sk-parallel-item::before {content: \"\";position: absolute;border-left: 1px solid gray;box-sizing: border-box;top: 0;bottom: 0;left: 50%;z-index: -1;}#sk-container-id-9 div.sk-parallel-item {display: flex;flex-direction: column;z-index: 1;position: relative;background-color: white;}#sk-container-id-9 div.sk-parallel-item:first-child::after {align-self: flex-end;width: 50%;}#sk-container-id-9 div.sk-parallel-item:last-child::after {align-self: flex-start;width: 50%;}#sk-container-id-9 div.sk-parallel-item:only-child::after {width: 0;}#sk-container-id-9 div.sk-dashed-wrapped {border: 1px dashed gray;margin: 0 0.4em 0.5em 0.4em;box-sizing: border-box;padding-bottom: 0.4em;background-color: white;}#sk-container-id-9 div.sk-label label {font-family: monospace;font-weight: bold;display: inline-block;line-height: 1.2em;}#sk-container-id-9 div.sk-label-container {text-align: center;}#sk-container-id-9 div.sk-container {/* jupyter's `normalize.less` sets `[hidden] { display: none; }` but bootstrap.min.css set `[hidden] { display: none !important; }` so we also need the `!important` here to be able to override the default hidden behavior on the sphinx rendered scikit-learn.org. See: https://github.com/scikit-learn/scikit-learn/issues/21755 */display: inline-block !important;position: relative;}#sk-container-id-9 div.sk-text-repr-fallback {display: none;}</style><div id=\"sk-container-id-9\" class=\"sk-top-container\"><div class=\"sk-text-repr-fallback\"><pre>LogisticRegression(C=10)</pre><b>In a Jupyter environment, please rerun this cell to show the HTML representation or trust the notebook. <br />On GitHub, the HTML representation is unable to render, please try loading this page with nbviewer.org.</b></div><div class=\"sk-container\" hidden><div class=\"sk-item\"><div class=\"sk-estimator sk-toggleable\"><input class=\"sk-toggleable__control sk-hidden--visually\" id=\"sk-estimator-id-9\" type=\"checkbox\" checked><label for=\"sk-estimator-id-9\" class=\"sk-toggleable__label sk-toggleable__label-arrow\">LogisticRegression</label><div class=\"sk-toggleable__content\"><pre>LogisticRegression(C=10)</pre></div></div></div></div></div>"
      ],
      "text/plain": [
       "LogisticRegression(C=10)"
      ]
     },
     "execution_count": 129,
     "metadata": {},
     "output_type": "execute_result"
    }
   ],
   "source": [
    "model_veider4 = LogisticRegression(C=10)\n",
    "model_veider4.fit(X_train, y_train)"
   ]
  },
  {
   "cell_type": "code",
   "execution_count": 131,
   "id": "7ff90a83-e424-4b1f-b402-eb6112d8d62d",
   "metadata": {},
   "outputs": [],
   "source": [
    "predictions_val_veider4 = model_veider4.predict(X_val)"
   ]
  },
  {
   "cell_type": "code",
   "execution_count": 132,
   "id": "ecc3ba50-eba7-4790-ae6e-cf6b493bbb2a",
   "metadata": {},
   "outputs": [
    {
     "name": "stdout",
     "output_type": "stream",
     "text": [
      "              precision    recall  f1-score   support\n",
      "\n",
      "           0       0.91      0.96      0.94       106\n",
      "           1       0.20      0.09      0.13        11\n",
      "\n",
      "    accuracy                           0.88       117\n",
      "   macro avg       0.56      0.53      0.53       117\n",
      "weighted avg       0.84      0.88      0.86       117\n",
      "\n"
     ]
    }
   ],
   "source": [
    "classification_report_val_veider4 = classification_report(y_val, predictions_val_veider4)\n",
    "print(classification_report_val_veider4)"
   ]
  },
  {
   "cell_type": "code",
   "execution_count": 133,
   "id": "3b60a7b8-270c-467b-a706-c3f80dd0de6d",
   "metadata": {},
   "outputs": [],
   "source": [
    "classification_report_val_veider4 = classification_report(y_val, predictions_val_veider4, output_dict=True)"
   ]
  },
  {
   "cell_type": "code",
   "execution_count": 134,
   "id": "37a56ca6-0817-430a-a0b2-1026174d9d04",
   "metadata": {},
   "outputs": [],
   "source": [
    "classification_reports.append(classification_report_val_veider4)"
   ]
  },
  {
   "cell_type": "code",
   "execution_count": 135,
   "id": "309de4c0-a776-4a87-bb62-c041529aff2e",
   "metadata": {},
   "outputs": [
    {
     "data": {
      "image/png": "[encoded data removed]",
      "text/plain": [
       "<Figure size 1000x500 with 1 Axes>"
      ]
     },
     "metadata": {},
     "output_type": "display_data"
    }
   ],
   "source": [
    "matrix8 = confusion_matrix(y_val, predictions_val_veider4)\n",
    "\n",
    "fig, axes = plt.subplots(1, figsize=(10, 5))\n",
    "\n",
    "s8 = sns.heatmap(matrix8, cmap='crest', annot=True, annot_kws={\"fontsize\":16}, cbar=False, fmt=\"d\", xticklabels=[\"ei\", \"jah\"], yticklabels=[\"ei\", \"jah\"]);\n",
    "s8.set_ylabel(\"Tegelikud märgendid\", fontsize=13);\n",
    "s8.set_xlabel(\"Ennustatud märgendid\", fontsize=13);\n",
    "s8.set_title(\"Segadusmaatriks valideerimisandmestikul\");"
   ]
  },
  {
   "cell_type": "code",
   "execution_count": 136,
   "id": "dfe807ee-7ffd-4acd-ad2c-b5be46aa062a",
   "metadata": {},
   "outputs": [],
   "source": [
    "fig = s8.get_figure()\n",
    "fig.savefig(\"val_3.png\")"
   ]
  },
  {
   "cell_type": "code",
   "execution_count": 137,
   "id": "920ac5af-44bd-481c-b654-1bf9e02b7b83",
   "metadata": {},
   "outputs": [
    {
     "data": {
      "text/html": [
       "<style>#sk-container-id-10 {color: black;}#sk-container-id-10 pre{padding: 0;}#sk-container-id-10 div.sk-toggleable {background-color: white;}#sk-container-id-10 label.sk-toggleable__label {cursor: pointer;display: block;width: 100%;margin-bottom: 0;padding: 0.3em;box-sizing: border-box;text-align: center;}#sk-container-id-10 label.sk-toggleable__label-arrow:before {content: \"▸\";float: left;margin-right: 0.25em;color: #696969;}#sk-container-id-10 label.sk-toggleable__label-arrow:hover:before {color: black;}#sk-container-id-10 div.sk-estimator:hover label.sk-toggleable__label-arrow:before {color: black;}#sk-container-id-10 div.sk-toggleable__content {max-height: 0;max-width: 0;overflow: hidden;text-align: left;background-color: #f0f8ff;}#sk-container-id-10 div.sk-toggleable__content pre {margin: 0.2em;color: black;border-radius: 0.25em;background-color: #f0f8ff;}#sk-container-id-10 input.sk-toggleable__control:checked~div.sk-toggleable__content {max-height: 200px;max-width: 100%;overflow: auto;}#sk-container-id-10 input.sk-toggleable__control:checked~label.sk-toggleable__label-arrow:before {content: \"▾\";}#sk-container-id-10 div.sk-estimator input.sk-toggleable__control:checked~label.sk-toggleable__label {background-color: #d4ebff;}#sk-container-id-10 div.sk-label input.sk-toggleable__control:checked~label.sk-toggleable__label {background-color: #d4ebff;}#sk-container-id-10 input.sk-hidden--visually {border: 0;clip: rect(1px 1px 1px 1px);clip: rect(1px, 1px, 1px, 1px);height: 1px;margin: -1px;overflow: hidden;padding: 0;position: absolute;width: 1px;}#sk-container-id-10 div.sk-estimator {font-family: monospace;background-color: #f0f8ff;border: 1px dotted black;border-radius: 0.25em;box-sizing: border-box;margin-bottom: 0.5em;}#sk-container-id-10 div.sk-estimator:hover {background-color: #d4ebff;}#sk-container-id-10 div.sk-parallel-item::after {content: \"\";width: 100%;border-bottom: 1px solid gray;flex-grow: 1;}#sk-container-id-10 div.sk-label:hover label.sk-toggleable__label {background-color: #d4ebff;}#sk-container-id-10 div.sk-serial::before {content: \"\";position: absolute;border-left: 1px solid gray;box-sizing: border-box;top: 0;bottom: 0;left: 50%;z-index: 0;}#sk-container-id-10 div.sk-serial {display: flex;flex-direction: column;align-items: center;background-color: white;padding-right: 0.2em;padding-left: 0.2em;position: relative;}#sk-container-id-10 div.sk-item {position: relative;z-index: 1;}#sk-container-id-10 div.sk-parallel {display: flex;align-items: stretch;justify-content: center;background-color: white;position: relative;}#sk-container-id-10 div.sk-item::before, #sk-container-id-10 div.sk-parallel-item::before {content: \"\";position: absolute;border-left: 1px solid gray;box-sizing: border-box;top: 0;bottom: 0;left: 50%;z-index: -1;}#sk-container-id-10 div.sk-parallel-item {display: flex;flex-direction: column;z-index: 1;position: relative;background-color: white;}#sk-container-id-10 div.sk-parallel-item:first-child::after {align-self: flex-end;width: 50%;}#sk-container-id-10 div.sk-parallel-item:last-child::after {align-self: flex-start;width: 50%;}#sk-container-id-10 div.sk-parallel-item:only-child::after {width: 0;}#sk-container-id-10 div.sk-dashed-wrapped {border: 1px dashed gray;margin: 0 0.4em 0.5em 0.4em;box-sizing: border-box;padding-bottom: 0.4em;background-color: white;}#sk-container-id-10 div.sk-label label {font-family: monospace;font-weight: bold;display: inline-block;line-height: 1.2em;}#sk-container-id-10 div.sk-label-container {text-align: center;}#sk-container-id-10 div.sk-container {/* jupyter's `normalize.less` sets `[hidden] { display: none; }` but bootstrap.min.css set `[hidden] { display: none !important; }` so we also need the `!important` here to be able to override the default hidden behavior on the sphinx rendered scikit-learn.org. See: https://github.com/scikit-learn/scikit-learn/issues/21755 */display: inline-block !important;position: relative;}#sk-container-id-10 div.sk-text-repr-fallback {display: none;}</style><div id=\"sk-container-id-10\" class=\"sk-top-container\"><div class=\"sk-text-repr-fallback\"><pre>LogisticRegression(C=10)</pre><b>In a Jupyter environment, please rerun this cell to show the HTML representation or trust the notebook. <br />On GitHub, the HTML representation is unable to render, please try loading this page with nbviewer.org.</b></div><div class=\"sk-container\" hidden><div class=\"sk-item\"><div class=\"sk-estimator sk-toggleable\"><input class=\"sk-toggleable__control sk-hidden--visually\" id=\"sk-estimator-id-10\" type=\"checkbox\" checked><label for=\"sk-estimator-id-10\" class=\"sk-toggleable__label sk-toggleable__label-arrow\">LogisticRegression</label><div class=\"sk-toggleable__content\"><pre>LogisticRegression(C=10)</pre></div></div></div></div></div>"
      ],
      "text/plain": [
       "LogisticRegression(C=10)"
      ]
     },
     "execution_count": 137,
     "metadata": {},
     "output_type": "execute_result"
    }
   ],
   "source": [
    "labels_veider4= df_annotated_2['on_symptom']\n",
    "features_veider4 = df_to_vec(df_annotated_2, 'lause')\n",
    "\n",
    "model_veider4 = LogisticRegression(C=10)\n",
    "model_veider4.fit(features_veider4, labels_veider4)"
   ]
  },
  {
   "cell_type": "markdown",
   "id": "af26467f-e970-465e-8996-e919026c0bcb",
   "metadata": {},
   "source": [
    "## Kolmas kord 150 suurima tõenäosusega lauset andmebaasist"
   ]
  },
  {
   "cell_type": "code",
   "execution_count": 139,
   "id": "cee10502-b68d-4c2a-92d9-260b459442e6",
   "metadata": {},
   "outputs": [
    {
     "name": "stdout",
     "output_type": "stream",
     "text": [
      "Algselt andmebaasi lausetes:  20197\n",
      "Pärast andmebaasi lausetes:  19597\n"
     ]
    }
   ],
   "source": [
    "top_300_3 = df_to_pred(df_db_all, 'data4_3.xlsx', 'db_all_suurimad_300_3.xlsx', model_veider4)"
   ]
  },
  {
   "cell_type": "markdown",
   "id": "b60f4a4e-ac5f-4725-bf45-e6a4e4ec303b",
   "metadata": {},
   "source": [
    "## Uute lisa-annotatsioonidega mudeli treenimine vol.3"
   ]
  },
  {
   "cell_type": "code",
   "execution_count": 192,
   "id": "7cd26604-c8e5-4b9a-b763-fecac16fdb70",
   "metadata": {},
   "outputs": [],
   "source": [
    "df_annotated_3 = pd.read_excel('data5_3.xlsx', index_col=0)"
   ]
  },
  {
   "cell_type": "code",
   "execution_count": 193,
   "id": "adbb6dc1-d809-4966-bcfc-99f513ba8cf1",
   "metadata": {},
   "outputs": [
    {
     "data": {
      "text/plain": [
       "on_symptom\n",
       "0    727\n",
       "1     71\n",
       "dtype: int64"
      ]
     },
     "execution_count": 193,
     "metadata": {},
     "output_type": "execute_result"
    }
   ],
   "source": [
    "df_annotated_3.groupby(\"on_symptom\").size()"
   ]
  },
  {
   "cell_type": "code",
   "execution_count": 194,
   "id": "e16324cb-3892-4a7b-b353-cd893808dbf6",
   "metadata": {},
   "outputs": [],
   "source": [
    "X_train, y_train, X_test, y_test, X_val, y_val = df_to_train_data(df_annotated_3)"
   ]
  },
  {
   "cell_type": "code",
   "execution_count": 195,
   "id": "a5ef7770-405a-483c-8d33-7583c22b5ad4",
   "metadata": {},
   "outputs": [
    {
     "name": "stdout",
     "output_type": "stream",
     "text": [
      "Alganmestiku suurus: 798\n",
      "Treeningandmestiku suurus: 558\n",
      "Testandmestiku suurus: 120\n",
      "Valideerimisandmestiku suurus: 120\n"
     ]
    }
   ],
   "source": [
    "print(f\"Alganmestiku suurus: {len(df_annotated_3)}\")\n",
    "print(f\"Treeningandmestiku suurus: {len(X_train)}\")\n",
    "print(f\"Testandmestiku suurus: {len(X_test)}\")\n",
    "print(f\"Valideerimisandmestiku suurus: {len(X_val)}\")"
   ]
  },
  {
   "cell_type": "code",
   "execution_count": 196,
   "id": "4cfa2d45-4d00-437a-800e-0ce6c93a4c08",
   "metadata": {},
   "outputs": [
    {
     "data": {
      "text/html": [
       "<style>#sk-container-id-16 {color: black;}#sk-container-id-16 pre{padding: 0;}#sk-container-id-16 div.sk-toggleable {background-color: white;}#sk-container-id-16 label.sk-toggleable__label {cursor: pointer;display: block;width: 100%;margin-bottom: 0;padding: 0.3em;box-sizing: border-box;text-align: center;}#sk-container-id-16 label.sk-toggleable__label-arrow:before {content: \"▸\";float: left;margin-right: 0.25em;color: #696969;}#sk-container-id-16 label.sk-toggleable__label-arrow:hover:before {color: black;}#sk-container-id-16 div.sk-estimator:hover label.sk-toggleable__label-arrow:before {color: black;}#sk-container-id-16 div.sk-toggleable__content {max-height: 0;max-width: 0;overflow: hidden;text-align: left;background-color: #f0f8ff;}#sk-container-id-16 div.sk-toggleable__content pre {margin: 0.2em;color: black;border-radius: 0.25em;background-color: #f0f8ff;}#sk-container-id-16 input.sk-toggleable__control:checked~div.sk-toggleable__content {max-height: 200px;max-width: 100%;overflow: auto;}#sk-container-id-16 input.sk-toggleable__control:checked~label.sk-toggleable__label-arrow:before {content: \"▾\";}#sk-container-id-16 div.sk-estimator input.sk-toggleable__control:checked~label.sk-toggleable__label {background-color: #d4ebff;}#sk-container-id-16 div.sk-label input.sk-toggleable__control:checked~label.sk-toggleable__label {background-color: #d4ebff;}#sk-container-id-16 input.sk-hidden--visually {border: 0;clip: rect(1px 1px 1px 1px);clip: rect(1px, 1px, 1px, 1px);height: 1px;margin: -1px;overflow: hidden;padding: 0;position: absolute;width: 1px;}#sk-container-id-16 div.sk-estimator {font-family: monospace;background-color: #f0f8ff;border: 1px dotted black;border-radius: 0.25em;box-sizing: border-box;margin-bottom: 0.5em;}#sk-container-id-16 div.sk-estimator:hover {background-color: #d4ebff;}#sk-container-id-16 div.sk-parallel-item::after {content: \"\";width: 100%;border-bottom: 1px solid gray;flex-grow: 1;}#sk-container-id-16 div.sk-label:hover label.sk-toggleable__label {background-color: #d4ebff;}#sk-container-id-16 div.sk-serial::before {content: \"\";position: absolute;border-left: 1px solid gray;box-sizing: border-box;top: 0;bottom: 0;left: 50%;z-index: 0;}#sk-container-id-16 div.sk-serial {display: flex;flex-direction: column;align-items: center;background-color: white;padding-right: 0.2em;padding-left: 0.2em;position: relative;}#sk-container-id-16 div.sk-item {position: relative;z-index: 1;}#sk-container-id-16 div.sk-parallel {display: flex;align-items: stretch;justify-content: center;background-color: white;position: relative;}#sk-container-id-16 div.sk-item::before, #sk-container-id-16 div.sk-parallel-item::before {content: \"\";position: absolute;border-left: 1px solid gray;box-sizing: border-box;top: 0;bottom: 0;left: 50%;z-index: -1;}#sk-container-id-16 div.sk-parallel-item {display: flex;flex-direction: column;z-index: 1;position: relative;background-color: white;}#sk-container-id-16 div.sk-parallel-item:first-child::after {align-self: flex-end;width: 50%;}#sk-container-id-16 div.sk-parallel-item:last-child::after {align-self: flex-start;width: 50%;}#sk-container-id-16 div.sk-parallel-item:only-child::after {width: 0;}#sk-container-id-16 div.sk-dashed-wrapped {border: 1px dashed gray;margin: 0 0.4em 0.5em 0.4em;box-sizing: border-box;padding-bottom: 0.4em;background-color: white;}#sk-container-id-16 div.sk-label label {font-family: monospace;font-weight: bold;display: inline-block;line-height: 1.2em;}#sk-container-id-16 div.sk-label-container {text-align: center;}#sk-container-id-16 div.sk-container {/* jupyter's `normalize.less` sets `[hidden] { display: none; }` but bootstrap.min.css set `[hidden] { display: none !important; }` so we also need the `!important` here to be able to override the default hidden behavior on the sphinx rendered scikit-learn.org. See: https://github.com/scikit-learn/scikit-learn/issues/21755 */display: inline-block !important;position: relative;}#sk-container-id-16 div.sk-text-repr-fallback {display: none;}</style><div id=\"sk-container-id-16\" class=\"sk-top-container\"><div class=\"sk-text-repr-fallback\"><pre>LogisticRegression(C=10)</pre><b>In a Jupyter environment, please rerun this cell to show the HTML representation or trust the notebook. <br />On GitHub, the HTML representation is unable to render, please try loading this page with nbviewer.org.</b></div><div class=\"sk-container\" hidden><div class=\"sk-item\"><div class=\"sk-estimator sk-toggleable\"><input class=\"sk-toggleable__control sk-hidden--visually\" id=\"sk-estimator-id-16\" type=\"checkbox\" checked><label for=\"sk-estimator-id-16\" class=\"sk-toggleable__label sk-toggleable__label-arrow\">LogisticRegression</label><div class=\"sk-toggleable__content\"><pre>LogisticRegression(C=10)</pre></div></div></div></div></div>"
      ],
      "text/plain": [
       "LogisticRegression(C=10)"
      ]
     },
     "execution_count": 196,
     "metadata": {},
     "output_type": "execute_result"
    }
   ],
   "source": [
    "model_veider5 = LogisticRegression(C=10)\n",
    "model_veider5.fit(X_train, y_train)"
   ]
  },
  {
   "cell_type": "code",
   "execution_count": 197,
   "id": "0395f494-6403-4a1f-b0f6-f50f97b99233",
   "metadata": {},
   "outputs": [],
   "source": [
    "predictions_val_veider5 = model_veider5.predict(X_val)"
   ]
  },
  {
   "cell_type": "code",
   "execution_count": 198,
   "id": "27966462-7b38-4b71-8732-bf4825fd846f",
   "metadata": {},
   "outputs": [
    {
     "name": "stdout",
     "output_type": "stream",
     "text": [
      "              precision    recall  f1-score   support\n",
      "\n",
      "           0       0.90      0.95      0.93       109\n",
      "           1       0.00      0.00      0.00        11\n",
      "\n",
      "    accuracy                           0.87       120\n",
      "   macro avg       0.45      0.48      0.46       120\n",
      "weighted avg       0.82      0.87      0.84       120\n",
      "\n"
     ]
    }
   ],
   "source": [
    "classification_report_val_veider5 = classification_report(y_val, predictions_val_veider5)\n",
    "print(classification_report_val_veider5)"
   ]
  },
  {
   "cell_type": "code",
   "execution_count": 199,
   "id": "2f1d8b80-1eba-49a8-ae13-98477dfc57d6",
   "metadata": {},
   "outputs": [],
   "source": [
    "classification_report_val_veider5 = classification_report(y_val, predictions_val_veider5, output_dict=True)"
   ]
  },
  {
   "cell_type": "code",
   "execution_count": 200,
   "id": "c45d381f-bee8-44b4-80cd-538aa90e868a",
   "metadata": {},
   "outputs": [],
   "source": [
    "classification_reports.append(classification_report_val_veider5)"
   ]
  },
  {
   "cell_type": "code",
   "execution_count": 201,
   "id": "9686189e-db73-4e32-aa0d-aa766e8d652b",
   "metadata": {},
   "outputs": [
    {
     "data": {
      "image/png": "[encoded data removed]",
      "text/plain": [
       "<Figure size 1000x500 with 1 Axes>"
      ]
     },
     "metadata": {},
     "output_type": "display_data"
    }
   ],
   "source": [
    "matrix9 = confusion_matrix(y_val, predictions_val_veider5)\n",
    "\n",
    "fig, axes = plt.subplots(1, figsize=(10, 5))\n",
    "\n",
    "s9 = sns.heatmap(matrix9, cmap='crest', annot=True, annot_kws={\"fontsize\":16}, cbar=False, fmt=\"d\", xticklabels=[\"ei\", \"jah\"], yticklabels=[\"ei\", \"jah\"]);\n",
    "s9.set_ylabel(\"Tegelikud märgendid\", fontsize=13);\n",
    "s9.set_xlabel(\"Ennustatud märgendid\", fontsize=13);\n",
    "s9.set_title(\"Segadusmaatriks valideerimisandmestikul\");"
   ]
  },
  {
   "cell_type": "code",
   "execution_count": 202,
   "id": "38c35b43-5acb-480e-87cc-7cf790bcee2e",
   "metadata": {},
   "outputs": [],
   "source": [
    "fig = s9.get_figure()\n",
    "fig.savefig(\"val_4.png\")"
   ]
  },
  {
   "cell_type": "code",
   "execution_count": 203,
   "id": "0dc07620-2035-4375-9d14-929bb871c698",
   "metadata": {},
   "outputs": [
    {
     "data": {
      "text/html": [
       "<style>#sk-container-id-17 {color: black;}#sk-container-id-17 pre{padding: 0;}#sk-container-id-17 div.sk-toggleable {background-color: white;}#sk-container-id-17 label.sk-toggleable__label {cursor: pointer;display: block;width: 100%;margin-bottom: 0;padding: 0.3em;box-sizing: border-box;text-align: center;}#sk-container-id-17 label.sk-toggleable__label-arrow:before {content: \"▸\";float: left;margin-right: 0.25em;color: #696969;}#sk-container-id-17 label.sk-toggleable__label-arrow:hover:before {color: black;}#sk-container-id-17 div.sk-estimator:hover label.sk-toggleable__label-arrow:before {color: black;}#sk-container-id-17 div.sk-toggleable__content {max-height: 0;max-width: 0;overflow: hidden;text-align: left;background-color: #f0f8ff;}#sk-container-id-17 div.sk-toggleable__content pre {margin: 0.2em;color: black;border-radius: 0.25em;background-color: #f0f8ff;}#sk-container-id-17 input.sk-toggleable__control:checked~div.sk-toggleable__content {max-height: 200px;max-width: 100%;overflow: auto;}#sk-container-id-17 input.sk-toggleable__control:checked~label.sk-toggleable__label-arrow:before {content: \"▾\";}#sk-container-id-17 div.sk-estimator input.sk-toggleable__control:checked~label.sk-toggleable__label {background-color: #d4ebff;}#sk-container-id-17 div.sk-label input.sk-toggleable__control:checked~label.sk-toggleable__label {background-color: #d4ebff;}#sk-container-id-17 input.sk-hidden--visually {border: 0;clip: rect(1px 1px 1px 1px);clip: rect(1px, 1px, 1px, 1px);height: 1px;margin: -1px;overflow: hidden;padding: 0;position: absolute;width: 1px;}#sk-container-id-17 div.sk-estimator {font-family: monospace;background-color: #f0f8ff;border: 1px dotted black;border-radius: 0.25em;box-sizing: border-box;margin-bottom: 0.5em;}#sk-container-id-17 div.sk-estimator:hover {background-color: #d4ebff;}#sk-container-id-17 div.sk-parallel-item::after {content: \"\";width: 100%;border-bottom: 1px solid gray;flex-grow: 1;}#sk-container-id-17 div.sk-label:hover label.sk-toggleable__label {background-color: #d4ebff;}#sk-container-id-17 div.sk-serial::before {content: \"\";position: absolute;border-left: 1px solid gray;box-sizing: border-box;top: 0;bottom: 0;left: 50%;z-index: 0;}#sk-container-id-17 div.sk-serial {display: flex;flex-direction: column;align-items: center;background-color: white;padding-right: 0.2em;padding-left: 0.2em;position: relative;}#sk-container-id-17 div.sk-item {position: relative;z-index: 1;}#sk-container-id-17 div.sk-parallel {display: flex;align-items: stretch;justify-content: center;background-color: white;position: relative;}#sk-container-id-17 div.sk-item::before, #sk-container-id-17 div.sk-parallel-item::before {content: \"\";position: absolute;border-left: 1px solid gray;box-sizing: border-box;top: 0;bottom: 0;left: 50%;z-index: -1;}#sk-container-id-17 div.sk-parallel-item {display: flex;flex-direction: column;z-index: 1;position: relative;background-color: white;}#sk-container-id-17 div.sk-parallel-item:first-child::after {align-self: flex-end;width: 50%;}#sk-container-id-17 div.sk-parallel-item:last-child::after {align-self: flex-start;width: 50%;}#sk-container-id-17 div.sk-parallel-item:only-child::after {width: 0;}#sk-container-id-17 div.sk-dashed-wrapped {border: 1px dashed gray;margin: 0 0.4em 0.5em 0.4em;box-sizing: border-box;padding-bottom: 0.4em;background-color: white;}#sk-container-id-17 div.sk-label label {font-family: monospace;font-weight: bold;display: inline-block;line-height: 1.2em;}#sk-container-id-17 div.sk-label-container {text-align: center;}#sk-container-id-17 div.sk-container {/* jupyter's `normalize.less` sets `[hidden] { display: none; }` but bootstrap.min.css set `[hidden] { display: none !important; }` so we also need the `!important` here to be able to override the default hidden behavior on the sphinx rendered scikit-learn.org. See: https://github.com/scikit-learn/scikit-learn/issues/21755 */display: inline-block !important;position: relative;}#sk-container-id-17 div.sk-text-repr-fallback {display: none;}</style><div id=\"sk-container-id-17\" class=\"sk-top-container\"><div class=\"sk-text-repr-fallback\"><pre>LogisticRegression(C=10)</pre><b>In a Jupyter environment, please rerun this cell to show the HTML representation or trust the notebook. <br />On GitHub, the HTML representation is unable to render, please try loading this page with nbviewer.org.</b></div><div class=\"sk-container\" hidden><div class=\"sk-item\"><div class=\"sk-estimator sk-toggleable\"><input class=\"sk-toggleable__control sk-hidden--visually\" id=\"sk-estimator-id-17\" type=\"checkbox\" checked><label for=\"sk-estimator-id-17\" class=\"sk-toggleable__label sk-toggleable__label-arrow\">LogisticRegression</label><div class=\"sk-toggleable__content\"><pre>LogisticRegression(C=10)</pre></div></div></div></div></div>"
      ],
      "text/plain": [
       "LogisticRegression(C=10)"
      ]
     },
     "execution_count": 203,
     "metadata": {},
     "output_type": "execute_result"
    }
   ],
   "source": [
    "labels_veider5 = df_annotated_3['on_symptom']\n",
    "features_veider5 = df_to_vec(df_annotated_3, 'lause')\n",
    "\n",
    "model_veider5 = LogisticRegression(C=10)\n",
    "model_veider5.fit(features_veider5, labels_veider5)"
   ]
  },
  {
   "cell_type": "markdown",
   "id": "8ee4d8f0-7749-46e6-a448-04216f8cdf94",
   "metadata": {},
   "source": [
    "## Neljas kord 150 suurima tõenäosusega lauset andmebaasist"
   ]
  },
  {
   "cell_type": "code",
   "execution_count": 204,
   "id": "fe08eb9b-f594-4955-bb93-1d11c58b25b9",
   "metadata": {},
   "outputs": [
    {
     "name": "stdout",
     "output_type": "stream",
     "text": [
      "Algselt andmebaasi lausetes:  20197\n",
      "Pärast andmebaasi lausetes:  19576\n"
     ]
    }
   ],
   "source": [
    "top_300_4 = df_to_pred(df_db_all, 'data5_3.xlsx', 'db_all_suurimad_300_4.xlsx', model_veider5)"
   ]
  },
  {
   "cell_type": "code",
   "execution_count": 205,
   "id": "b5496824-03b8-4a9b-903e-b2388783629d",
   "metadata": {},
   "outputs": [],
   "source": [
    "df_annotated_4 = pd.read_excel('data6_3.xlsx', index_col=0)"
   ]
  },
  {
   "cell_type": "code",
   "execution_count": 207,
   "id": "d2d0d270-93b6-492e-a8fc-364a7c568523",
   "metadata": {},
   "outputs": [
    {
     "data": {
      "text/plain": [
       "on_symptom\n",
       "0    728\n",
       "1     71\n",
       "dtype: int64"
      ]
     },
     "execution_count": 207,
     "metadata": {},
     "output_type": "execute_result"
    }
   ],
   "source": [
    "df_annotated_4.groupby(\"on_symptom\").size()"
   ]
  },
  {
   "cell_type": "code",
   "execution_count": 208,
   "id": "3b789cdb-df31-4c9f-9dc3-f9b50620031d",
   "metadata": {},
   "outputs": [],
   "source": [
    "X_train, y_train, X_test, y_test, X_val, y_val = df_to_train_data(df_annotated_4)"
   ]
  },
  {
   "cell_type": "code",
   "execution_count": 209,
   "id": "613842b5-f7a3-40d8-94b5-78c28cc2997a",
   "metadata": {},
   "outputs": [
    {
     "name": "stdout",
     "output_type": "stream",
     "text": [
      "Alganmestiku suurus: 799\n",
      "Treeningandmestiku suurus: 559\n",
      "Testandmestiku suurus: 120\n",
      "Valideerimisandmestiku suurus: 120\n"
     ]
    }
   ],
   "source": [
    "print(f\"Alganmestiku suurus: {len(df_annotated_4)}\")\n",
    "print(f\"Treeningandmestiku suurus: {len(X_train)}\")\n",
    "print(f\"Testandmestiku suurus: {len(X_test)}\")\n",
    "print(f\"Valideerimisandmestiku suurus: {len(X_val)}\")"
   ]
  },
  {
   "cell_type": "code",
   "execution_count": 210,
   "id": "0fed515b-6a95-4ee1-86a2-2a7a9bdcd4bd",
   "metadata": {},
   "outputs": [
    {
     "data": {
      "text/html": [
       "<style>#sk-container-id-18 {color: black;}#sk-container-id-18 pre{padding: 0;}#sk-container-id-18 div.sk-toggleable {background-color: white;}#sk-container-id-18 label.sk-toggleable__label {cursor: pointer;display: block;width: 100%;margin-bottom: 0;padding: 0.3em;box-sizing: border-box;text-align: center;}#sk-container-id-18 label.sk-toggleable__label-arrow:before {content: \"▸\";float: left;margin-right: 0.25em;color: #696969;}#sk-container-id-18 label.sk-toggleable__label-arrow:hover:before {color: black;}#sk-container-id-18 div.sk-estimator:hover label.sk-toggleable__label-arrow:before {color: black;}#sk-container-id-18 div.sk-toggleable__content {max-height: 0;max-width: 0;overflow: hidden;text-align: left;background-color: #f0f8ff;}#sk-container-id-18 div.sk-toggleable__content pre {margin: 0.2em;color: black;border-radius: 0.25em;background-color: #f0f8ff;}#sk-container-id-18 input.sk-toggleable__control:checked~div.sk-toggleable__content {max-height: 200px;max-width: 100%;overflow: auto;}#sk-container-id-18 input.sk-toggleable__control:checked~label.sk-toggleable__label-arrow:before {content: \"▾\";}#sk-container-id-18 div.sk-estimator input.sk-toggleable__control:checked~label.sk-toggleable__label {background-color: #d4ebff;}#sk-container-id-18 div.sk-label input.sk-toggleable__control:checked~label.sk-toggleable__label {background-color: #d4ebff;}#sk-container-id-18 input.sk-hidden--visually {border: 0;clip: rect(1px 1px 1px 1px);clip: rect(1px, 1px, 1px, 1px);height: 1px;margin: -1px;overflow: hidden;padding: 0;position: absolute;width: 1px;}#sk-container-id-18 div.sk-estimator {font-family: monospace;background-color: #f0f8ff;border: 1px dotted black;border-radius: 0.25em;box-sizing: border-box;margin-bottom: 0.5em;}#sk-container-id-18 div.sk-estimator:hover {background-color: #d4ebff;}#sk-container-id-18 div.sk-parallel-item::after {content: \"\";width: 100%;border-bottom: 1px solid gray;flex-grow: 1;}#sk-container-id-18 div.sk-label:hover label.sk-toggleable__label {background-color: #d4ebff;}#sk-container-id-18 div.sk-serial::before {content: \"\";position: absolute;border-left: 1px solid gray;box-sizing: border-box;top: 0;bottom: 0;left: 50%;z-index: 0;}#sk-container-id-18 div.sk-serial {display: flex;flex-direction: column;align-items: center;background-color: white;padding-right: 0.2em;padding-left: 0.2em;position: relative;}#sk-container-id-18 div.sk-item {position: relative;z-index: 1;}#sk-container-id-18 div.sk-parallel {display: flex;align-items: stretch;justify-content: center;background-color: white;position: relative;}#sk-container-id-18 div.sk-item::before, #sk-container-id-18 div.sk-parallel-item::before {content: \"\";position: absolute;border-left: 1px solid gray;box-sizing: border-box;top: 0;bottom: 0;left: 50%;z-index: -1;}#sk-container-id-18 div.sk-parallel-item {display: flex;flex-direction: column;z-index: 1;position: relative;background-color: white;}#sk-container-id-18 div.sk-parallel-item:first-child::after {align-self: flex-end;width: 50%;}#sk-container-id-18 div.sk-parallel-item:last-child::after {align-self: flex-start;width: 50%;}#sk-container-id-18 div.sk-parallel-item:only-child::after {width: 0;}#sk-container-id-18 div.sk-dashed-wrapped {border: 1px dashed gray;margin: 0 0.4em 0.5em 0.4em;box-sizing: border-box;padding-bottom: 0.4em;background-color: white;}#sk-container-id-18 div.sk-label label {font-family: monospace;font-weight: bold;display: inline-block;line-height: 1.2em;}#sk-container-id-18 div.sk-label-container {text-align: center;}#sk-container-id-18 div.sk-container {/* jupyter's `normalize.less` sets `[hidden] { display: none; }` but bootstrap.min.css set `[hidden] { display: none !important; }` so we also need the `!important` here to be able to override the default hidden behavior on the sphinx rendered scikit-learn.org. See: https://github.com/scikit-learn/scikit-learn/issues/21755 */display: inline-block !important;position: relative;}#sk-container-id-18 div.sk-text-repr-fallback {display: none;}</style><div id=\"sk-container-id-18\" class=\"sk-top-container\"><div class=\"sk-text-repr-fallback\"><pre>LogisticRegression(C=10)</pre><b>In a Jupyter environment, please rerun this cell to show the HTML representation or trust the notebook. <br />On GitHub, the HTML representation is unable to render, please try loading this page with nbviewer.org.</b></div><div class=\"sk-container\" hidden><div class=\"sk-item\"><div class=\"sk-estimator sk-toggleable\"><input class=\"sk-toggleable__control sk-hidden--visually\" id=\"sk-estimator-id-18\" type=\"checkbox\" checked><label for=\"sk-estimator-id-18\" class=\"sk-toggleable__label sk-toggleable__label-arrow\">LogisticRegression</label><div class=\"sk-toggleable__content\"><pre>LogisticRegression(C=10)</pre></div></div></div></div></div>"
      ],
      "text/plain": [
       "LogisticRegression(C=10)"
      ]
     },
     "execution_count": 210,
     "metadata": {},
     "output_type": "execute_result"
    }
   ],
   "source": [
    "model_veider6 = LogisticRegression(C=10)\n",
    "model_veider6.fit(X_train, y_train)"
   ]
  },
  {
   "cell_type": "code",
   "execution_count": 211,
   "id": "381ff34a-5830-4506-a2cf-ae3dad74ed91",
   "metadata": {},
   "outputs": [],
   "source": [
    "predictions_val_veider6 = model_veider6.predict(X_val)"
   ]
  },
  {
   "cell_type": "code",
   "execution_count": 212,
   "id": "6d592c9d-ff3c-4a29-a260-2ba59edf816e",
   "metadata": {},
   "outputs": [
    {
     "name": "stdout",
     "output_type": "stream",
     "text": [
      "              precision    recall  f1-score   support\n",
      "\n",
      "           0       0.90      0.94      0.92       109\n",
      "           1       0.00      0.00      0.00        11\n",
      "\n",
      "    accuracy                           0.86       120\n",
      "   macro avg       0.45      0.47      0.46       120\n",
      "weighted avg       0.82      0.86      0.84       120\n",
      "\n"
     ]
    }
   ],
   "source": [
    "classification_report_val_veider6 = classification_report(y_val, predictions_val_veider6)\n",
    "print(classification_report_val_veider6)"
   ]
  },
  {
   "cell_type": "code",
   "execution_count": 213,
   "id": "0fb76d9c-8dea-4caa-9435-af73dc1bae9b",
   "metadata": {},
   "outputs": [],
   "source": [
    "classification_report_val_veider6 = classification_report(y_val, predictions_val_veider6, output_dict=True)"
   ]
  },
  {
   "cell_type": "code",
   "execution_count": 214,
   "id": "4bc26f91-bf6d-4ccd-bff2-a7ea995a70ee",
   "metadata": {},
   "outputs": [],
   "source": [
    "classification_reports.append(classification_report_val_veider6)"
   ]
  },
  {
   "cell_type": "code",
   "execution_count": 215,
   "id": "82010792-88d3-43bf-8e72-6f80f96a51fe",
   "metadata": {},
   "outputs": [
    {
     "data": {
      "image/png": "[encoded data removed]",
      "text/plain": [
       "<Figure size 1000x500 with 1 Axes>"
      ]
     },
     "metadata": {},
     "output_type": "display_data"
    }
   ],
   "source": [
    "matrix10 = confusion_matrix(y_val, predictions_val_veider6)\n",
    "\n",
    "fig, axes = plt.subplots(1, figsize=(10, 5))\n",
    "\n",
    "s10 = sns.heatmap(matrix10, cmap='crest', annot=True, annot_kws={\"fontsize\":16}, cbar=False, fmt=\"d\", xticklabels=[\"ei\", \"jah\"], yticklabels=[\"ei\", \"jah\"]);\n",
    "s10.set_ylabel(\"Tegelikud märgendid\", fontsize=13);\n",
    "s10.set_xlabel(\"Ennustatud märgendid\", fontsize=13);\n",
    "s10.set_title(\"Segadusmaatriks valideerimisandmestikul\");"
   ]
  },
  {
   "cell_type": "code",
   "execution_count": 216,
   "id": "34ea48de-543a-4a07-adf6-ed2a81a59377",
   "metadata": {},
   "outputs": [],
   "source": [
    "fig = s10.get_figure()\n",
    "fig.savefig(\"val_5.png\")"
   ]
  },
  {
   "cell_type": "code",
   "execution_count": 217,
   "id": "41bfb935-67fa-47c0-b4e5-25dcbb6f4c97",
   "metadata": {},
   "outputs": [
    {
     "data": {
      "text/html": [
       "<style>#sk-container-id-19 {color: black;}#sk-container-id-19 pre{padding: 0;}#sk-container-id-19 div.sk-toggleable {background-color: white;}#sk-container-id-19 label.sk-toggleable__label {cursor: pointer;display: block;width: 100%;margin-bottom: 0;padding: 0.3em;box-sizing: border-box;text-align: center;}#sk-container-id-19 label.sk-toggleable__label-arrow:before {content: \"▸\";float: left;margin-right: 0.25em;color: #696969;}#sk-container-id-19 label.sk-toggleable__label-arrow:hover:before {color: black;}#sk-container-id-19 div.sk-estimator:hover label.sk-toggleable__label-arrow:before {color: black;}#sk-container-id-19 div.sk-toggleable__content {max-height: 0;max-width: 0;overflow: hidden;text-align: left;background-color: #f0f8ff;}#sk-container-id-19 div.sk-toggleable__content pre {margin: 0.2em;color: black;border-radius: 0.25em;background-color: #f0f8ff;}#sk-container-id-19 input.sk-toggleable__control:checked~div.sk-toggleable__content {max-height: 200px;max-width: 100%;overflow: auto;}#sk-container-id-19 input.sk-toggleable__control:checked~label.sk-toggleable__label-arrow:before {content: \"▾\";}#sk-container-id-19 div.sk-estimator input.sk-toggleable__control:checked~label.sk-toggleable__label {background-color: #d4ebff;}#sk-container-id-19 div.sk-label input.sk-toggleable__control:checked~label.sk-toggleable__label {background-color: #d4ebff;}#sk-container-id-19 input.sk-hidden--visually {border: 0;clip: rect(1px 1px 1px 1px);clip: rect(1px, 1px, 1px, 1px);height: 1px;margin: -1px;overflow: hidden;padding: 0;position: absolute;width: 1px;}#sk-container-id-19 div.sk-estimator {font-family: monospace;background-color: #f0f8ff;border: 1px dotted black;border-radius: 0.25em;box-sizing: border-box;margin-bottom: 0.5em;}#sk-container-id-19 div.sk-estimator:hover {background-color: #d4ebff;}#sk-container-id-19 div.sk-parallel-item::after {content: \"\";width: 100%;border-bottom: 1px solid gray;flex-grow: 1;}#sk-container-id-19 div.sk-label:hover label.sk-toggleable__label {background-color: #d4ebff;}#sk-container-id-19 div.sk-serial::before {content: \"\";position: absolute;border-left: 1px solid gray;box-sizing: border-box;top: 0;bottom: 0;left: 50%;z-index: 0;}#sk-container-id-19 div.sk-serial {display: flex;flex-direction: column;align-items: center;background-color: white;padding-right: 0.2em;padding-left: 0.2em;position: relative;}#sk-container-id-19 div.sk-item {position: relative;z-index: 1;}#sk-container-id-19 div.sk-parallel {display: flex;align-items: stretch;justify-content: center;background-color: white;position: relative;}#sk-container-id-19 div.sk-item::before, #sk-container-id-19 div.sk-parallel-item::before {content: \"\";position: absolute;border-left: 1px solid gray;box-sizing: border-box;top: 0;bottom: 0;left: 50%;z-index: -1;}#sk-container-id-19 div.sk-parallel-item {display: flex;flex-direction: column;z-index: 1;position: relative;background-color: white;}#sk-container-id-19 div.sk-parallel-item:first-child::after {align-self: flex-end;width: 50%;}#sk-container-id-19 div.sk-parallel-item:last-child::after {align-self: flex-start;width: 50%;}#sk-container-id-19 div.sk-parallel-item:only-child::after {width: 0;}#sk-container-id-19 div.sk-dashed-wrapped {border: 1px dashed gray;margin: 0 0.4em 0.5em 0.4em;box-sizing: border-box;padding-bottom: 0.4em;background-color: white;}#sk-container-id-19 div.sk-label label {font-family: monospace;font-weight: bold;display: inline-block;line-height: 1.2em;}#sk-container-id-19 div.sk-label-container {text-align: center;}#sk-container-id-19 div.sk-container {/* jupyter's `normalize.less` sets `[hidden] { display: none; }` but bootstrap.min.css set `[hidden] { display: none !important; }` so we also need the `!important` here to be able to override the default hidden behavior on the sphinx rendered scikit-learn.org. See: https://github.com/scikit-learn/scikit-learn/issues/21755 */display: inline-block !important;position: relative;}#sk-container-id-19 div.sk-text-repr-fallback {display: none;}</style><div id=\"sk-container-id-19\" class=\"sk-top-container\"><div class=\"sk-text-repr-fallback\"><pre>LogisticRegression(C=10)</pre><b>In a Jupyter environment, please rerun this cell to show the HTML representation or trust the notebook. <br />On GitHub, the HTML representation is unable to render, please try loading this page with nbviewer.org.</b></div><div class=\"sk-container\" hidden><div class=\"sk-item\"><div class=\"sk-estimator sk-toggleable\"><input class=\"sk-toggleable__control sk-hidden--visually\" id=\"sk-estimator-id-19\" type=\"checkbox\" checked><label for=\"sk-estimator-id-19\" class=\"sk-toggleable__label sk-toggleable__label-arrow\">LogisticRegression</label><div class=\"sk-toggleable__content\"><pre>LogisticRegression(C=10)</pre></div></div></div></div></div>"
      ],
      "text/plain": [
       "LogisticRegression(C=10)"
      ]
     },
     "execution_count": 217,
     "metadata": {},
     "output_type": "execute_result"
    }
   ],
   "source": [
    "labels_veider6 = df_annotated_4['on_symptom']\n",
    "features_veider6 = df_to_vec(df_annotated_4, 'lause')\n",
    "\n",
    "model_veider6 = LogisticRegression(C=10)\n",
    "model_veider6.fit(features_veider6, labels_veider6)"
   ]
  },
  {
   "cell_type": "code",
   "execution_count": 218,
   "id": "1dee95f3-4d83-4cc3-bd14-0762f3c5bef4",
   "metadata": {},
   "outputs": [
    {
     "name": "stdout",
     "output_type": "stream",
     "text": [
      "Algselt andmebaasi lausetes:  20197\n",
      "Pärast andmebaasi lausetes:  19575\n"
     ]
    }
   ],
   "source": [
    "top_300_5 = df_to_pred(df_db_all, 'data6_3.xlsx', 'db_all_suurimad_300_5.xlsx', model_veider6)"
   ]
  },
  {
   "cell_type": "markdown",
   "id": "dd1ccd9b-5e75-48d5-82a8-b3acd6bfa9f7",
   "metadata": {},
   "source": [
    "Siinkohal ei ennustanud mudel enam ühtegi lauset > 0.5 tõenäosusega"
   ]
  },
  {
   "cell_type": "markdown",
   "id": "d75fe585-40f7-43c8-b073-fde80f6fd3be",
   "metadata": {},
   "source": [
    "# Enda etteantud lausega mudeli katsetamine"
   ]
  },
  {
   "cell_type": "code",
   "execution_count": 231,
   "id": "8808d966-00e8-47c4-bc35-a5be1a805d25",
   "metadata": {},
   "outputs": [],
   "source": [
    "def sentence_to_pred(lause, model=model_veider6):\n",
    "    lause_vektor = sentence_to_vecs(lause)\n",
    "    return model.predict_proba([lause_vektor])"
   ]
  },
  {
   "cell_type": "code",
   "execution_count": 235,
   "id": "a96f3652-e5c0-4b68-b9ad-4995ec42d104",
   "metadata": {},
   "outputs": [],
   "source": [
    "enda_lause = \"Esineb veider käitumine.\""
   ]
  },
  {
   "cell_type": "code",
   "execution_count": 237,
   "id": "7d77bba7-91ab-4d4d-9810-1f16f47f2483",
   "metadata": {},
   "outputs": [
    {
     "data": {
      "text/plain": [
       "array([[0.30298614, 0.69701386]])"
      ]
     },
     "execution_count": 237,
     "metadata": {},
     "output_type": "execute_result"
    }
   ],
   "source": [
    "# Väljastatakse klassi kuulumise tõenäosus; esimesel kohal klass 0 ehk ei ole sümptom ning teisel kohal klass 1 ehk on tõenäoliselt sümptom)\n",
    "sentence_to_pred(enda_lause)"
   ]
  },
  {
   "cell_type": "markdown",
   "id": "17bfc23a-2502-4851-bcd3-fe799ae438e9",
   "metadata": {},
   "source": [
    "# Meetodi valideerimine"
   ]
  },
  {
   "cell_type": "markdown",
   "id": "34abf14c-684c-4e9a-9074-c2f9272e7b80",
   "metadata": {},
   "source": [
    "## II sümptom (\"depersonalisatsioon/derealisatsioon\")"
   ]
  },
  {
   "cell_type": "code",
   "execution_count": 238,
   "id": "cc248a57-a151-497e-8f39-3cbc52988fc4",
   "metadata": {},
   "outputs": [],
   "source": [
    "df_annotated_dereal_deperso1 = pd.read_excel('data_dereal_deperso1.xlsx', index_col=0)"
   ]
  },
  {
   "cell_type": "code",
   "execution_count": 239,
   "id": "32e8570d-c2b1-47ca-91ad-e2ca6dedf0c7",
   "metadata": {},
   "outputs": [
    {
     "data": {
      "text/plain": [
       "on_symptom\n",
       "0    20\n",
       "1    20\n",
       "dtype: int64"
      ]
     },
     "execution_count": 239,
     "metadata": {},
     "output_type": "execute_result"
    }
   ],
   "source": [
    "df_annotated_dereal_deperso1.groupby(\"on_symptom\").size()"
   ]
  },
  {
   "cell_type": "code",
   "execution_count": 240,
   "id": "e1b6194c-1173-4741-95dd-908f653fd700",
   "metadata": {},
   "outputs": [],
   "source": [
    "X_train, y_train, X_test, y_test, X_val, y_val = df_to_train_data(df_annotated_dereal_deperso1)"
   ]
  },
  {
   "cell_type": "code",
   "execution_count": 241,
   "id": "bad03227-0fc2-4e69-bf99-ee8042deb133",
   "metadata": {},
   "outputs": [
    {
     "name": "stdout",
     "output_type": "stream",
     "text": [
      "Alganmestiku suurus: 40\n",
      "Treeningandmestiku suurus: 28\n",
      "Testandmestiku suurus: 6\n",
      "Valideerimisandmestiku suurus: 6\n"
     ]
    }
   ],
   "source": [
    "print(f\"Alganmestiku suurus: {len(df_annotated_dereal_deperso1)}\")\n",
    "print(f\"Treeningandmestiku suurus: {len(X_train)}\")\n",
    "print(f\"Testandmestiku suurus: {len(X_test)}\")\n",
    "print(f\"Valideerimisandmestiku suurus: {len(X_val)}\")"
   ]
  },
  {
   "cell_type": "code",
   "execution_count": 242,
   "id": "35ff4d22-f6e9-4328-a85d-7d3bf43723f5",
   "metadata": {},
   "outputs": [
    {
     "data": {
      "text/html": [
       "<style>#sk-container-id-21 {color: black;}#sk-container-id-21 pre{padding: 0;}#sk-container-id-21 div.sk-toggleable {background-color: white;}#sk-container-id-21 label.sk-toggleable__label {cursor: pointer;display: block;width: 100%;margin-bottom: 0;padding: 0.3em;box-sizing: border-box;text-align: center;}#sk-container-id-21 label.sk-toggleable__label-arrow:before {content: \"▸\";float: left;margin-right: 0.25em;color: #696969;}#sk-container-id-21 label.sk-toggleable__label-arrow:hover:before {color: black;}#sk-container-id-21 div.sk-estimator:hover label.sk-toggleable__label-arrow:before {color: black;}#sk-container-id-21 div.sk-toggleable__content {max-height: 0;max-width: 0;overflow: hidden;text-align: left;background-color: #f0f8ff;}#sk-container-id-21 div.sk-toggleable__content pre {margin: 0.2em;color: black;border-radius: 0.25em;background-color: #f0f8ff;}#sk-container-id-21 input.sk-toggleable__control:checked~div.sk-toggleable__content {max-height: 200px;max-width: 100%;overflow: auto;}#sk-container-id-21 input.sk-toggleable__control:checked~label.sk-toggleable__label-arrow:before {content: \"▾\";}#sk-container-id-21 div.sk-estimator input.sk-toggleable__control:checked~label.sk-toggleable__label {background-color: #d4ebff;}#sk-container-id-21 div.sk-label input.sk-toggleable__control:checked~label.sk-toggleable__label {background-color: #d4ebff;}#sk-container-id-21 input.sk-hidden--visually {border: 0;clip: rect(1px 1px 1px 1px);clip: rect(1px, 1px, 1px, 1px);height: 1px;margin: -1px;overflow: hidden;padding: 0;position: absolute;width: 1px;}#sk-container-id-21 div.sk-estimator {font-family: monospace;background-color: #f0f8ff;border: 1px dotted black;border-radius: 0.25em;box-sizing: border-box;margin-bottom: 0.5em;}#sk-container-id-21 div.sk-estimator:hover {background-color: #d4ebff;}#sk-container-id-21 div.sk-parallel-item::after {content: \"\";width: 100%;border-bottom: 1px solid gray;flex-grow: 1;}#sk-container-id-21 div.sk-label:hover label.sk-toggleable__label {background-color: #d4ebff;}#sk-container-id-21 div.sk-serial::before {content: \"\";position: absolute;border-left: 1px solid gray;box-sizing: border-box;top: 0;bottom: 0;left: 50%;z-index: 0;}#sk-container-id-21 div.sk-serial {display: flex;flex-direction: column;align-items: center;background-color: white;padding-right: 0.2em;padding-left: 0.2em;position: relative;}#sk-container-id-21 div.sk-item {position: relative;z-index: 1;}#sk-container-id-21 div.sk-parallel {display: flex;align-items: stretch;justify-content: center;background-color: white;position: relative;}#sk-container-id-21 div.sk-item::before, #sk-container-id-21 div.sk-parallel-item::before {content: \"\";position: absolute;border-left: 1px solid gray;box-sizing: border-box;top: 0;bottom: 0;left: 50%;z-index: -1;}#sk-container-id-21 div.sk-parallel-item {display: flex;flex-direction: column;z-index: 1;position: relative;background-color: white;}#sk-container-id-21 div.sk-parallel-item:first-child::after {align-self: flex-end;width: 50%;}#sk-container-id-21 div.sk-parallel-item:last-child::after {align-self: flex-start;width: 50%;}#sk-container-id-21 div.sk-parallel-item:only-child::after {width: 0;}#sk-container-id-21 div.sk-dashed-wrapped {border: 1px dashed gray;margin: 0 0.4em 0.5em 0.4em;box-sizing: border-box;padding-bottom: 0.4em;background-color: white;}#sk-container-id-21 div.sk-label label {font-family: monospace;font-weight: bold;display: inline-block;line-height: 1.2em;}#sk-container-id-21 div.sk-label-container {text-align: center;}#sk-container-id-21 div.sk-container {/* jupyter's `normalize.less` sets `[hidden] { display: none; }` but bootstrap.min.css set `[hidden] { display: none !important; }` so we also need the `!important` here to be able to override the default hidden behavior on the sphinx rendered scikit-learn.org. See: https://github.com/scikit-learn/scikit-learn/issues/21755 */display: inline-block !important;position: relative;}#sk-container-id-21 div.sk-text-repr-fallback {display: none;}</style><div id=\"sk-container-id-21\" class=\"sk-top-container\"><div class=\"sk-text-repr-fallback\"><pre>LogisticRegression(C=10)</pre><b>In a Jupyter environment, please rerun this cell to show the HTML representation or trust the notebook. <br />On GitHub, the HTML representation is unable to render, please try loading this page with nbviewer.org.</b></div><div class=\"sk-container\" hidden><div class=\"sk-item\"><div class=\"sk-estimator sk-toggleable\"><input class=\"sk-toggleable__control sk-hidden--visually\" id=\"sk-estimator-id-21\" type=\"checkbox\" checked><label for=\"sk-estimator-id-21\" class=\"sk-toggleable__label sk-toggleable__label-arrow\">LogisticRegression</label><div class=\"sk-toggleable__content\"><pre>LogisticRegression(C=10)</pre></div></div></div></div></div>"
      ],
      "text/plain": [
       "LogisticRegression(C=10)"
      ]
     },
     "execution_count": 242,
     "metadata": {},
     "output_type": "execute_result"
    }
   ],
   "source": [
    "model_dereal_deperso1 = LogisticRegression(C = 10)\n",
    "model_dereal_deperso1.fit(X_train, y_train)"
   ]
  },
  {
   "cell_type": "code",
   "execution_count": 243,
   "id": "d99c5f6f-ad53-403c-8b0a-036b440ed285",
   "metadata": {},
   "outputs": [],
   "source": [
    "predictions_val_dereal_deperso = model_dereal_deperso1.predict(X_val)"
   ]
  },
  {
   "cell_type": "code",
   "execution_count": 244,
   "id": "6e2d6126-5b4f-4cf6-8d8e-77bbcebdaea9",
   "metadata": {},
   "outputs": [
    {
     "name": "stdout",
     "output_type": "stream",
     "text": [
      "              precision    recall  f1-score   support\n",
      "\n",
      "           0       0.60      1.00      0.75         3\n",
      "           1       1.00      0.33      0.50         3\n",
      "\n",
      "    accuracy                           0.67         6\n",
      "   macro avg       0.80      0.67      0.62         6\n",
      "weighted avg       0.80      0.67      0.62         6\n",
      "\n"
     ]
    }
   ],
   "source": [
    "classification_report_val_dereal_deperso = classification_report(y_val, predictions_val_dereal_deperso)\n",
    "print(classification_report_val_dereal_deperso)"
   ]
  },
  {
   "cell_type": "code",
   "execution_count": 245,
   "id": "48068716-bd2a-4242-b953-22f4154fd824",
   "metadata": {},
   "outputs": [],
   "source": [
    "classification_report_val_dereal_deperso = classification_report(y_val, predictions_val_dereal_deperso, output_dict=True)"
   ]
  },
  {
   "cell_type": "code",
   "execution_count": 246,
   "id": "b9c1ab43-df3d-406e-b36c-70d723d4dc12",
   "metadata": {},
   "outputs": [],
   "source": [
    "classification_reports.append(classification_report_val_dereal_deperso)"
   ]
  },
  {
   "cell_type": "code",
   "execution_count": 247,
   "id": "c509dc8f-105b-4fa3-9c9d-9867f02a674d",
   "metadata": {},
   "outputs": [
    {
     "data": {
      "image/png": "[encoded data removed]",
      "text/plain": [
       "<Figure size 1000x500 with 1 Axes>"
      ]
     },
     "metadata": {},
     "output_type": "display_data"
    }
   ],
   "source": [
    "matrix_dereal_deperso_val = confusion_matrix(y_val, predictions_val_dereal_deperso)\n",
    "\n",
    "fig, axes = plt.subplots(1, figsize=(10, 5))\n",
    "\n",
    "s_dereal_deperso_val = sns.heatmap(matrix_dereal_deperso_val, cmap='crest', annot=True, annot_kws={\"fontsize\":16}, cbar=False, fmt=\"d\", xticklabels=[\"ei\", \"jah\"], yticklabels=[\"ei\", \"jah\"]);\n",
    "s_dereal_deperso_val.set_ylabel(\"Tegelikud märgendid\", fontsize=13);\n",
    "s_dereal_deperso_val.set_xlabel(\"Ennustatud märgendid\", fontsize=13);\n",
    "s_dereal_deperso_val.set_title(\"Segadusmaatriks valideerimisandmestikul\");"
   ]
  },
  {
   "cell_type": "code",
   "execution_count": 271,
   "id": "ad91e33d-5157-43eb-8879-3d1d98a469bc",
   "metadata": {},
   "outputs": [],
   "source": [
    "fig = s_dereal_deperso_val.get_figure()\n",
    "fig.savefig(\"val_6.png\")"
   ]
  },
  {
   "cell_type": "code",
   "execution_count": 248,
   "id": "9f0e708c-f66d-47ee-aeb3-0b01620a7b70",
   "metadata": {},
   "outputs": [
    {
     "data": {
      "text/html": [
       "<style>#sk-container-id-22 {color: black;}#sk-container-id-22 pre{padding: 0;}#sk-container-id-22 div.sk-toggleable {background-color: white;}#sk-container-id-22 label.sk-toggleable__label {cursor: pointer;display: block;width: 100%;margin-bottom: 0;padding: 0.3em;box-sizing: border-box;text-align: center;}#sk-container-id-22 label.sk-toggleable__label-arrow:before {content: \"▸\";float: left;margin-right: 0.25em;color: #696969;}#sk-container-id-22 label.sk-toggleable__label-arrow:hover:before {color: black;}#sk-container-id-22 div.sk-estimator:hover label.sk-toggleable__label-arrow:before {color: black;}#sk-container-id-22 div.sk-toggleable__content {max-height: 0;max-width: 0;overflow: hidden;text-align: left;background-color: #f0f8ff;}#sk-container-id-22 div.sk-toggleable__content pre {margin: 0.2em;color: black;border-radius: 0.25em;background-color: #f0f8ff;}#sk-container-id-22 input.sk-toggleable__control:checked~div.sk-toggleable__content {max-height: 200px;max-width: 100%;overflow: auto;}#sk-container-id-22 input.sk-toggleable__control:checked~label.sk-toggleable__label-arrow:before {content: \"▾\";}#sk-container-id-22 div.sk-estimator input.sk-toggleable__control:checked~label.sk-toggleable__label {background-color: #d4ebff;}#sk-container-id-22 div.sk-label input.sk-toggleable__control:checked~label.sk-toggleable__label {background-color: #d4ebff;}#sk-container-id-22 input.sk-hidden--visually {border: 0;clip: rect(1px 1px 1px 1px);clip: rect(1px, 1px, 1px, 1px);height: 1px;margin: -1px;overflow: hidden;padding: 0;position: absolute;width: 1px;}#sk-container-id-22 div.sk-estimator {font-family: monospace;background-color: #f0f8ff;border: 1px dotted black;border-radius: 0.25em;box-sizing: border-box;margin-bottom: 0.5em;}#sk-container-id-22 div.sk-estimator:hover {background-color: #d4ebff;}#sk-container-id-22 div.sk-parallel-item::after {content: \"\";width: 100%;border-bottom: 1px solid gray;flex-grow: 1;}#sk-container-id-22 div.sk-label:hover label.sk-toggleable__label {background-color: #d4ebff;}#sk-container-id-22 div.sk-serial::before {content: \"\";position: absolute;border-left: 1px solid gray;box-sizing: border-box;top: 0;bottom: 0;left: 50%;z-index: 0;}#sk-container-id-22 div.sk-serial {display: flex;flex-direction: column;align-items: center;background-color: white;padding-right: 0.2em;padding-left: 0.2em;position: relative;}#sk-container-id-22 div.sk-item {position: relative;z-index: 1;}#sk-container-id-22 div.sk-parallel {display: flex;align-items: stretch;justify-content: center;background-color: white;position: relative;}#sk-container-id-22 div.sk-item::before, #sk-container-id-22 div.sk-parallel-item::before {content: \"\";position: absolute;border-left: 1px solid gray;box-sizing: border-box;top: 0;bottom: 0;left: 50%;z-index: -1;}#sk-container-id-22 div.sk-parallel-item {display: flex;flex-direction: column;z-index: 1;position: relative;background-color: white;}#sk-container-id-22 div.sk-parallel-item:first-child::after {align-self: flex-end;width: 50%;}#sk-container-id-22 div.sk-parallel-item:last-child::after {align-self: flex-start;width: 50%;}#sk-container-id-22 div.sk-parallel-item:only-child::after {width: 0;}#sk-container-id-22 div.sk-dashed-wrapped {border: 1px dashed gray;margin: 0 0.4em 0.5em 0.4em;box-sizing: border-box;padding-bottom: 0.4em;background-color: white;}#sk-container-id-22 div.sk-label label {font-family: monospace;font-weight: bold;display: inline-block;line-height: 1.2em;}#sk-container-id-22 div.sk-label-container {text-align: center;}#sk-container-id-22 div.sk-container {/* jupyter's `normalize.less` sets `[hidden] { display: none; }` but bootstrap.min.css set `[hidden] { display: none !important; }` so we also need the `!important` here to be able to override the default hidden behavior on the sphinx rendered scikit-learn.org. See: https://github.com/scikit-learn/scikit-learn/issues/21755 */display: inline-block !important;position: relative;}#sk-container-id-22 div.sk-text-repr-fallback {display: none;}</style><div id=\"sk-container-id-22\" class=\"sk-top-container\"><div class=\"sk-text-repr-fallback\"><pre>LogisticRegression(C=10)</pre><b>In a Jupyter environment, please rerun this cell to show the HTML representation or trust the notebook. <br />On GitHub, the HTML representation is unable to render, please try loading this page with nbviewer.org.</b></div><div class=\"sk-container\" hidden><div class=\"sk-item\"><div class=\"sk-estimator sk-toggleable\"><input class=\"sk-toggleable__control sk-hidden--visually\" id=\"sk-estimator-id-22\" type=\"checkbox\" checked><label for=\"sk-estimator-id-22\" class=\"sk-toggleable__label sk-toggleable__label-arrow\">LogisticRegression</label><div class=\"sk-toggleable__content\"><pre>LogisticRegression(C=10)</pre></div></div></div></div></div>"
      ],
      "text/plain": [
       "LogisticRegression(C=10)"
      ]
     },
     "execution_count": 248,
     "metadata": {},
     "output_type": "execute_result"
    }
   ],
   "source": [
    "labels_de1 = df_annotated_dereal_deperso1['on_symptom']\n",
    "features_de1 = df_to_vec(df_annotated_dereal_deperso1, 'lause')\n",
    "\n",
    "model_dereal_deperso1 = LogisticRegression(C = 10)\n",
    "model_dereal_deperso1.fit(features_de1, labels_de1)"
   ]
  },
  {
   "cell_type": "markdown",
   "id": "cbdbb76d-f400-47df-af87-936ef2d34b93",
   "metadata": {},
   "source": [
    "### Andmebaasist laused"
   ]
  },
  {
   "cell_type": "code",
   "execution_count": 250,
   "id": "cbca7781-6162-4482-9cee-ce9ae10c3c8e",
   "metadata": {},
   "outputs": [
    {
     "data": {
      "text/plain": [
       "True"
      ]
     },
     "execution_count": 250,
     "metadata": {},
     "output_type": "execute_result"
    }
   ],
   "source": [
    "env_path = Path('.') / '.env'\n",
    "load_dotenv(dotenv_path=env_path)"
   ]
  },
  {
   "cell_type": "code",
   "execution_count": 251,
   "id": "498eb486-9926-4b8c-9a18-31fd6caab119",
   "metadata": {},
   "outputs": [],
   "source": [
    "conn = psycopg2.connect(database = os.getenv(\"DATABASE\"), \n",
    "                        user = os.getenv(\"USER\"), \n",
    "                        host= os.getenv(\"HOST\"),\n",
    "                        password = os.getenv(\"PASSWORD\"),\n",
    "                        port = os.getenv(\"PORT\"))"
   ]
  },
  {
   "cell_type": "code",
   "execution_count": 252,
   "id": "689221fe-dbd4-4892-a774-d85c573f23fe",
   "metadata": {},
   "outputs": [],
   "source": [
    "cur = conn.cursor()\n",
    "\n",
    "# Execute a query\n",
    "cur.execute(\"SELECT id, tekst_id, lause FROM user_kristel.esmase_prodroomi_laused WHERE NOT lower(lause::text) SIMILAR TO '%(dereal|depers|depr)%';\")\n",
    "\n",
    "# Retrieve query results\n",
    "records = cur.fetchall()"
   ]
  },
  {
   "cell_type": "code",
   "execution_count": 253,
   "id": "fc518b07-5c61-4bfc-8c00-c410e5481525",
   "metadata": {},
   "outputs": [],
   "source": [
    "conn.commit()\n",
    "conn.close()"
   ]
  },
  {
   "cell_type": "code",
   "execution_count": 255,
   "id": "5d69d4da-1318-47f7-8eee-0f6b574a4998",
   "metadata": {},
   "outputs": [],
   "source": [
    "df_db_all = pd.DataFrame(records)"
   ]
  },
  {
   "cell_type": "code",
   "execution_count": 257,
   "id": "5be9037c-685e-4406-a5d4-9577699bd848",
   "metadata": {},
   "outputs": [],
   "source": [
    "df_db_all['puhastatud'] = df_db_all[2].apply(puhasta)\n",
    "df_db_all['puhastatud'] = df_db_all['puhastatud'].apply(lambda x: x.lower())\n",
    "df_db_all.drop_duplicates(inplace=True, subset=['puhastatud'])\n",
    "df_db_all = df_db_all.drop('puhastatud', axis=1)"
   ]
  },
  {
   "cell_type": "markdown",
   "id": "4bbed76f-3b22-4e2c-8927-11b71c781c9f",
   "metadata": {},
   "source": [
    "### Iteratsioonid"
   ]
  },
  {
   "cell_type": "code",
   "execution_count": 258,
   "id": "a9ca0a6a-0407-4857-8082-8427c1bfb70b",
   "metadata": {},
   "outputs": [
    {
     "name": "stdout",
     "output_type": "stream",
     "text": [
      "Algselt andmebaasi lausetes:  20116\n",
      "Pärast andmebaasi lausetes:  20114\n"
     ]
    }
   ],
   "source": [
    "top_300_dereal_deperso1 = df_to_pred(df_db_all, 'data_dereal_deperso1.xlsx', 'db_all_suurimad_300_dereal_deperso_1.xlsx', model_dereal_deperso1)"
   ]
  },
  {
   "cell_type": "code",
   "execution_count": 261,
   "id": "8de8ee06-093b-45eb-ba13-1bececcf08f4",
   "metadata": {},
   "outputs": [],
   "source": [
    "df_annotated_dereal_deperso2 = pd.read_excel('data_dereal_deperso2.xlsx', index_col=0)"
   ]
  },
  {
   "cell_type": "code",
   "execution_count": 262,
   "id": "71af88b5-b89d-4270-bcda-9b894a641408",
   "metadata": {},
   "outputs": [
    {
     "data": {
      "text/plain": [
       "on_symptom\n",
       "0    320\n",
       "1     20\n",
       "dtype: int64"
      ]
     },
     "execution_count": 262,
     "metadata": {},
     "output_type": "execute_result"
    }
   ],
   "source": [
    "df_annotated_dereal_deperso2.groupby(\"on_symptom\").size()"
   ]
  },
  {
   "cell_type": "code",
   "execution_count": 263,
   "id": "5652e4f4-625d-4002-b48f-a3eb42d7d1ba",
   "metadata": {},
   "outputs": [],
   "source": [
    "X_train, y_train, X_test, y_test, X_val, y_val = df_to_train_data(df_annotated_dereal_deperso2)"
   ]
  },
  {
   "cell_type": "code",
   "execution_count": 264,
   "id": "7de6c95e-3bd2-44c7-8c6e-5eef3d810cb3",
   "metadata": {},
   "outputs": [
    {
     "name": "stdout",
     "output_type": "stream",
     "text": [
      "Alganmestiku suurus: 340\n",
      "Treeningandmestiku suurus: 238\n",
      "Testandmestiku suurus: 51\n",
      "Valideerimisandmestiku suurus: 51\n"
     ]
    }
   ],
   "source": [
    "print(f\"Alganmestiku suurus: {len(df_annotated_dereal_deperso2)}\")\n",
    "print(f\"Treeningandmestiku suurus: {len(X_train)}\")\n",
    "print(f\"Testandmestiku suurus: {len(X_test)}\")\n",
    "print(f\"Valideerimisandmestiku suurus: {len(X_val)}\")"
   ]
  },
  {
   "cell_type": "code",
   "execution_count": 265,
   "id": "14e8d01b-9ab1-4225-93d4-205160fc4342",
   "metadata": {},
   "outputs": [
    {
     "data": {
      "text/html": [
       "<style>#sk-container-id-23 {color: black;}#sk-container-id-23 pre{padding: 0;}#sk-container-id-23 div.sk-toggleable {background-color: white;}#sk-container-id-23 label.sk-toggleable__label {cursor: pointer;display: block;width: 100%;margin-bottom: 0;padding: 0.3em;box-sizing: border-box;text-align: center;}#sk-container-id-23 label.sk-toggleable__label-arrow:before {content: \"▸\";float: left;margin-right: 0.25em;color: #696969;}#sk-container-id-23 label.sk-toggleable__label-arrow:hover:before {color: black;}#sk-container-id-23 div.sk-estimator:hover label.sk-toggleable__label-arrow:before {color: black;}#sk-container-id-23 div.sk-toggleable__content {max-height: 0;max-width: 0;overflow: hidden;text-align: left;background-color: #f0f8ff;}#sk-container-id-23 div.sk-toggleable__content pre {margin: 0.2em;color: black;border-radius: 0.25em;background-color: #f0f8ff;}#sk-container-id-23 input.sk-toggleable__control:checked~div.sk-toggleable__content {max-height: 200px;max-width: 100%;overflow: auto;}#sk-container-id-23 input.sk-toggleable__control:checked~label.sk-toggleable__label-arrow:before {content: \"▾\";}#sk-container-id-23 div.sk-estimator input.sk-toggleable__control:checked~label.sk-toggleable__label {background-color: #d4ebff;}#sk-container-id-23 div.sk-label input.sk-toggleable__control:checked~label.sk-toggleable__label {background-color: #d4ebff;}#sk-container-id-23 input.sk-hidden--visually {border: 0;clip: rect(1px 1px 1px 1px);clip: rect(1px, 1px, 1px, 1px);height: 1px;margin: -1px;overflow: hidden;padding: 0;position: absolute;width: 1px;}#sk-container-id-23 div.sk-estimator {font-family: monospace;background-color: #f0f8ff;border: 1px dotted black;border-radius: 0.25em;box-sizing: border-box;margin-bottom: 0.5em;}#sk-container-id-23 div.sk-estimator:hover {background-color: #d4ebff;}#sk-container-id-23 div.sk-parallel-item::after {content: \"\";width: 100%;border-bottom: 1px solid gray;flex-grow: 1;}#sk-container-id-23 div.sk-label:hover label.sk-toggleable__label {background-color: #d4ebff;}#sk-container-id-23 div.sk-serial::before {content: \"\";position: absolute;border-left: 1px solid gray;box-sizing: border-box;top: 0;bottom: 0;left: 50%;z-index: 0;}#sk-container-id-23 div.sk-serial {display: flex;flex-direction: column;align-items: center;background-color: white;padding-right: 0.2em;padding-left: 0.2em;position: relative;}#sk-container-id-23 div.sk-item {position: relative;z-index: 1;}#sk-container-id-23 div.sk-parallel {display: flex;align-items: stretch;justify-content: center;background-color: white;position: relative;}#sk-container-id-23 div.sk-item::before, #sk-container-id-23 div.sk-parallel-item::before {content: \"\";position: absolute;border-left: 1px solid gray;box-sizing: border-box;top: 0;bottom: 0;left: 50%;z-index: -1;}#sk-container-id-23 div.sk-parallel-item {display: flex;flex-direction: column;z-index: 1;position: relative;background-color: white;}#sk-container-id-23 div.sk-parallel-item:first-child::after {align-self: flex-end;width: 50%;}#sk-container-id-23 div.sk-parallel-item:last-child::after {align-self: flex-start;width: 50%;}#sk-container-id-23 div.sk-parallel-item:only-child::after {width: 0;}#sk-container-id-23 div.sk-dashed-wrapped {border: 1px dashed gray;margin: 0 0.4em 0.5em 0.4em;box-sizing: border-box;padding-bottom: 0.4em;background-color: white;}#sk-container-id-23 div.sk-label label {font-family: monospace;font-weight: bold;display: inline-block;line-height: 1.2em;}#sk-container-id-23 div.sk-label-container {text-align: center;}#sk-container-id-23 div.sk-container {/* jupyter's `normalize.less` sets `[hidden] { display: none; }` but bootstrap.min.css set `[hidden] { display: none !important; }` so we also need the `!important` here to be able to override the default hidden behavior on the sphinx rendered scikit-learn.org. See: https://github.com/scikit-learn/scikit-learn/issues/21755 */display: inline-block !important;position: relative;}#sk-container-id-23 div.sk-text-repr-fallback {display: none;}</style><div id=\"sk-container-id-23\" class=\"sk-top-container\"><div class=\"sk-text-repr-fallback\"><pre>LogisticRegression(C=10)</pre><b>In a Jupyter environment, please rerun this cell to show the HTML representation or trust the notebook. <br />On GitHub, the HTML representation is unable to render, please try loading this page with nbviewer.org.</b></div><div class=\"sk-container\" hidden><div class=\"sk-item\"><div class=\"sk-estimator sk-toggleable\"><input class=\"sk-toggleable__control sk-hidden--visually\" id=\"sk-estimator-id-23\" type=\"checkbox\" checked><label for=\"sk-estimator-id-23\" class=\"sk-toggleable__label sk-toggleable__label-arrow\">LogisticRegression</label><div class=\"sk-toggleable__content\"><pre>LogisticRegression(C=10)</pre></div></div></div></div></div>"
      ],
      "text/plain": [
       "LogisticRegression(C=10)"
      ]
     },
     "execution_count": 265,
     "metadata": {},
     "output_type": "execute_result"
    }
   ],
   "source": [
    "model_dereal_deperso2 = LogisticRegression(C = 10)\n",
    "model_dereal_deperso2.fit(X_train, y_train)"
   ]
  },
  {
   "cell_type": "code",
   "execution_count": 266,
   "id": "fb54dff1-63a2-4a6f-9bf4-4c14c4cdc3d2",
   "metadata": {},
   "outputs": [],
   "source": [
    "predictions_val_dereal_deperso2 = model_dereal_deperso2.predict(X_val)"
   ]
  },
  {
   "cell_type": "code",
   "execution_count": 267,
   "id": "85439baa-e18c-42f0-88a9-70111cd4ab38",
   "metadata": {},
   "outputs": [],
   "source": [
    "classification_report_val_dereal_deperso2 = classification_report(y_val, predictions_val_dereal_deperso2, output_dict=True)"
   ]
  },
  {
   "cell_type": "code",
   "execution_count": 268,
   "id": "2bf01a16-8e39-4045-8ce2-e9539f74ffe5",
   "metadata": {},
   "outputs": [],
   "source": [
    "classification_reports.append(classification_report_val_dereal_deperso2)"
   ]
  },
  {
   "cell_type": "code",
   "execution_count": 269,
   "id": "6f54ee3d-5fcc-4090-a7ca-4a58bec64b64",
   "metadata": {},
   "outputs": [
    {
     "name": "stdout",
     "output_type": "stream",
     "text": [
      "              precision    recall  f1-score   support\n",
      "\n",
      "           0       0.94      0.96      0.95        48\n",
      "           1       0.00      0.00      0.00         3\n",
      "\n",
      "    accuracy                           0.90        51\n",
      "   macro avg       0.47      0.48      0.47        51\n",
      "weighted avg       0.88      0.90      0.89        51\n",
      "\n"
     ]
    }
   ],
   "source": [
    "classification_report_val_dereal_deperso2 = classification_report(y_val, predictions_val_dereal_deperso2)\n",
    "print(classification_report_val_dereal_deperso2)"
   ]
  },
  {
   "cell_type": "code",
   "execution_count": 270,
   "id": "3f3ecb38-1da6-4e76-9fe5-9a091ad40c54",
   "metadata": {},
   "outputs": [
    {
     "data": {
      "image/png": "[encoded data removed]",
      "text/plain": [
       "<Figure size 1000x500 with 1 Axes>"
      ]
     },
     "metadata": {},
     "output_type": "display_data"
    }
   ],
   "source": [
    "matrix_dereal_deperso_val2 = confusion_matrix(y_val, predictions_val_dereal_deperso2)\n",
    "\n",
    "fig, axes = plt.subplots(1, figsize=(10, 5))\n",
    "\n",
    "s_dereal_deperso_val2 = sns.heatmap(matrix_dereal_deperso_val2, cmap='crest', annot=True, annot_kws={\"fontsize\":16}, cbar=False, fmt=\"d\", xticklabels=[\"ei\", \"jah\"], yticklabels=[\"ei\", \"jah\"]);\n",
    "s_dereal_deperso_val2.set_ylabel(\"Tegelikud märgendid\", fontsize=13);\n",
    "s_dereal_deperso_val2.set_xlabel(\"Ennustatud märgendid\", fontsize=13);\n",
    "s_dereal_deperso_val2.set_title(\"Segadusmaatriks valideerimisandmestikul\");"
   ]
  },
  {
   "cell_type": "code",
   "execution_count": 272,
   "id": "33282082-330b-4cc7-aeb1-6e14b31ca05e",
   "metadata": {},
   "outputs": [],
   "source": [
    "fig = s_dereal_deperso_val2.get_figure()\n",
    "fig.savefig(\"val_7.png\")"
   ]
  },
  {
   "cell_type": "code",
   "execution_count": 273,
   "id": "b2c4d627-f44c-433c-8d29-80b791e4ffef",
   "metadata": {},
   "outputs": [
    {
     "data": {
      "text/html": [
       "<style>#sk-container-id-24 {color: black;}#sk-container-id-24 pre{padding: 0;}#sk-container-id-24 div.sk-toggleable {background-color: white;}#sk-container-id-24 label.sk-toggleable__label {cursor: pointer;display: block;width: 100%;margin-bottom: 0;padding: 0.3em;box-sizing: border-box;text-align: center;}#sk-container-id-24 label.sk-toggleable__label-arrow:before {content: \"▸\";float: left;margin-right: 0.25em;color: #696969;}#sk-container-id-24 label.sk-toggleable__label-arrow:hover:before {color: black;}#sk-container-id-24 div.sk-estimator:hover label.sk-toggleable__label-arrow:before {color: black;}#sk-container-id-24 div.sk-toggleable__content {max-height: 0;max-width: 0;overflow: hidden;text-align: left;background-color: #f0f8ff;}#sk-container-id-24 div.sk-toggleable__content pre {margin: 0.2em;color: black;border-radius: 0.25em;background-color: #f0f8ff;}#sk-container-id-24 input.sk-toggleable__control:checked~div.sk-toggleable__content {max-height: 200px;max-width: 100%;overflow: auto;}#sk-container-id-24 input.sk-toggleable__control:checked~label.sk-toggleable__label-arrow:before {content: \"▾\";}#sk-container-id-24 div.sk-estimator input.sk-toggleable__control:checked~label.sk-toggleable__label {background-color: #d4ebff;}#sk-container-id-24 div.sk-label input.sk-toggleable__control:checked~label.sk-toggleable__label {background-color: #d4ebff;}#sk-container-id-24 input.sk-hidden--visually {border: 0;clip: rect(1px 1px 1px 1px);clip: rect(1px, 1px, 1px, 1px);height: 1px;margin: -1px;overflow: hidden;padding: 0;position: absolute;width: 1px;}#sk-container-id-24 div.sk-estimator {font-family: monospace;background-color: #f0f8ff;border: 1px dotted black;border-radius: 0.25em;box-sizing: border-box;margin-bottom: 0.5em;}#sk-container-id-24 div.sk-estimator:hover {background-color: #d4ebff;}#sk-container-id-24 div.sk-parallel-item::after {content: \"\";width: 100%;border-bottom: 1px solid gray;flex-grow: 1;}#sk-container-id-24 div.sk-label:hover label.sk-toggleable__label {background-color: #d4ebff;}#sk-container-id-24 div.sk-serial::before {content: \"\";position: absolute;border-left: 1px solid gray;box-sizing: border-box;top: 0;bottom: 0;left: 50%;z-index: 0;}#sk-container-id-24 div.sk-serial {display: flex;flex-direction: column;align-items: center;background-color: white;padding-right: 0.2em;padding-left: 0.2em;position: relative;}#sk-container-id-24 div.sk-item {position: relative;z-index: 1;}#sk-container-id-24 div.sk-parallel {display: flex;align-items: stretch;justify-content: center;background-color: white;position: relative;}#sk-container-id-24 div.sk-item::before, #sk-container-id-24 div.sk-parallel-item::before {content: \"\";position: absolute;border-left: 1px solid gray;box-sizing: border-box;top: 0;bottom: 0;left: 50%;z-index: -1;}#sk-container-id-24 div.sk-parallel-item {display: flex;flex-direction: column;z-index: 1;position: relative;background-color: white;}#sk-container-id-24 div.sk-parallel-item:first-child::after {align-self: flex-end;width: 50%;}#sk-container-id-24 div.sk-parallel-item:last-child::after {align-self: flex-start;width: 50%;}#sk-container-id-24 div.sk-parallel-item:only-child::after {width: 0;}#sk-container-id-24 div.sk-dashed-wrapped {border: 1px dashed gray;margin: 0 0.4em 0.5em 0.4em;box-sizing: border-box;padding-bottom: 0.4em;background-color: white;}#sk-container-id-24 div.sk-label label {font-family: monospace;font-weight: bold;display: inline-block;line-height: 1.2em;}#sk-container-id-24 div.sk-label-container {text-align: center;}#sk-container-id-24 div.sk-container {/* jupyter's `normalize.less` sets `[hidden] { display: none; }` but bootstrap.min.css set `[hidden] { display: none !important; }` so we also need the `!important` here to be able to override the default hidden behavior on the sphinx rendered scikit-learn.org. See: https://github.com/scikit-learn/scikit-learn/issues/21755 */display: inline-block !important;position: relative;}#sk-container-id-24 div.sk-text-repr-fallback {display: none;}</style><div id=\"sk-container-id-24\" class=\"sk-top-container\"><div class=\"sk-text-repr-fallback\"><pre>LogisticRegression(C=10)</pre><b>In a Jupyter environment, please rerun this cell to show the HTML representation or trust the notebook. <br />On GitHub, the HTML representation is unable to render, please try loading this page with nbviewer.org.</b></div><div class=\"sk-container\" hidden><div class=\"sk-item\"><div class=\"sk-estimator sk-toggleable\"><input class=\"sk-toggleable__control sk-hidden--visually\" id=\"sk-estimator-id-24\" type=\"checkbox\" checked><label for=\"sk-estimator-id-24\" class=\"sk-toggleable__label sk-toggleable__label-arrow\">LogisticRegression</label><div class=\"sk-toggleable__content\"><pre>LogisticRegression(C=10)</pre></div></div></div></div></div>"
      ],
      "text/plain": [
       "LogisticRegression(C=10)"
      ]
     },
     "execution_count": 273,
     "metadata": {},
     "output_type": "execute_result"
    }
   ],
   "source": [
    "labels_de2 = df_annotated_dereal_deperso2['on_symptom']\n",
    "features_de2 = df_to_vec(df_annotated_dereal_deperso2, 'lause')\n",
    "\n",
    "model_dereal_deperso2 = LogisticRegression(C = 10)\n",
    "model_dereal_deperso2.fit(features_de2, labels_de2)"
   ]
  },
  {
   "cell_type": "code",
   "execution_count": 275,
   "id": "f4a69649-1712-4559-9051-286638789486",
   "metadata": {},
   "outputs": [
    {
     "name": "stdout",
     "output_type": "stream",
     "text": [
      "Algselt andmebaasi lausetes:  20116\n",
      "Pärast andmebaasi lausetes:  19814\n"
     ]
    }
   ],
   "source": [
    "top_300_dereal_deperso2 = df_to_pred(df_db_all, 'data_dereal_deperso2.xlsx', 'db_all_suurimad_300_dereal_deperso_2.xlsx', model_dereal_deperso2)"
   ]
  },
  {
   "cell_type": "code",
   "execution_count": 277,
   "id": "f95d225c-f438-45d8-b4aa-92b45e0d40b9",
   "metadata": {},
   "outputs": [],
   "source": [
    "df_annotated_dereal_deperso3 = pd.read_excel('data_dereal_deperso3.xlsx', index_col=0)"
   ]
  },
  {
   "cell_type": "code",
   "execution_count": 278,
   "id": "dcb6aed4-eb02-42aa-a210-6afab99e5db1",
   "metadata": {},
   "outputs": [
    {
     "data": {
      "text/plain": [
       "on_symptom\n",
       "0    616\n",
       "1     24\n",
       "dtype: int64"
      ]
     },
     "execution_count": 278,
     "metadata": {},
     "output_type": "execute_result"
    }
   ],
   "source": [
    "df_annotated_dereal_deperso3.groupby(\"on_symptom\").size()"
   ]
  },
  {
   "cell_type": "code",
   "execution_count": 279,
   "id": "10acc6a7-8370-4e07-bd56-32fe59e90a5c",
   "metadata": {},
   "outputs": [],
   "source": [
    "X_train, y_train, X_test, y_test, X_val, y_val = df_to_train_data(df_annotated_dereal_deperso3)"
   ]
  },
  {
   "cell_type": "code",
   "execution_count": 280,
   "id": "4fb37907-b586-4b9e-91fb-6d88d4e6e3c4",
   "metadata": {},
   "outputs": [
    {
     "name": "stdout",
     "output_type": "stream",
     "text": [
      "Alganmestiku suurus: 640\n",
      "Treeningandmestiku suurus: 448\n",
      "Testandmestiku suurus: 96\n",
      "Valideerimisandmestiku suurus: 96\n"
     ]
    }
   ],
   "source": [
    "print(f\"Alganmestiku suurus: {len(df_annotated_dereal_deperso3)}\")\n",
    "print(f\"Treeningandmestiku suurus: {len(X_train)}\")\n",
    "print(f\"Testandmestiku suurus: {len(X_test)}\")\n",
    "print(f\"Valideerimisandmestiku suurus: {len(X_val)}\")"
   ]
  },
  {
   "cell_type": "code",
   "execution_count": 281,
   "id": "173165d8-2684-478e-a6b7-14fdba22515f",
   "metadata": {},
   "outputs": [
    {
     "data": {
      "text/html": [
       "<style>#sk-container-id-25 {color: black;}#sk-container-id-25 pre{padding: 0;}#sk-container-id-25 div.sk-toggleable {background-color: white;}#sk-container-id-25 label.sk-toggleable__label {cursor: pointer;display: block;width: 100%;margin-bottom: 0;padding: 0.3em;box-sizing: border-box;text-align: center;}#sk-container-id-25 label.sk-toggleable__label-arrow:before {content: \"▸\";float: left;margin-right: 0.25em;color: #696969;}#sk-container-id-25 label.sk-toggleable__label-arrow:hover:before {color: black;}#sk-container-id-25 div.sk-estimator:hover label.sk-toggleable__label-arrow:before {color: black;}#sk-container-id-25 div.sk-toggleable__content {max-height: 0;max-width: 0;overflow: hidden;text-align: left;background-color: #f0f8ff;}#sk-container-id-25 div.sk-toggleable__content pre {margin: 0.2em;color: black;border-radius: 0.25em;background-color: #f0f8ff;}#sk-container-id-25 input.sk-toggleable__control:checked~div.sk-toggleable__content {max-height: 200px;max-width: 100%;overflow: auto;}#sk-container-id-25 input.sk-toggleable__control:checked~label.sk-toggleable__label-arrow:before {content: \"▾\";}#sk-container-id-25 div.sk-estimator input.sk-toggleable__control:checked~label.sk-toggleable__label {background-color: #d4ebff;}#sk-container-id-25 div.sk-label input.sk-toggleable__control:checked~label.sk-toggleable__label {background-color: #d4ebff;}#sk-container-id-25 input.sk-hidden--visually {border: 0;clip: rect(1px 1px 1px 1px);clip: rect(1px, 1px, 1px, 1px);height: 1px;margin: -1px;overflow: hidden;padding: 0;position: absolute;width: 1px;}#sk-container-id-25 div.sk-estimator {font-family: monospace;background-color: #f0f8ff;border: 1px dotted black;border-radius: 0.25em;box-sizing: border-box;margin-bottom: 0.5em;}#sk-container-id-25 div.sk-estimator:hover {background-color: #d4ebff;}#sk-container-id-25 div.sk-parallel-item::after {content: \"\";width: 100%;border-bottom: 1px solid gray;flex-grow: 1;}#sk-container-id-25 div.sk-label:hover label.sk-toggleable__label {background-color: #d4ebff;}#sk-container-id-25 div.sk-serial::before {content: \"\";position: absolute;border-left: 1px solid gray;box-sizing: border-box;top: 0;bottom: 0;left: 50%;z-index: 0;}#sk-container-id-25 div.sk-serial {display: flex;flex-direction: column;align-items: center;background-color: white;padding-right: 0.2em;padding-left: 0.2em;position: relative;}#sk-container-id-25 div.sk-item {position: relative;z-index: 1;}#sk-container-id-25 div.sk-parallel {display: flex;align-items: stretch;justify-content: center;background-color: white;position: relative;}#sk-container-id-25 div.sk-item::before, #sk-container-id-25 div.sk-parallel-item::before {content: \"\";position: absolute;border-left: 1px solid gray;box-sizing: border-box;top: 0;bottom: 0;left: 50%;z-index: -1;}#sk-container-id-25 div.sk-parallel-item {display: flex;flex-direction: column;z-index: 1;position: relative;background-color: white;}#sk-container-id-25 div.sk-parallel-item:first-child::after {align-self: flex-end;width: 50%;}#sk-container-id-25 div.sk-parallel-item:last-child::after {align-self: flex-start;width: 50%;}#sk-container-id-25 div.sk-parallel-item:only-child::after {width: 0;}#sk-container-id-25 div.sk-dashed-wrapped {border: 1px dashed gray;margin: 0 0.4em 0.5em 0.4em;box-sizing: border-box;padding-bottom: 0.4em;background-color: white;}#sk-container-id-25 div.sk-label label {font-family: monospace;font-weight: bold;display: inline-block;line-height: 1.2em;}#sk-container-id-25 div.sk-label-container {text-align: center;}#sk-container-id-25 div.sk-container {/* jupyter's `normalize.less` sets `[hidden] { display: none; }` but bootstrap.min.css set `[hidden] { display: none !important; }` so we also need the `!important` here to be able to override the default hidden behavior on the sphinx rendered scikit-learn.org. See: https://github.com/scikit-learn/scikit-learn/issues/21755 */display: inline-block !important;position: relative;}#sk-container-id-25 div.sk-text-repr-fallback {display: none;}</style><div id=\"sk-container-id-25\" class=\"sk-top-container\"><div class=\"sk-text-repr-fallback\"><pre>LogisticRegression(C=10)</pre><b>In a Jupyter environment, please rerun this cell to show the HTML representation or trust the notebook. <br />On GitHub, the HTML representation is unable to render, please try loading this page with nbviewer.org.</b></div><div class=\"sk-container\" hidden><div class=\"sk-item\"><div class=\"sk-estimator sk-toggleable\"><input class=\"sk-toggleable__control sk-hidden--visually\" id=\"sk-estimator-id-25\" type=\"checkbox\" checked><label for=\"sk-estimator-id-25\" class=\"sk-toggleable__label sk-toggleable__label-arrow\">LogisticRegression</label><div class=\"sk-toggleable__content\"><pre>LogisticRegression(C=10)</pre></div></div></div></div></div>"
      ],
      "text/plain": [
       "LogisticRegression(C=10)"
      ]
     },
     "execution_count": 281,
     "metadata": {},
     "output_type": "execute_result"
    }
   ],
   "source": [
    "model_dereal_deperso3 = LogisticRegression(C = 10)\n",
    "model_dereal_deperso3.fit(X_train, y_train)"
   ]
  },
  {
   "cell_type": "code",
   "execution_count": 282,
   "id": "6124b695-0510-4aa0-ade0-4b5f333f0f57",
   "metadata": {},
   "outputs": [],
   "source": [
    "predictions_val_dereal_deperso3 = model_dereal_deperso3.predict(X_val)"
   ]
  },
  {
   "cell_type": "code",
   "execution_count": 283,
   "id": "d7d74a4f-b750-4026-8eca-2d2b6804cedf",
   "metadata": {},
   "outputs": [],
   "source": [
    "classification_report_val_dereal_deperso3 = classification_report(y_val, predictions_val_dereal_deperso3, output_dict=True)"
   ]
  },
  {
   "cell_type": "code",
   "execution_count": 284,
   "id": "147396c0-96da-43f8-a953-80e4703bd812",
   "metadata": {},
   "outputs": [
    {
     "name": "stdout",
     "output_type": "stream",
     "text": [
      "              precision    recall  f1-score   support\n",
      "\n",
      "           0       0.96      0.97      0.96        92\n",
      "           1       0.00      0.00      0.00         4\n",
      "\n",
      "    accuracy                           0.93        96\n",
      "   macro avg       0.48      0.48      0.48        96\n",
      "weighted avg       0.92      0.93      0.92        96\n",
      "\n"
     ]
    }
   ],
   "source": [
    "classification_report_val_dereal_deperso3 = classification_report(y_val, predictions_val_dereal_deperso3)\n",
    "print(classification_report_val_dereal_deperso3)"
   ]
  },
  {
   "cell_type": "code",
   "execution_count": 285,
   "id": "968676a1-7acd-4003-a120-a288184dc42b",
   "metadata": {},
   "outputs": [],
   "source": [
    "classification_reports.append(classification_report_val_dereal_deperso3)"
   ]
  },
  {
   "cell_type": "code",
   "execution_count": 286,
   "id": "cb9cc9c4-1a28-4d1d-9db7-eaa0aae7edcf",
   "metadata": {},
   "outputs": [
    {
     "data": {
      "image/png": "[encoded data removed]",
      "text/plain": [
       "<Figure size 1000x500 with 1 Axes>"
      ]
     },
     "metadata": {},
     "output_type": "display_data"
    }
   ],
   "source": [
    "matrix_dereal_deperso_val3 = confusion_matrix(y_val, predictions_val_dereal_deperso3)\n",
    "\n",
    "fig, axes = plt.subplots(1, figsize=(10, 5))\n",
    "\n",
    "s_dereal_deperso_val3 = sns.heatmap(matrix_dereal_deperso_val3, cmap='crest', annot=True, annot_kws={\"fontsize\":16}, cbar=False, fmt=\"d\", xticklabels=[\"ei\", \"jah\"], yticklabels=[\"ei\", \"jah\"]);\n",
    "s_dereal_deperso_val3.set_ylabel(\"Tegelikud märgendid\", fontsize=13);\n",
    "s_dereal_deperso_val3.set_xlabel(\"Ennustatud märgendid\", fontsize=13);\n",
    "s_dereal_deperso_val3.set_title(\"Segadusmaatriks valideerimisandmestikul\");"
   ]
  },
  {
   "cell_type": "code",
   "execution_count": 287,
   "id": "3fcc162b-1882-4a42-bc99-0e9c5c29b0d5",
   "metadata": {},
   "outputs": [],
   "source": [
    "fig = s_dereal_deperso_val3.get_figure()\n",
    "fig.savefig(\"val_8.png\")"
   ]
  },
  {
   "cell_type": "code",
   "execution_count": 288,
   "id": "79f6836e-a50d-4e78-b766-0a0c1e65d1f7",
   "metadata": {},
   "outputs": [
    {
     "data": {
      "text/html": [
       "<style>#sk-container-id-26 {color: black;}#sk-container-id-26 pre{padding: 0;}#sk-container-id-26 div.sk-toggleable {background-color: white;}#sk-container-id-26 label.sk-toggleable__label {cursor: pointer;display: block;width: 100%;margin-bottom: 0;padding: 0.3em;box-sizing: border-box;text-align: center;}#sk-container-id-26 label.sk-toggleable__label-arrow:before {content: \"▸\";float: left;margin-right: 0.25em;color: #696969;}#sk-container-id-26 label.sk-toggleable__label-arrow:hover:before {color: black;}#sk-container-id-26 div.sk-estimator:hover label.sk-toggleable__label-arrow:before {color: black;}#sk-container-id-26 div.sk-toggleable__content {max-height: 0;max-width: 0;overflow: hidden;text-align: left;background-color: #f0f8ff;}#sk-container-id-26 div.sk-toggleable__content pre {margin: 0.2em;color: black;border-radius: 0.25em;background-color: #f0f8ff;}#sk-container-id-26 input.sk-toggleable__control:checked~div.sk-toggleable__content {max-height: 200px;max-width: 100%;overflow: auto;}#sk-container-id-26 input.sk-toggleable__control:checked~label.sk-toggleable__label-arrow:before {content: \"▾\";}#sk-container-id-26 div.sk-estimator input.sk-toggleable__control:checked~label.sk-toggleable__label {background-color: #d4ebff;}#sk-container-id-26 div.sk-label input.sk-toggleable__control:checked~label.sk-toggleable__label {background-color: #d4ebff;}#sk-container-id-26 input.sk-hidden--visually {border: 0;clip: rect(1px 1px 1px 1px);clip: rect(1px, 1px, 1px, 1px);height: 1px;margin: -1px;overflow: hidden;padding: 0;position: absolute;width: 1px;}#sk-container-id-26 div.sk-estimator {font-family: monospace;background-color: #f0f8ff;border: 1px dotted black;border-radius: 0.25em;box-sizing: border-box;margin-bottom: 0.5em;}#sk-container-id-26 div.sk-estimator:hover {background-color: #d4ebff;}#sk-container-id-26 div.sk-parallel-item::after {content: \"\";width: 100%;border-bottom: 1px solid gray;flex-grow: 1;}#sk-container-id-26 div.sk-label:hover label.sk-toggleable__label {background-color: #d4ebff;}#sk-container-id-26 div.sk-serial::before {content: \"\";position: absolute;border-left: 1px solid gray;box-sizing: border-box;top: 0;bottom: 0;left: 50%;z-index: 0;}#sk-container-id-26 div.sk-serial {display: flex;flex-direction: column;align-items: center;background-color: white;padding-right: 0.2em;padding-left: 0.2em;position: relative;}#sk-container-id-26 div.sk-item {position: relative;z-index: 1;}#sk-container-id-26 div.sk-parallel {display: flex;align-items: stretch;justify-content: center;background-color: white;position: relative;}#sk-container-id-26 div.sk-item::before, #sk-container-id-26 div.sk-parallel-item::before {content: \"\";position: absolute;border-left: 1px solid gray;box-sizing: border-box;top: 0;bottom: 0;left: 50%;z-index: -1;}#sk-container-id-26 div.sk-parallel-item {display: flex;flex-direction: column;z-index: 1;position: relative;background-color: white;}#sk-container-id-26 div.sk-parallel-item:first-child::after {align-self: flex-end;width: 50%;}#sk-container-id-26 div.sk-parallel-item:last-child::after {align-self: flex-start;width: 50%;}#sk-container-id-26 div.sk-parallel-item:only-child::after {width: 0;}#sk-container-id-26 div.sk-dashed-wrapped {border: 1px dashed gray;margin: 0 0.4em 0.5em 0.4em;box-sizing: border-box;padding-bottom: 0.4em;background-color: white;}#sk-container-id-26 div.sk-label label {font-family: monospace;font-weight: bold;display: inline-block;line-height: 1.2em;}#sk-container-id-26 div.sk-label-container {text-align: center;}#sk-container-id-26 div.sk-container {/* jupyter's `normalize.less` sets `[hidden] { display: none; }` but bootstrap.min.css set `[hidden] { display: none !important; }` so we also need the `!important` here to be able to override the default hidden behavior on the sphinx rendered scikit-learn.org. See: https://github.com/scikit-learn/scikit-learn/issues/21755 */display: inline-block !important;position: relative;}#sk-container-id-26 div.sk-text-repr-fallback {display: none;}</style><div id=\"sk-container-id-26\" class=\"sk-top-container\"><div class=\"sk-text-repr-fallback\"><pre>LogisticRegression(C=10)</pre><b>In a Jupyter environment, please rerun this cell to show the HTML representation or trust the notebook. <br />On GitHub, the HTML representation is unable to render, please try loading this page with nbviewer.org.</b></div><div class=\"sk-container\" hidden><div class=\"sk-item\"><div class=\"sk-estimator sk-toggleable\"><input class=\"sk-toggleable__control sk-hidden--visually\" id=\"sk-estimator-id-26\" type=\"checkbox\" checked><label for=\"sk-estimator-id-26\" class=\"sk-toggleable__label sk-toggleable__label-arrow\">LogisticRegression</label><div class=\"sk-toggleable__content\"><pre>LogisticRegression(C=10)</pre></div></div></div></div></div>"
      ],
      "text/plain": [
       "LogisticRegression(C=10)"
      ]
     },
     "execution_count": 288,
     "metadata": {},
     "output_type": "execute_result"
    }
   ],
   "source": [
    "labels_de3 = df_annotated_dereal_deperso3['on_symptom']\n",
    "features_de3 = df_to_vec(df_annotated_dereal_deperso3, 'lause')\n",
    "\n",
    "model_dereal_deperso3 = LogisticRegression(C = 10)\n",
    "model_dereal_deperso3.fit(features_de3, labels_de3)"
   ]
  },
  {
   "cell_type": "code",
   "execution_count": 290,
   "id": "c179067d-6c1e-47fd-86b1-ecc1dc9488dc",
   "metadata": {},
   "outputs": [
    {
     "name": "stdout",
     "output_type": "stream",
     "text": [
      "Algselt andmebaasi lausetes:  20116\n",
      "Pärast andmebaasi lausetes:  19514\n"
     ]
    }
   ],
   "source": [
    "top_300_dereal_deperso3 = df_to_pred(df_db_all, 'data_dereal_deperso3.xlsx', 'db_all_suurimad_300_dereal_deperso_3.xlsx', model_dereal_deperso3)"
   ]
  },
  {
   "cell_type": "code",
   "execution_count": 292,
   "id": "663b370d-0f16-41d5-a25f-bd06da426200",
   "metadata": {},
   "outputs": [],
   "source": [
    "df_annotated_dereal_deperso4 = pd.read_excel('data_dereal_deperso4.xlsx', index_col=0)"
   ]
  },
  {
   "cell_type": "code",
   "execution_count": 293,
   "id": "8d1fb8c0-6e98-4707-8d70-718a4e7fa292",
   "metadata": {},
   "outputs": [
    {
     "data": {
      "text/plain": [
       "on_symptom\n",
       "0    619\n",
       "1     24\n",
       "dtype: int64"
      ]
     },
     "execution_count": 293,
     "metadata": {},
     "output_type": "execute_result"
    }
   ],
   "source": [
    "df_annotated_dereal_deperso4.groupby(\"on_symptom\").size()"
   ]
  },
  {
   "cell_type": "code",
   "execution_count": 294,
   "id": "40d9e39e-8c2e-4852-9436-b7b8894ba4ef",
   "metadata": {},
   "outputs": [],
   "source": [
    "X_train, y_train, X_test, y_test, X_val, y_val = df_to_train_data(df_annotated_dereal_deperso4)"
   ]
  },
  {
   "cell_type": "code",
   "execution_count": 295,
   "id": "3ced4001-5fe8-4eb3-8a56-b4a67c75a3f4",
   "metadata": {},
   "outputs": [
    {
     "name": "stdout",
     "output_type": "stream",
     "text": [
      "Alganmestiku suurus: 643\n",
      "Treeningandmestiku suurus: 450\n",
      "Testandmestiku suurus: 97\n",
      "Valideerimisandmestiku suurus: 96\n"
     ]
    }
   ],
   "source": [
    "print(f\"Alganmestiku suurus: {len(df_annotated_dereal_deperso4)}\")\n",
    "print(f\"Treeningandmestiku suurus: {len(X_train)}\")\n",
    "print(f\"Testandmestiku suurus: {len(X_test)}\")\n",
    "print(f\"Valideerimisandmestiku suurus: {len(X_val)}\")"
   ]
  },
  {
   "cell_type": "code",
   "execution_count": 296,
   "id": "724fbb44-6cd4-4b2b-8d97-ec26529162c9",
   "metadata": {},
   "outputs": [
    {
     "data": {
      "text/html": [
       "<style>#sk-container-id-27 {color: black;}#sk-container-id-27 pre{padding: 0;}#sk-container-id-27 div.sk-toggleable {background-color: white;}#sk-container-id-27 label.sk-toggleable__label {cursor: pointer;display: block;width: 100%;margin-bottom: 0;padding: 0.3em;box-sizing: border-box;text-align: center;}#sk-container-id-27 label.sk-toggleable__label-arrow:before {content: \"▸\";float: left;margin-right: 0.25em;color: #696969;}#sk-container-id-27 label.sk-toggleable__label-arrow:hover:before {color: black;}#sk-container-id-27 div.sk-estimator:hover label.sk-toggleable__label-arrow:before {color: black;}#sk-container-id-27 div.sk-toggleable__content {max-height: 0;max-width: 0;overflow: hidden;text-align: left;background-color: #f0f8ff;}#sk-container-id-27 div.sk-toggleable__content pre {margin: 0.2em;color: black;border-radius: 0.25em;background-color: #f0f8ff;}#sk-container-id-27 input.sk-toggleable__control:checked~div.sk-toggleable__content {max-height: 200px;max-width: 100%;overflow: auto;}#sk-container-id-27 input.sk-toggleable__control:checked~label.sk-toggleable__label-arrow:before {content: \"▾\";}#sk-container-id-27 div.sk-estimator input.sk-toggleable__control:checked~label.sk-toggleable__label {background-color: #d4ebff;}#sk-container-id-27 div.sk-label input.sk-toggleable__control:checked~label.sk-toggleable__label {background-color: #d4ebff;}#sk-container-id-27 input.sk-hidden--visually {border: 0;clip: rect(1px 1px 1px 1px);clip: rect(1px, 1px, 1px, 1px);height: 1px;margin: -1px;overflow: hidden;padding: 0;position: absolute;width: 1px;}#sk-container-id-27 div.sk-estimator {font-family: monospace;background-color: #f0f8ff;border: 1px dotted black;border-radius: 0.25em;box-sizing: border-box;margin-bottom: 0.5em;}#sk-container-id-27 div.sk-estimator:hover {background-color: #d4ebff;}#sk-container-id-27 div.sk-parallel-item::after {content: \"\";width: 100%;border-bottom: 1px solid gray;flex-grow: 1;}#sk-container-id-27 div.sk-label:hover label.sk-toggleable__label {background-color: #d4ebff;}#sk-container-id-27 div.sk-serial::before {content: \"\";position: absolute;border-left: 1px solid gray;box-sizing: border-box;top: 0;bottom: 0;left: 50%;z-index: 0;}#sk-container-id-27 div.sk-serial {display: flex;flex-direction: column;align-items: center;background-color: white;padding-right: 0.2em;padding-left: 0.2em;position: relative;}#sk-container-id-27 div.sk-item {position: relative;z-index: 1;}#sk-container-id-27 div.sk-parallel {display: flex;align-items: stretch;justify-content: center;background-color: white;position: relative;}#sk-container-id-27 div.sk-item::before, #sk-container-id-27 div.sk-parallel-item::before {content: \"\";position: absolute;border-left: 1px solid gray;box-sizing: border-box;top: 0;bottom: 0;left: 50%;z-index: -1;}#sk-container-id-27 div.sk-parallel-item {display: flex;flex-direction: column;z-index: 1;position: relative;background-color: white;}#sk-container-id-27 div.sk-parallel-item:first-child::after {align-self: flex-end;width: 50%;}#sk-container-id-27 div.sk-parallel-item:last-child::after {align-self: flex-start;width: 50%;}#sk-container-id-27 div.sk-parallel-item:only-child::after {width: 0;}#sk-container-id-27 div.sk-dashed-wrapped {border: 1px dashed gray;margin: 0 0.4em 0.5em 0.4em;box-sizing: border-box;padding-bottom: 0.4em;background-color: white;}#sk-container-id-27 div.sk-label label {font-family: monospace;font-weight: bold;display: inline-block;line-height: 1.2em;}#sk-container-id-27 div.sk-label-container {text-align: center;}#sk-container-id-27 div.sk-container {/* jupyter's `normalize.less` sets `[hidden] { display: none; }` but bootstrap.min.css set `[hidden] { display: none !important; }` so we also need the `!important` here to be able to override the default hidden behavior on the sphinx rendered scikit-learn.org. See: https://github.com/scikit-learn/scikit-learn/issues/21755 */display: inline-block !important;position: relative;}#sk-container-id-27 div.sk-text-repr-fallback {display: none;}</style><div id=\"sk-container-id-27\" class=\"sk-top-container\"><div class=\"sk-text-repr-fallback\"><pre>LogisticRegression(C=10)</pre><b>In a Jupyter environment, please rerun this cell to show the HTML representation or trust the notebook. <br />On GitHub, the HTML representation is unable to render, please try loading this page with nbviewer.org.</b></div><div class=\"sk-container\" hidden><div class=\"sk-item\"><div class=\"sk-estimator sk-toggleable\"><input class=\"sk-toggleable__control sk-hidden--visually\" id=\"sk-estimator-id-27\" type=\"checkbox\" checked><label for=\"sk-estimator-id-27\" class=\"sk-toggleable__label sk-toggleable__label-arrow\">LogisticRegression</label><div class=\"sk-toggleable__content\"><pre>LogisticRegression(C=10)</pre></div></div></div></div></div>"
      ],
      "text/plain": [
       "LogisticRegression(C=10)"
      ]
     },
     "execution_count": 296,
     "metadata": {},
     "output_type": "execute_result"
    }
   ],
   "source": [
    "model_dereal_deperso4 = LogisticRegression(C = 10)\n",
    "model_dereal_deperso4.fit(X_train, y_train)"
   ]
  },
  {
   "cell_type": "code",
   "execution_count": 297,
   "id": "9fd45dcb-c157-43e2-a4e0-3d41801ad2c4",
   "metadata": {},
   "outputs": [],
   "source": [
    "predictions_val_dereal_deperso4 = model_dereal_deperso4.predict(X_val)"
   ]
  },
  {
   "cell_type": "code",
   "execution_count": 298,
   "id": "99315657-ccaa-4061-9232-2807eec88b4e",
   "metadata": {},
   "outputs": [
    {
     "name": "stdout",
     "output_type": "stream",
     "text": [
      "              precision    recall  f1-score   support\n",
      "\n",
      "           0       0.97      0.99      0.98        93\n",
      "           1       0.00      0.00      0.00         3\n",
      "\n",
      "    accuracy                           0.96        96\n",
      "   macro avg       0.48      0.49      0.49        96\n",
      "weighted avg       0.94      0.96      0.95        96\n",
      "\n"
     ]
    }
   ],
   "source": [
    "classification_report_val_dereal_deperso4 = classification_report(y_val, predictions_val_dereal_deperso4)\n",
    "print(classification_report_val_dereal_deperso4)"
   ]
  },
  {
   "cell_type": "code",
   "execution_count": 299,
   "id": "d611d9fd-9f6a-43be-9da0-2ac32ab0d7e5",
   "metadata": {},
   "outputs": [],
   "source": [
    "classification_report_val_dereal_deperso4 = classification_report(y_val, predictions_val_dereal_deperso4, output_dict=True)"
   ]
  },
  {
   "cell_type": "code",
   "execution_count": 300,
   "id": "167f590d-a29a-40c8-9f00-99cf33337a9a",
   "metadata": {},
   "outputs": [],
   "source": [
    "classification_reports.append(classification_report_val_dereal_deperso4)"
   ]
  },
  {
   "cell_type": "code",
   "execution_count": 301,
   "id": "cf6337cc-798b-4f56-af82-4c95ebfd9d9b",
   "metadata": {},
   "outputs": [
    {
     "data": {
      "image/png": "[encoded data removed]",
      "text/plain": [
       "<Figure size 1000x500 with 1 Axes>"
      ]
     },
     "metadata": {},
     "output_type": "display_data"
    }
   ],
   "source": [
    "matrix_dereal_deperso_val4 = confusion_matrix(y_val, predictions_val_dereal_deperso4)\n",
    "\n",
    "fig, axes = plt.subplots(1, figsize=(10, 5))\n",
    "\n",
    "s_dereal_deperso_val4 = sns.heatmap(matrix_dereal_deperso_val4, cmap='crest', annot=True, annot_kws={\"fontsize\":16}, cbar=False, fmt=\"d\", xticklabels=[\"ei\", \"jah\"], yticklabels=[\"ei\", \"jah\"]);\n",
    "s_dereal_deperso_val4.set_ylabel(\"Tegelikud märgendid\", fontsize=13);\n",
    "s_dereal_deperso_val4.set_xlabel(\"Ennustatud märgendid\", fontsize=13);\n",
    "s_dereal_deperso_val4.set_title(\"Segadusmaatriks valideerimisandmestikul\");"
   ]
  },
  {
   "cell_type": "code",
   "execution_count": 302,
   "id": "6c64c3cb-a4d8-48c0-921d-157beadc3d2c",
   "metadata": {},
   "outputs": [],
   "source": [
    "fig = s_dereal_deperso_val4.get_figure()\n",
    "fig.savefig(\"val_9.png\")"
   ]
  },
  {
   "cell_type": "code",
   "execution_count": 303,
   "id": "85be9240-d3d1-4bd7-b47a-d8f4dab898a0",
   "metadata": {},
   "outputs": [
    {
     "data": {
      "text/html": [
       "<style>#sk-container-id-28 {color: black;}#sk-container-id-28 pre{padding: 0;}#sk-container-id-28 div.sk-toggleable {background-color: white;}#sk-container-id-28 label.sk-toggleable__label {cursor: pointer;display: block;width: 100%;margin-bottom: 0;padding: 0.3em;box-sizing: border-box;text-align: center;}#sk-container-id-28 label.sk-toggleable__label-arrow:before {content: \"▸\";float: left;margin-right: 0.25em;color: #696969;}#sk-container-id-28 label.sk-toggleable__label-arrow:hover:before {color: black;}#sk-container-id-28 div.sk-estimator:hover label.sk-toggleable__label-arrow:before {color: black;}#sk-container-id-28 div.sk-toggleable__content {max-height: 0;max-width: 0;overflow: hidden;text-align: left;background-color: #f0f8ff;}#sk-container-id-28 div.sk-toggleable__content pre {margin: 0.2em;color: black;border-radius: 0.25em;background-color: #f0f8ff;}#sk-container-id-28 input.sk-toggleable__control:checked~div.sk-toggleable__content {max-height: 200px;max-width: 100%;overflow: auto;}#sk-container-id-28 input.sk-toggleable__control:checked~label.sk-toggleable__label-arrow:before {content: \"▾\";}#sk-container-id-28 div.sk-estimator input.sk-toggleable__control:checked~label.sk-toggleable__label {background-color: #d4ebff;}#sk-container-id-28 div.sk-label input.sk-toggleable__control:checked~label.sk-toggleable__label {background-color: #d4ebff;}#sk-container-id-28 input.sk-hidden--visually {border: 0;clip: rect(1px 1px 1px 1px);clip: rect(1px, 1px, 1px, 1px);height: 1px;margin: -1px;overflow: hidden;padding: 0;position: absolute;width: 1px;}#sk-container-id-28 div.sk-estimator {font-family: monospace;background-color: #f0f8ff;border: 1px dotted black;border-radius: 0.25em;box-sizing: border-box;margin-bottom: 0.5em;}#sk-container-id-28 div.sk-estimator:hover {background-color: #d4ebff;}#sk-container-id-28 div.sk-parallel-item::after {content: \"\";width: 100%;border-bottom: 1px solid gray;flex-grow: 1;}#sk-container-id-28 div.sk-label:hover label.sk-toggleable__label {background-color: #d4ebff;}#sk-container-id-28 div.sk-serial::before {content: \"\";position: absolute;border-left: 1px solid gray;box-sizing: border-box;top: 0;bottom: 0;left: 50%;z-index: 0;}#sk-container-id-28 div.sk-serial {display: flex;flex-direction: column;align-items: center;background-color: white;padding-right: 0.2em;padding-left: 0.2em;position: relative;}#sk-container-id-28 div.sk-item {position: relative;z-index: 1;}#sk-container-id-28 div.sk-parallel {display: flex;align-items: stretch;justify-content: center;background-color: white;position: relative;}#sk-container-id-28 div.sk-item::before, #sk-container-id-28 div.sk-parallel-item::before {content: \"\";position: absolute;border-left: 1px solid gray;box-sizing: border-box;top: 0;bottom: 0;left: 50%;z-index: -1;}#sk-container-id-28 div.sk-parallel-item {display: flex;flex-direction: column;z-index: 1;position: relative;background-color: white;}#sk-container-id-28 div.sk-parallel-item:first-child::after {align-self: flex-end;width: 50%;}#sk-container-id-28 div.sk-parallel-item:last-child::after {align-self: flex-start;width: 50%;}#sk-container-id-28 div.sk-parallel-item:only-child::after {width: 0;}#sk-container-id-28 div.sk-dashed-wrapped {border: 1px dashed gray;margin: 0 0.4em 0.5em 0.4em;box-sizing: border-box;padding-bottom: 0.4em;background-color: white;}#sk-container-id-28 div.sk-label label {font-family: monospace;font-weight: bold;display: inline-block;line-height: 1.2em;}#sk-container-id-28 div.sk-label-container {text-align: center;}#sk-container-id-28 div.sk-container {/* jupyter's `normalize.less` sets `[hidden] { display: none; }` but bootstrap.min.css set `[hidden] { display: none !important; }` so we also need the `!important` here to be able to override the default hidden behavior on the sphinx rendered scikit-learn.org. See: https://github.com/scikit-learn/scikit-learn/issues/21755 */display: inline-block !important;position: relative;}#sk-container-id-28 div.sk-text-repr-fallback {display: none;}</style><div id=\"sk-container-id-28\" class=\"sk-top-container\"><div class=\"sk-text-repr-fallback\"><pre>LogisticRegression(C=10)</pre><b>In a Jupyter environment, please rerun this cell to show the HTML representation or trust the notebook. <br />On GitHub, the HTML representation is unable to render, please try loading this page with nbviewer.org.</b></div><div class=\"sk-container\" hidden><div class=\"sk-item\"><div class=\"sk-estimator sk-toggleable\"><input class=\"sk-toggleable__control sk-hidden--visually\" id=\"sk-estimator-id-28\" type=\"checkbox\" checked><label for=\"sk-estimator-id-28\" class=\"sk-toggleable__label sk-toggleable__label-arrow\">LogisticRegression</label><div class=\"sk-toggleable__content\"><pre>LogisticRegression(C=10)</pre></div></div></div></div></div>"
      ],
      "text/plain": [
       "LogisticRegression(C=10)"
      ]
     },
     "execution_count": 303,
     "metadata": {},
     "output_type": "execute_result"
    }
   ],
   "source": [
    "labels_de4 = df_annotated_dereal_deperso4['on_symptom']\n",
    "features_de4 = df_to_vec(df_annotated_dereal_deperso4, 'lause')\n",
    "\n",
    "model_dereal_deperso4 = LogisticRegression(C = 10)\n",
    "model_dereal_deperso4.fit(features_de4, labels_de4)"
   ]
  },
  {
   "cell_type": "code",
   "execution_count": 305,
   "id": "06775d4f-73ba-47b3-824b-7752487253b1",
   "metadata": {},
   "outputs": [
    {
     "name": "stdout",
     "output_type": "stream",
     "text": [
      "Algselt andmebaasi lausetes:  20116\n",
      "Pärast andmebaasi lausetes:  19511\n"
     ]
    }
   ],
   "source": [
    "top_300_dereal_deperso4 = df_to_pred(df_db_all, 'data_dereal_deperso4.xlsx', 'db_all_suurimad_300_dereal_deperso_4.xlsx', model_dereal_deperso4)"
   ]
  },
  {
   "cell_type": "markdown",
   "id": "da3feb86-5839-4d83-ab18-d8d2a697e528",
   "metadata": {},
   "source": [
    "Mudel ei ennusta enam meile otsitavaid lauseid, lõpetame iteratsioonid."
   ]
  },
  {
   "cell_type": "markdown",
   "id": "ab0e8ac8-cbdf-40f8-8a87-407635763cbb",
   "metadata": {},
   "source": [
    "## III sümptom (\"paranoiline luulumõte/kahtlustamine\")"
   ]
  },
  {
   "cell_type": "code",
   "execution_count": 307,
   "id": "be447b35-0721-40d6-9f76-eca8a2c3aeda",
   "metadata": {},
   "outputs": [],
   "source": [
    "df_annotated_p = pd.read_excel('data_paranoia.xlsx', index_col=0)"
   ]
  },
  {
   "cell_type": "code",
   "execution_count": 308,
   "id": "79f8b50b-848d-429f-bfe9-31940028e598",
   "metadata": {},
   "outputs": [
    {
     "data": {
      "text/plain": [
       "on_symptom\n",
       "0    158\n",
       "1    105\n",
       "dtype: int64"
      ]
     },
     "execution_count": 308,
     "metadata": {},
     "output_type": "execute_result"
    }
   ],
   "source": [
    "df_annotated_p.groupby(\"on_symptom\").size()"
   ]
  },
  {
   "cell_type": "code",
   "execution_count": 309,
   "id": "41c7e280-a5f4-4fae-88f9-177cc43f6085",
   "metadata": {},
   "outputs": [],
   "source": [
    "X_train, y_train, X_test, y_test, X_val, y_val = df_to_train_data(df_annotated_p)"
   ]
  },
  {
   "cell_type": "code",
   "execution_count": 310,
   "id": "a42cfde3-e607-4f98-a3c1-159603bf0401",
   "metadata": {},
   "outputs": [
    {
     "name": "stdout",
     "output_type": "stream",
     "text": [
      "Alganmestiku suurus: 263\n",
      "Treeningandmestiku suurus: 184\n",
      "Testandmestiku suurus: 40\n",
      "Valideerimisandmestiku suurus: 39\n"
     ]
    }
   ],
   "source": [
    "print(f\"Alganmestiku suurus: {len(df_annotated_p)}\")\n",
    "print(f\"Treeningandmestiku suurus: {len(X_train)}\")\n",
    "print(f\"Testandmestiku suurus: {len(X_test)}\")\n",
    "print(f\"Valideerimisandmestiku suurus: {len(X_val)}\")"
   ]
  },
  {
   "cell_type": "code",
   "execution_count": 311,
   "id": "b951b63a-ed16-4393-a373-7747247993ad",
   "metadata": {},
   "outputs": [
    {
     "data": {
      "text/html": [
       "<style>#sk-container-id-29 {color: black;}#sk-container-id-29 pre{padding: 0;}#sk-container-id-29 div.sk-toggleable {background-color: white;}#sk-container-id-29 label.sk-toggleable__label {cursor: pointer;display: block;width: 100%;margin-bottom: 0;padding: 0.3em;box-sizing: border-box;text-align: center;}#sk-container-id-29 label.sk-toggleable__label-arrow:before {content: \"▸\";float: left;margin-right: 0.25em;color: #696969;}#sk-container-id-29 label.sk-toggleable__label-arrow:hover:before {color: black;}#sk-container-id-29 div.sk-estimator:hover label.sk-toggleable__label-arrow:before {color: black;}#sk-container-id-29 div.sk-toggleable__content {max-height: 0;max-width: 0;overflow: hidden;text-align: left;background-color: #f0f8ff;}#sk-container-id-29 div.sk-toggleable__content pre {margin: 0.2em;color: black;border-radius: 0.25em;background-color: #f0f8ff;}#sk-container-id-29 input.sk-toggleable__control:checked~div.sk-toggleable__content {max-height: 200px;max-width: 100%;overflow: auto;}#sk-container-id-29 input.sk-toggleable__control:checked~label.sk-toggleable__label-arrow:before {content: \"▾\";}#sk-container-id-29 div.sk-estimator input.sk-toggleable__control:checked~label.sk-toggleable__label {background-color: #d4ebff;}#sk-container-id-29 div.sk-label input.sk-toggleable__control:checked~label.sk-toggleable__label {background-color: #d4ebff;}#sk-container-id-29 input.sk-hidden--visually {border: 0;clip: rect(1px 1px 1px 1px);clip: rect(1px, 1px, 1px, 1px);height: 1px;margin: -1px;overflow: hidden;padding: 0;position: absolute;width: 1px;}#sk-container-id-29 div.sk-estimator {font-family: monospace;background-color: #f0f8ff;border: 1px dotted black;border-radius: 0.25em;box-sizing: border-box;margin-bottom: 0.5em;}#sk-container-id-29 div.sk-estimator:hover {background-color: #d4ebff;}#sk-container-id-29 div.sk-parallel-item::after {content: \"\";width: 100%;border-bottom: 1px solid gray;flex-grow: 1;}#sk-container-id-29 div.sk-label:hover label.sk-toggleable__label {background-color: #d4ebff;}#sk-container-id-29 div.sk-serial::before {content: \"\";position: absolute;border-left: 1px solid gray;box-sizing: border-box;top: 0;bottom: 0;left: 50%;z-index: 0;}#sk-container-id-29 div.sk-serial {display: flex;flex-direction: column;align-items: center;background-color: white;padding-right: 0.2em;padding-left: 0.2em;position: relative;}#sk-container-id-29 div.sk-item {position: relative;z-index: 1;}#sk-container-id-29 div.sk-parallel {display: flex;align-items: stretch;justify-content: center;background-color: white;position: relative;}#sk-container-id-29 div.sk-item::before, #sk-container-id-29 div.sk-parallel-item::before {content: \"\";position: absolute;border-left: 1px solid gray;box-sizing: border-box;top: 0;bottom: 0;left: 50%;z-index: -1;}#sk-container-id-29 div.sk-parallel-item {display: flex;flex-direction: column;z-index: 1;position: relative;background-color: white;}#sk-container-id-29 div.sk-parallel-item:first-child::after {align-self: flex-end;width: 50%;}#sk-container-id-29 div.sk-parallel-item:last-child::after {align-self: flex-start;width: 50%;}#sk-container-id-29 div.sk-parallel-item:only-child::after {width: 0;}#sk-container-id-29 div.sk-dashed-wrapped {border: 1px dashed gray;margin: 0 0.4em 0.5em 0.4em;box-sizing: border-box;padding-bottom: 0.4em;background-color: white;}#sk-container-id-29 div.sk-label label {font-family: monospace;font-weight: bold;display: inline-block;line-height: 1.2em;}#sk-container-id-29 div.sk-label-container {text-align: center;}#sk-container-id-29 div.sk-container {/* jupyter's `normalize.less` sets `[hidden] { display: none; }` but bootstrap.min.css set `[hidden] { display: none !important; }` so we also need the `!important` here to be able to override the default hidden behavior on the sphinx rendered scikit-learn.org. See: https://github.com/scikit-learn/scikit-learn/issues/21755 */display: inline-block !important;position: relative;}#sk-container-id-29 div.sk-text-repr-fallback {display: none;}</style><div id=\"sk-container-id-29\" class=\"sk-top-container\"><div class=\"sk-text-repr-fallback\"><pre>LogisticRegression(C=10)</pre><b>In a Jupyter environment, please rerun this cell to show the HTML representation or trust the notebook. <br />On GitHub, the HTML representation is unable to render, please try loading this page with nbviewer.org.</b></div><div class=\"sk-container\" hidden><div class=\"sk-item\"><div class=\"sk-estimator sk-toggleable\"><input class=\"sk-toggleable__control sk-hidden--visually\" id=\"sk-estimator-id-29\" type=\"checkbox\" checked><label for=\"sk-estimator-id-29\" class=\"sk-toggleable__label sk-toggleable__label-arrow\">LogisticRegression</label><div class=\"sk-toggleable__content\"><pre>LogisticRegression(C=10)</pre></div></div></div></div></div>"
      ],
      "text/plain": [
       "LogisticRegression(C=10)"
      ]
     },
     "execution_count": 311,
     "metadata": {},
     "output_type": "execute_result"
    }
   ],
   "source": [
    "model_p1 = LogisticRegression(C = 10)\n",
    "model_p1.fit(X_train, y_train)"
   ]
  },
  {
   "cell_type": "code",
   "execution_count": 312,
   "id": "0b317ce7-3a9b-4f2e-bbe8-c5a34e587ae2",
   "metadata": {},
   "outputs": [],
   "source": [
    "predictions_val_p = model_p1.predict(X_val)"
   ]
  },
  {
   "cell_type": "code",
   "execution_count": 313,
   "id": "e72000c0-b9b6-4ee0-a81e-28c1a366fda6",
   "metadata": {},
   "outputs": [
    {
     "name": "stdout",
     "output_type": "stream",
     "text": [
      "              precision    recall  f1-score   support\n",
      "\n",
      "           0       0.88      0.91      0.89        23\n",
      "           1       0.87      0.81      0.84        16\n",
      "\n",
      "    accuracy                           0.87        39\n",
      "   macro avg       0.87      0.86      0.87        39\n",
      "weighted avg       0.87      0.87      0.87        39\n",
      "\n"
     ]
    }
   ],
   "source": [
    "classification_report_val_p = classification_report(y_val, predictions_val_p)\n",
    "print(classification_report_val_p)"
   ]
  },
  {
   "cell_type": "code",
   "execution_count": 314,
   "id": "8b5a0c37-5d05-449b-8e09-737c75fffb91",
   "metadata": {},
   "outputs": [],
   "source": [
    "classification_report_val_p = classification_report(y_val, predictions_val_p, output_dict=True)"
   ]
  },
  {
   "cell_type": "code",
   "execution_count": 315,
   "id": "96173bd6-c193-4b71-966c-0f0974b91389",
   "metadata": {},
   "outputs": [],
   "source": [
    "classification_reports.append(classification_report_val_p)"
   ]
  },
  {
   "cell_type": "code",
   "execution_count": 316,
   "id": "4c541bff-cea2-4336-b1a4-9341690cd732",
   "metadata": {},
   "outputs": [
    {
     "data": {
      "image/png": "[encoded data removed]",
      "text/plain": [
       "<Figure size 1000x500 with 1 Axes>"
      ]
     },
     "metadata": {},
     "output_type": "display_data"
    }
   ],
   "source": [
    "matrix_p_val = confusion_matrix(y_val, predictions_val_p)\n",
    "\n",
    "fig, axes = plt.subplots(1, figsize=(10, 5))\n",
    "\n",
    "s_p_val = sns.heatmap(matrix_p_val, cmap='crest', annot=True, annot_kws={\"fontsize\":16}, cbar=False, fmt=\"d\", xticklabels=[\"ei\", \"jah\"], yticklabels=[\"ei\", \"jah\"]);\n",
    "s_p_val.set_ylabel(\"Tegelikud märgendid\", fontsize=13);\n",
    "s_p_val.set_xlabel(\"Ennustatud märgendid\", fontsize=13);\n",
    "s_p_val.set_title(\"Segadusmaatriks valideerimisandmestikul\");"
   ]
  },
  {
   "cell_type": "code",
   "execution_count": 317,
   "id": "b11d164f-8c1a-4585-af25-7a29611c9a12",
   "metadata": {},
   "outputs": [],
   "source": [
    "fig = s_p_val.get_figure()\n",
    "fig.savefig(\"val_10.png\")"
   ]
  },
  {
   "cell_type": "code",
   "execution_count": 318,
   "id": "c145e974-db9c-469d-87ae-9655729ea5f2",
   "metadata": {},
   "outputs": [
    {
     "data": {
      "text/html": [
       "<style>#sk-container-id-30 {color: black;}#sk-container-id-30 pre{padding: 0;}#sk-container-id-30 div.sk-toggleable {background-color: white;}#sk-container-id-30 label.sk-toggleable__label {cursor: pointer;display: block;width: 100%;margin-bottom: 0;padding: 0.3em;box-sizing: border-box;text-align: center;}#sk-container-id-30 label.sk-toggleable__label-arrow:before {content: \"▸\";float: left;margin-right: 0.25em;color: #696969;}#sk-container-id-30 label.sk-toggleable__label-arrow:hover:before {color: black;}#sk-container-id-30 div.sk-estimator:hover label.sk-toggleable__label-arrow:before {color: black;}#sk-container-id-30 div.sk-toggleable__content {max-height: 0;max-width: 0;overflow: hidden;text-align: left;background-color: #f0f8ff;}#sk-container-id-30 div.sk-toggleable__content pre {margin: 0.2em;color: black;border-radius: 0.25em;background-color: #f0f8ff;}#sk-container-id-30 input.sk-toggleable__control:checked~div.sk-toggleable__content {max-height: 200px;max-width: 100%;overflow: auto;}#sk-container-id-30 input.sk-toggleable__control:checked~label.sk-toggleable__label-arrow:before {content: \"▾\";}#sk-container-id-30 div.sk-estimator input.sk-toggleable__control:checked~label.sk-toggleable__label {background-color: #d4ebff;}#sk-container-id-30 div.sk-label input.sk-toggleable__control:checked~label.sk-toggleable__label {background-color: #d4ebff;}#sk-container-id-30 input.sk-hidden--visually {border: 0;clip: rect(1px 1px 1px 1px);clip: rect(1px, 1px, 1px, 1px);height: 1px;margin: -1px;overflow: hidden;padding: 0;position: absolute;width: 1px;}#sk-container-id-30 div.sk-estimator {font-family: monospace;background-color: #f0f8ff;border: 1px dotted black;border-radius: 0.25em;box-sizing: border-box;margin-bottom: 0.5em;}#sk-container-id-30 div.sk-estimator:hover {background-color: #d4ebff;}#sk-container-id-30 div.sk-parallel-item::after {content: \"\";width: 100%;border-bottom: 1px solid gray;flex-grow: 1;}#sk-container-id-30 div.sk-label:hover label.sk-toggleable__label {background-color: #d4ebff;}#sk-container-id-30 div.sk-serial::before {content: \"\";position: absolute;border-left: 1px solid gray;box-sizing: border-box;top: 0;bottom: 0;left: 50%;z-index: 0;}#sk-container-id-30 div.sk-serial {display: flex;flex-direction: column;align-items: center;background-color: white;padding-right: 0.2em;padding-left: 0.2em;position: relative;}#sk-container-id-30 div.sk-item {position: relative;z-index: 1;}#sk-container-id-30 div.sk-parallel {display: flex;align-items: stretch;justify-content: center;background-color: white;position: relative;}#sk-container-id-30 div.sk-item::before, #sk-container-id-30 div.sk-parallel-item::before {content: \"\";position: absolute;border-left: 1px solid gray;box-sizing: border-box;top: 0;bottom: 0;left: 50%;z-index: -1;}#sk-container-id-30 div.sk-parallel-item {display: flex;flex-direction: column;z-index: 1;position: relative;background-color: white;}#sk-container-id-30 div.sk-parallel-item:first-child::after {align-self: flex-end;width: 50%;}#sk-container-id-30 div.sk-parallel-item:last-child::after {align-self: flex-start;width: 50%;}#sk-container-id-30 div.sk-parallel-item:only-child::after {width: 0;}#sk-container-id-30 div.sk-dashed-wrapped {border: 1px dashed gray;margin: 0 0.4em 0.5em 0.4em;box-sizing: border-box;padding-bottom: 0.4em;background-color: white;}#sk-container-id-30 div.sk-label label {font-family: monospace;font-weight: bold;display: inline-block;line-height: 1.2em;}#sk-container-id-30 div.sk-label-container {text-align: center;}#sk-container-id-30 div.sk-container {/* jupyter's `normalize.less` sets `[hidden] { display: none; }` but bootstrap.min.css set `[hidden] { display: none !important; }` so we also need the `!important` here to be able to override the default hidden behavior on the sphinx rendered scikit-learn.org. See: https://github.com/scikit-learn/scikit-learn/issues/21755 */display: inline-block !important;position: relative;}#sk-container-id-30 div.sk-text-repr-fallback {display: none;}</style><div id=\"sk-container-id-30\" class=\"sk-top-container\"><div class=\"sk-text-repr-fallback\"><pre>LogisticRegression(C=10)</pre><b>In a Jupyter environment, please rerun this cell to show the HTML representation or trust the notebook. <br />On GitHub, the HTML representation is unable to render, please try loading this page with nbviewer.org.</b></div><div class=\"sk-container\" hidden><div class=\"sk-item\"><div class=\"sk-estimator sk-toggleable\"><input class=\"sk-toggleable__control sk-hidden--visually\" id=\"sk-estimator-id-30\" type=\"checkbox\" checked><label for=\"sk-estimator-id-30\" class=\"sk-toggleable__label sk-toggleable__label-arrow\">LogisticRegression</label><div class=\"sk-toggleable__content\"><pre>LogisticRegression(C=10)</pre></div></div></div></div></div>"
      ],
      "text/plain": [
       "LogisticRegression(C=10)"
      ]
     },
     "execution_count": 318,
     "metadata": {},
     "output_type": "execute_result"
    }
   ],
   "source": [
    "labels_p1 = df_annotated_p['on_symptom']\n",
    "features_p1 = df_to_vec(df_annotated_p, 'lause')\n",
    "\n",
    "model_p1 = LogisticRegression(C = 10)\n",
    "model_p1.fit(features_p1, labels_p1)"
   ]
  },
  {
   "cell_type": "markdown",
   "id": "967d6752-aab9-4d5d-9af2-8ceccefc3f84",
   "metadata": {},
   "source": [
    "### Andmebaasist laused"
   ]
  },
  {
   "cell_type": "code",
   "execution_count": 320,
   "id": "4bd47bb1-369f-4ba2-82a4-1e8819edbe6f",
   "metadata": {},
   "outputs": [],
   "source": [
    "conn = psycopg2.connect(database = os.getenv(\"DATABASE\"), \n",
    "                        user = os.getenv(\"USER\"), \n",
    "                        host= os.getenv(\"HOST\"),\n",
    "                        password = os.getenv(\"PASSWORD\"),\n",
    "                        port = os.getenv(\"PORT\"))"
   ]
  },
  {
   "cell_type": "code",
   "execution_count": 321,
   "id": "8562d9cc-05bb-4c09-8693-de7627b79b32",
   "metadata": {},
   "outputs": [],
   "source": [
    "cur = conn.cursor()\n",
    "\n",
    "# Execute a query\n",
    "cur.execute(\"SELECT id, tekst_id, lause FROM user_kristel.esmase_prodroomi_laused;\")\n",
    "\n",
    "# Retrieve query results\n",
    "records = cur.fetchall()"
   ]
  },
  {
   "cell_type": "code",
   "execution_count": 322,
   "id": "282a6965-98d5-454a-98ca-279f6f46565b",
   "metadata": {},
   "outputs": [],
   "source": [
    "conn.commit()\n",
    "conn.close()"
   ]
  },
  {
   "cell_type": "code",
   "execution_count": 324,
   "id": "c23bef5a-331d-4616-9bd1-40edf34b4350",
   "metadata": {},
   "outputs": [],
   "source": [
    "df_db_all_para = pd.DataFrame(records)"
   ]
  },
  {
   "cell_type": "code",
   "execution_count": 326,
   "id": "33beb6ba-3fd2-4957-9ff0-7365af43188a",
   "metadata": {},
   "outputs": [],
   "source": [
    "df_db_all_para['puhastatud'] = df_db_all_para[2].apply(puhasta)\n",
    "df_db_all_para['puhastatud'] = df_db_all_para['puhastatud'].apply(lambda x: x.lower())\n",
    "df_db_all_para.drop_duplicates(inplace=True, subset=['puhastatud'])\n",
    "df_db_all_para = df_db_all_para.drop('puhastatud', axis=1)"
   ]
  },
  {
   "cell_type": "markdown",
   "id": "881839b9-92c8-4447-9de3-05d8d3fd537c",
   "metadata": {},
   "source": [
    "### Iteratsioonid"
   ]
  },
  {
   "cell_type": "code",
   "execution_count": 327,
   "id": "1d94f315-9fa8-4f27-a35e-4558b6b54524",
   "metadata": {},
   "outputs": [
    {
     "name": "stdout",
     "output_type": "stream",
     "text": [
      "Algselt andmebaasi lausetes:  20383\n",
      "Pärast andmebaasi lausetes:  20128\n"
     ]
    }
   ],
   "source": [
    "top_300_p1 = df_to_pred(df_db_all_para, 'data_paranoia.xlsx', 'db_all_suurimad_300_p_1.xlsx', model_p1)"
   ]
  },
  {
   "cell_type": "code",
   "execution_count": 329,
   "id": "ea2d4514-1b15-4f38-a5e0-9863797fe3f4",
   "metadata": {},
   "outputs": [],
   "source": [
    "df_annotated_p2 = pd.read_excel('data_paranoia2.xlsx', index_col=0)"
   ]
  },
  {
   "cell_type": "code",
   "execution_count": 330,
   "id": "d82ede35-68ec-4434-a676-ae63847c620e",
   "metadata": {},
   "outputs": [
    {
     "data": {
      "text/plain": [
       "on_symptom\n",
       "0    424\n",
       "1    139\n",
       "dtype: int64"
      ]
     },
     "execution_count": 330,
     "metadata": {},
     "output_type": "execute_result"
    }
   ],
   "source": [
    "df_annotated_p2.groupby(\"on_symptom\").size()"
   ]
  },
  {
   "cell_type": "code",
   "execution_count": 331,
   "id": "900e422f-c741-4de8-b60f-ae6fdb113f21",
   "metadata": {},
   "outputs": [],
   "source": [
    "X_train, y_train, X_test, y_test, X_val, y_val = df_to_train_data(df_annotated_p2)"
   ]
  },
  {
   "cell_type": "code",
   "execution_count": 332,
   "id": "55908ed3-5815-4751-91a1-d5b76c225b12",
   "metadata": {},
   "outputs": [
    {
     "name": "stdout",
     "output_type": "stream",
     "text": [
      "Alganmestiku suurus: 563\n",
      "Treeningandmestiku suurus: 394\n",
      "Testandmestiku suurus: 85\n",
      "Valideerimisandmestiku suurus: 84\n"
     ]
    }
   ],
   "source": [
    "print(f\"Alganmestiku suurus: {len(df_annotated_p2)}\")\n",
    "print(f\"Treeningandmestiku suurus: {len(X_train)}\")\n",
    "print(f\"Testandmestiku suurus: {len(X_test)}\")\n",
    "print(f\"Valideerimisandmestiku suurus: {len(X_val)}\")"
   ]
  },
  {
   "cell_type": "code",
   "execution_count": 333,
   "id": "8e63dddc-8273-4437-b1b6-d738818dd7e2",
   "metadata": {},
   "outputs": [
    {
     "data": {
      "text/html": [
       "<style>#sk-container-id-31 {color: black;}#sk-container-id-31 pre{padding: 0;}#sk-container-id-31 div.sk-toggleable {background-color: white;}#sk-container-id-31 label.sk-toggleable__label {cursor: pointer;display: block;width: 100%;margin-bottom: 0;padding: 0.3em;box-sizing: border-box;text-align: center;}#sk-container-id-31 label.sk-toggleable__label-arrow:before {content: \"▸\";float: left;margin-right: 0.25em;color: #696969;}#sk-container-id-31 label.sk-toggleable__label-arrow:hover:before {color: black;}#sk-container-id-31 div.sk-estimator:hover label.sk-toggleable__label-arrow:before {color: black;}#sk-container-id-31 div.sk-toggleable__content {max-height: 0;max-width: 0;overflow: hidden;text-align: left;background-color: #f0f8ff;}#sk-container-id-31 div.sk-toggleable__content pre {margin: 0.2em;color: black;border-radius: 0.25em;background-color: #f0f8ff;}#sk-container-id-31 input.sk-toggleable__control:checked~div.sk-toggleable__content {max-height: 200px;max-width: 100%;overflow: auto;}#sk-container-id-31 input.sk-toggleable__control:checked~label.sk-toggleable__label-arrow:before {content: \"▾\";}#sk-container-id-31 div.sk-estimator input.sk-toggleable__control:checked~label.sk-toggleable__label {background-color: #d4ebff;}#sk-container-id-31 div.sk-label input.sk-toggleable__control:checked~label.sk-toggleable__label {background-color: #d4ebff;}#sk-container-id-31 input.sk-hidden--visually {border: 0;clip: rect(1px 1px 1px 1px);clip: rect(1px, 1px, 1px, 1px);height: 1px;margin: -1px;overflow: hidden;padding: 0;position: absolute;width: 1px;}#sk-container-id-31 div.sk-estimator {font-family: monospace;background-color: #f0f8ff;border: 1px dotted black;border-radius: 0.25em;box-sizing: border-box;margin-bottom: 0.5em;}#sk-container-id-31 div.sk-estimator:hover {background-color: #d4ebff;}#sk-container-id-31 div.sk-parallel-item::after {content: \"\";width: 100%;border-bottom: 1px solid gray;flex-grow: 1;}#sk-container-id-31 div.sk-label:hover label.sk-toggleable__label {background-color: #d4ebff;}#sk-container-id-31 div.sk-serial::before {content: \"\";position: absolute;border-left: 1px solid gray;box-sizing: border-box;top: 0;bottom: 0;left: 50%;z-index: 0;}#sk-container-id-31 div.sk-serial {display: flex;flex-direction: column;align-items: center;background-color: white;padding-right: 0.2em;padding-left: 0.2em;position: relative;}#sk-container-id-31 div.sk-item {position: relative;z-index: 1;}#sk-container-id-31 div.sk-parallel {display: flex;align-items: stretch;justify-content: center;background-color: white;position: relative;}#sk-container-id-31 div.sk-item::before, #sk-container-id-31 div.sk-parallel-item::before {content: \"\";position: absolute;border-left: 1px solid gray;box-sizing: border-box;top: 0;bottom: 0;left: 50%;z-index: -1;}#sk-container-id-31 div.sk-parallel-item {display: flex;flex-direction: column;z-index: 1;position: relative;background-color: white;}#sk-container-id-31 div.sk-parallel-item:first-child::after {align-self: flex-end;width: 50%;}#sk-container-id-31 div.sk-parallel-item:last-child::after {align-self: flex-start;width: 50%;}#sk-container-id-31 div.sk-parallel-item:only-child::after {width: 0;}#sk-container-id-31 div.sk-dashed-wrapped {border: 1px dashed gray;margin: 0 0.4em 0.5em 0.4em;box-sizing: border-box;padding-bottom: 0.4em;background-color: white;}#sk-container-id-31 div.sk-label label {font-family: monospace;font-weight: bold;display: inline-block;line-height: 1.2em;}#sk-container-id-31 div.sk-label-container {text-align: center;}#sk-container-id-31 div.sk-container {/* jupyter's `normalize.less` sets `[hidden] { display: none; }` but bootstrap.min.css set `[hidden] { display: none !important; }` so we also need the `!important` here to be able to override the default hidden behavior on the sphinx rendered scikit-learn.org. See: https://github.com/scikit-learn/scikit-learn/issues/21755 */display: inline-block !important;position: relative;}#sk-container-id-31 div.sk-text-repr-fallback {display: none;}</style><div id=\"sk-container-id-31\" class=\"sk-top-container\"><div class=\"sk-text-repr-fallback\"><pre>LogisticRegression(C=10)</pre><b>In a Jupyter environment, please rerun this cell to show the HTML representation or trust the notebook. <br />On GitHub, the HTML representation is unable to render, please try loading this page with nbviewer.org.</b></div><div class=\"sk-container\" hidden><div class=\"sk-item\"><div class=\"sk-estimator sk-toggleable\"><input class=\"sk-toggleable__control sk-hidden--visually\" id=\"sk-estimator-id-31\" type=\"checkbox\" checked><label for=\"sk-estimator-id-31\" class=\"sk-toggleable__label sk-toggleable__label-arrow\">LogisticRegression</label><div class=\"sk-toggleable__content\"><pre>LogisticRegression(C=10)</pre></div></div></div></div></div>"
      ],
      "text/plain": [
       "LogisticRegression(C=10)"
      ]
     },
     "execution_count": 333,
     "metadata": {},
     "output_type": "execute_result"
    }
   ],
   "source": [
    "model_p2 = LogisticRegression(C = 10)\n",
    "model_p2.fit(X_train, y_train)"
   ]
  },
  {
   "cell_type": "code",
   "execution_count": 334,
   "id": "1faaacc1-8497-4ee7-8ca6-1b03e96860e4",
   "metadata": {},
   "outputs": [],
   "source": [
    "predictions_val_p2 = model_p2.predict(X_val)"
   ]
  },
  {
   "cell_type": "code",
   "execution_count": 335,
   "id": "90d83daf-1c46-4e67-b444-7154bc4fa52c",
   "metadata": {},
   "outputs": [
    {
     "name": "stdout",
     "output_type": "stream",
     "text": [
      "              precision    recall  f1-score   support\n",
      "\n",
      "           0       0.84      0.86      0.85        63\n",
      "           1       0.55      0.52      0.54        21\n",
      "\n",
      "    accuracy                           0.77        84\n",
      "   macro avg       0.70      0.69      0.69        84\n",
      "weighted avg       0.77      0.77      0.77        84\n",
      "\n"
     ]
    }
   ],
   "source": [
    "classification_report_val_p2 = classification_report(y_val, predictions_val_p2)\n",
    "print(classification_report_val_p2)"
   ]
  },
  {
   "cell_type": "code",
   "execution_count": 336,
   "id": "7eb8a842-ace4-4a84-9e3b-f2c99f7581b0",
   "metadata": {},
   "outputs": [],
   "source": [
    "classification_report_val_p2 = classification_report(y_val, predictions_val_p2, output_dict=True)"
   ]
  },
  {
   "cell_type": "code",
   "execution_count": 337,
   "id": "f700238f-4fcd-4f63-89a2-bddf80748850",
   "metadata": {},
   "outputs": [],
   "source": [
    "classification_reports.append(classification_report_val_p2)"
   ]
  },
  {
   "cell_type": "code",
   "execution_count": 338,
   "id": "982f1b8f-954d-4c42-a472-3134391f3106",
   "metadata": {},
   "outputs": [
    {
     "data": {
      "image/png": "[encoded data removed]",
      "text/plain": [
       "<Figure size 1000x500 with 1 Axes>"
      ]
     },
     "metadata": {},
     "output_type": "display_data"
    }
   ],
   "source": [
    "matrix_p_val2 = confusion_matrix(y_val, predictions_val_p2)\n",
    "\n",
    "fig, axes = plt.subplots(1, figsize=(10, 5))\n",
    "\n",
    "s_p_val2 = sns.heatmap(matrix_p_val2, cmap='crest', annot=True, annot_kws={\"fontsize\":16}, cbar=False, fmt=\"d\", xticklabels=[\"ei\", \"jah\"], yticklabels=[\"ei\", \"jah\"]);\n",
    "s_p_val2.set_ylabel(\"Tegelikud märgendid\", fontsize=13);\n",
    "s_p_val2.set_xlabel(\"Ennustatud märgendid\", fontsize=13);\n",
    "s_p_val2.set_title(\"Segadusmaatriks valideerimisandmestikul\");"
   ]
  },
  {
   "cell_type": "code",
   "execution_count": 339,
   "id": "9f39f099-7407-4aa5-b1bb-af38f9328925",
   "metadata": {},
   "outputs": [],
   "source": [
    "fig = s_p_val2.get_figure()\n",
    "fig.savefig(\"val_11.png\")"
   ]
  },
  {
   "cell_type": "code",
   "execution_count": 342,
   "id": "5e30e8da-ad1a-4d58-b110-3517ae7015a6",
   "metadata": {},
   "outputs": [
    {
     "data": {
      "text/html": [
       "<style>#sk-container-id-34 {color: black;}#sk-container-id-34 pre{padding: 0;}#sk-container-id-34 div.sk-toggleable {background-color: white;}#sk-container-id-34 label.sk-toggleable__label {cursor: pointer;display: block;width: 100%;margin-bottom: 0;padding: 0.3em;box-sizing: border-box;text-align: center;}#sk-container-id-34 label.sk-toggleable__label-arrow:before {content: \"▸\";float: left;margin-right: 0.25em;color: #696969;}#sk-container-id-34 label.sk-toggleable__label-arrow:hover:before {color: black;}#sk-container-id-34 div.sk-estimator:hover label.sk-toggleable__label-arrow:before {color: black;}#sk-container-id-34 div.sk-toggleable__content {max-height: 0;max-width: 0;overflow: hidden;text-align: left;background-color: #f0f8ff;}#sk-container-id-34 div.sk-toggleable__content pre {margin: 0.2em;color: black;border-radius: 0.25em;background-color: #f0f8ff;}#sk-container-id-34 input.sk-toggleable__control:checked~div.sk-toggleable__content {max-height: 200px;max-width: 100%;overflow: auto;}#sk-container-id-34 input.sk-toggleable__control:checked~label.sk-toggleable__label-arrow:before {content: \"▾\";}#sk-container-id-34 div.sk-estimator input.sk-toggleable__control:checked~label.sk-toggleable__label {background-color: #d4ebff;}#sk-container-id-34 div.sk-label input.sk-toggleable__control:checked~label.sk-toggleable__label {background-color: #d4ebff;}#sk-container-id-34 input.sk-hidden--visually {border: 0;clip: rect(1px 1px 1px 1px);clip: rect(1px, 1px, 1px, 1px);height: 1px;margin: -1px;overflow: hidden;padding: 0;position: absolute;width: 1px;}#sk-container-id-34 div.sk-estimator {font-family: monospace;background-color: #f0f8ff;border: 1px dotted black;border-radius: 0.25em;box-sizing: border-box;margin-bottom: 0.5em;}#sk-container-id-34 div.sk-estimator:hover {background-color: #d4ebff;}#sk-container-id-34 div.sk-parallel-item::after {content: \"\";width: 100%;border-bottom: 1px solid gray;flex-grow: 1;}#sk-container-id-34 div.sk-label:hover label.sk-toggleable__label {background-color: #d4ebff;}#sk-container-id-34 div.sk-serial::before {content: \"\";position: absolute;border-left: 1px solid gray;box-sizing: border-box;top: 0;bottom: 0;left: 50%;z-index: 0;}#sk-container-id-34 div.sk-serial {display: flex;flex-direction: column;align-items: center;background-color: white;padding-right: 0.2em;padding-left: 0.2em;position: relative;}#sk-container-id-34 div.sk-item {position: relative;z-index: 1;}#sk-container-id-34 div.sk-parallel {display: flex;align-items: stretch;justify-content: center;background-color: white;position: relative;}#sk-container-id-34 div.sk-item::before, #sk-container-id-34 div.sk-parallel-item::before {content: \"\";position: absolute;border-left: 1px solid gray;box-sizing: border-box;top: 0;bottom: 0;left: 50%;z-index: -1;}#sk-container-id-34 div.sk-parallel-item {display: flex;flex-direction: column;z-index: 1;position: relative;background-color: white;}#sk-container-id-34 div.sk-parallel-item:first-child::after {align-self: flex-end;width: 50%;}#sk-container-id-34 div.sk-parallel-item:last-child::after {align-self: flex-start;width: 50%;}#sk-container-id-34 div.sk-parallel-item:only-child::after {width: 0;}#sk-container-id-34 div.sk-dashed-wrapped {border: 1px dashed gray;margin: 0 0.4em 0.5em 0.4em;box-sizing: border-box;padding-bottom: 0.4em;background-color: white;}#sk-container-id-34 div.sk-label label {font-family: monospace;font-weight: bold;display: inline-block;line-height: 1.2em;}#sk-container-id-34 div.sk-label-container {text-align: center;}#sk-container-id-34 div.sk-container {/* jupyter's `normalize.less` sets `[hidden] { display: none; }` but bootstrap.min.css set `[hidden] { display: none !important; }` so we also need the `!important` here to be able to override the default hidden behavior on the sphinx rendered scikit-learn.org. See: https://github.com/scikit-learn/scikit-learn/issues/21755 */display: inline-block !important;position: relative;}#sk-container-id-34 div.sk-text-repr-fallback {display: none;}</style><div id=\"sk-container-id-34\" class=\"sk-top-container\"><div class=\"sk-text-repr-fallback\"><pre>LogisticRegression(C=10, max_iter=1000)</pre><b>In a Jupyter environment, please rerun this cell to show the HTML representation or trust the notebook. <br />On GitHub, the HTML representation is unable to render, please try loading this page with nbviewer.org.</b></div><div class=\"sk-container\" hidden><div class=\"sk-item\"><div class=\"sk-estimator sk-toggleable\"><input class=\"sk-toggleable__control sk-hidden--visually\" id=\"sk-estimator-id-34\" type=\"checkbox\" checked><label for=\"sk-estimator-id-34\" class=\"sk-toggleable__label sk-toggleable__label-arrow\">LogisticRegression</label><div class=\"sk-toggleable__content\"><pre>LogisticRegression(C=10, max_iter=1000)</pre></div></div></div></div></div>"
      ],
      "text/plain": [
       "LogisticRegression(C=10, max_iter=1000)"
      ]
     },
     "execution_count": 342,
     "metadata": {},
     "output_type": "execute_result"
    }
   ],
   "source": [
    "labels_p2 = df_annotated_p2['on_symptom']\n",
    "features_p2 = df_to_vec(df_annotated_p2, 'lause')\n",
    "\n",
    "model_p2 = LogisticRegression(C = 10, max_iter=1000)\n",
    "model_p2.fit(features_p2, labels_p2)"
   ]
  },
  {
   "cell_type": "markdown",
   "id": "ec4a454c-6fc1-4f52-b78a-972014d74846",
   "metadata": {},
   "source": [
    "max_iter väärtust suurendatud veateate tõttu"
   ]
  },
  {
   "cell_type": "code",
   "execution_count": 344,
   "id": "f29606d6-3676-4acc-99ab-a963c89853c5",
   "metadata": {},
   "outputs": [
    {
     "name": "stdout",
     "output_type": "stream",
     "text": [
      "Algselt andmebaasi lausetes:  20383\n",
      "Pärast andmebaasi lausetes:  19828\n"
     ]
    }
   ],
   "source": [
    "top_300_p2 = df_to_pred(df_db_all_para, 'data_paranoia2.xlsx', 'db_all_suurimad_300_p_2.xlsx', model_p2)"
   ]
  },
  {
   "cell_type": "code",
   "execution_count": 346,
   "id": "2a1dc4e0-c78b-46ad-a3c6-ada716a30ccd",
   "metadata": {},
   "outputs": [],
   "source": [
    "df_annotated_p3 = pd.read_excel('data_paranoia3.xlsx', index_col=0)"
   ]
  },
  {
   "cell_type": "code",
   "execution_count": 347,
   "id": "4cb70565-adff-4a50-a762-a765a7b019a0",
   "metadata": {},
   "outputs": [
    {
     "data": {
      "text/plain": [
       "on_symptom\n",
       "0    717\n",
       "1    146\n",
       "dtype: int64"
      ]
     },
     "execution_count": 347,
     "metadata": {},
     "output_type": "execute_result"
    }
   ],
   "source": [
    "df_annotated_p3.groupby(\"on_symptom\").size()"
   ]
  },
  {
   "cell_type": "code",
   "execution_count": 348,
   "id": "07682c91-fec8-427c-b710-a7ddeba70eac",
   "metadata": {},
   "outputs": [],
   "source": [
    "X_train, y_train, X_test, y_test, X_val, y_val = df_to_train_data(df_annotated_p3)"
   ]
  },
  {
   "cell_type": "code",
   "execution_count": 349,
   "id": "4d286ceb-8a4e-42e1-8f5c-d5dc5e6a0f57",
   "metadata": {},
   "outputs": [
    {
     "name": "stdout",
     "output_type": "stream",
     "text": [
      "Alganmestiku suurus: 863\n",
      "Treeningandmestiku suurus: 604\n",
      "Testandmestiku suurus: 130\n",
      "Valideerimisandmestiku suurus: 129\n"
     ]
    }
   ],
   "source": [
    "print(f\"Alganmestiku suurus: {len(df_annotated_p3)}\")\n",
    "print(f\"Treeningandmestiku suurus: {len(X_train)}\")\n",
    "print(f\"Testandmestiku suurus: {len(X_test)}\")\n",
    "print(f\"Valideerimisandmestiku suurus: {len(X_val)}\")"
   ]
  },
  {
   "cell_type": "code",
   "execution_count": 350,
   "id": "84f2fb64-0e67-4485-bf8d-152394a9de68",
   "metadata": {},
   "outputs": [
    {
     "data": {
      "text/html": [
       "<style>#sk-container-id-35 {color: black;}#sk-container-id-35 pre{padding: 0;}#sk-container-id-35 div.sk-toggleable {background-color: white;}#sk-container-id-35 label.sk-toggleable__label {cursor: pointer;display: block;width: 100%;margin-bottom: 0;padding: 0.3em;box-sizing: border-box;text-align: center;}#sk-container-id-35 label.sk-toggleable__label-arrow:before {content: \"▸\";float: left;margin-right: 0.25em;color: #696969;}#sk-container-id-35 label.sk-toggleable__label-arrow:hover:before {color: black;}#sk-container-id-35 div.sk-estimator:hover label.sk-toggleable__label-arrow:before {color: black;}#sk-container-id-35 div.sk-toggleable__content {max-height: 0;max-width: 0;overflow: hidden;text-align: left;background-color: #f0f8ff;}#sk-container-id-35 div.sk-toggleable__content pre {margin: 0.2em;color: black;border-radius: 0.25em;background-color: #f0f8ff;}#sk-container-id-35 input.sk-toggleable__control:checked~div.sk-toggleable__content {max-height: 200px;max-width: 100%;overflow: auto;}#sk-container-id-35 input.sk-toggleable__control:checked~label.sk-toggleable__label-arrow:before {content: \"▾\";}#sk-container-id-35 div.sk-estimator input.sk-toggleable__control:checked~label.sk-toggleable__label {background-color: #d4ebff;}#sk-container-id-35 div.sk-label input.sk-toggleable__control:checked~label.sk-toggleable__label {background-color: #d4ebff;}#sk-container-id-35 input.sk-hidden--visually {border: 0;clip: rect(1px 1px 1px 1px);clip: rect(1px, 1px, 1px, 1px);height: 1px;margin: -1px;overflow: hidden;padding: 0;position: absolute;width: 1px;}#sk-container-id-35 div.sk-estimator {font-family: monospace;background-color: #f0f8ff;border: 1px dotted black;border-radius: 0.25em;box-sizing: border-box;margin-bottom: 0.5em;}#sk-container-id-35 div.sk-estimator:hover {background-color: #d4ebff;}#sk-container-id-35 div.sk-parallel-item::after {content: \"\";width: 100%;border-bottom: 1px solid gray;flex-grow: 1;}#sk-container-id-35 div.sk-label:hover label.sk-toggleable__label {background-color: #d4ebff;}#sk-container-id-35 div.sk-serial::before {content: \"\";position: absolute;border-left: 1px solid gray;box-sizing: border-box;top: 0;bottom: 0;left: 50%;z-index: 0;}#sk-container-id-35 div.sk-serial {display: flex;flex-direction: column;align-items: center;background-color: white;padding-right: 0.2em;padding-left: 0.2em;position: relative;}#sk-container-id-35 div.sk-item {position: relative;z-index: 1;}#sk-container-id-35 div.sk-parallel {display: flex;align-items: stretch;justify-content: center;background-color: white;position: relative;}#sk-container-id-35 div.sk-item::before, #sk-container-id-35 div.sk-parallel-item::before {content: \"\";position: absolute;border-left: 1px solid gray;box-sizing: border-box;top: 0;bottom: 0;left: 50%;z-index: -1;}#sk-container-id-35 div.sk-parallel-item {display: flex;flex-direction: column;z-index: 1;position: relative;background-color: white;}#sk-container-id-35 div.sk-parallel-item:first-child::after {align-self: flex-end;width: 50%;}#sk-container-id-35 div.sk-parallel-item:last-child::after {align-self: flex-start;width: 50%;}#sk-container-id-35 div.sk-parallel-item:only-child::after {width: 0;}#sk-container-id-35 div.sk-dashed-wrapped {border: 1px dashed gray;margin: 0 0.4em 0.5em 0.4em;box-sizing: border-box;padding-bottom: 0.4em;background-color: white;}#sk-container-id-35 div.sk-label label {font-family: monospace;font-weight: bold;display: inline-block;line-height: 1.2em;}#sk-container-id-35 div.sk-label-container {text-align: center;}#sk-container-id-35 div.sk-container {/* jupyter's `normalize.less` sets `[hidden] { display: none; }` but bootstrap.min.css set `[hidden] { display: none !important; }` so we also need the `!important` here to be able to override the default hidden behavior on the sphinx rendered scikit-learn.org. See: https://github.com/scikit-learn/scikit-learn/issues/21755 */display: inline-block !important;position: relative;}#sk-container-id-35 div.sk-text-repr-fallback {display: none;}</style><div id=\"sk-container-id-35\" class=\"sk-top-container\"><div class=\"sk-text-repr-fallback\"><pre>LogisticRegression(C=10)</pre><b>In a Jupyter environment, please rerun this cell to show the HTML representation or trust the notebook. <br />On GitHub, the HTML representation is unable to render, please try loading this page with nbviewer.org.</b></div><div class=\"sk-container\" hidden><div class=\"sk-item\"><div class=\"sk-estimator sk-toggleable\"><input class=\"sk-toggleable__control sk-hidden--visually\" id=\"sk-estimator-id-35\" type=\"checkbox\" checked><label for=\"sk-estimator-id-35\" class=\"sk-toggleable__label sk-toggleable__label-arrow\">LogisticRegression</label><div class=\"sk-toggleable__content\"><pre>LogisticRegression(C=10)</pre></div></div></div></div></div>"
      ],
      "text/plain": [
       "LogisticRegression(C=10)"
      ]
     },
     "execution_count": 350,
     "metadata": {},
     "output_type": "execute_result"
    }
   ],
   "source": [
    "model_p3 = LogisticRegression(C = 10)\n",
    "model_p3.fit(X_train, y_train)"
   ]
  },
  {
   "cell_type": "code",
   "execution_count": 351,
   "id": "319d6f27-9d2f-4b76-9ecb-38fe162c5007",
   "metadata": {},
   "outputs": [],
   "source": [
    "predictions_val_p3 = model_p3.predict(X_val)"
   ]
  },
  {
   "cell_type": "code",
   "execution_count": 352,
   "id": "a41b6721-3330-46db-9b3f-591985fa9434",
   "metadata": {},
   "outputs": [
    {
     "name": "stdout",
     "output_type": "stream",
     "text": [
      "              precision    recall  f1-score   support\n",
      "\n",
      "           0       0.83      0.88      0.85       107\n",
      "           1       0.19      0.14      0.16        22\n",
      "\n",
      "    accuracy                           0.75       129\n",
      "   macro avg       0.51      0.51      0.51       129\n",
      "weighted avg       0.72      0.75      0.74       129\n",
      "\n"
     ]
    }
   ],
   "source": [
    "classification_report_val_p3 = classification_report(y_val, predictions_val_p3)\n",
    "print(classification_report_val_p3)"
   ]
  },
  {
   "cell_type": "code",
   "execution_count": 353,
   "id": "9223fb25-36e2-456f-a831-dbcc40139c23",
   "metadata": {},
   "outputs": [],
   "source": [
    "classification_report_val_p3 = classification_report(y_val, predictions_val_p3, output_dict=True)"
   ]
  },
  {
   "cell_type": "code",
   "execution_count": 354,
   "id": "3f8e5be4-dd6e-4863-adeb-7686c7964727",
   "metadata": {},
   "outputs": [],
   "source": [
    "classification_reports.append(classification_report_val_p3)"
   ]
  },
  {
   "cell_type": "code",
   "execution_count": 355,
   "id": "b3975843-6332-47f4-9716-936aeaa63641",
   "metadata": {},
   "outputs": [
    {
     "data": {
      "image/png": "[encoded data removed]",
      "text/plain": [
       "<Figure size 1000x500 with 1 Axes>"
      ]
     },
     "metadata": {},
     "output_type": "display_data"
    }
   ],
   "source": [
    "matrix_p_val3 = confusion_matrix(y_val, predictions_val_p3)\n",
    "\n",
    "fig, axes = plt.subplots(1, figsize=(10, 5))\n",
    "\n",
    "s_p_val3 = sns.heatmap(matrix_p_val3, cmap='crest', annot=True, annot_kws={\"fontsize\":16}, cbar=False, fmt=\"d\", xticklabels=[\"ei\", \"jah\"], yticklabels=[\"ei\", \"jah\"]);\n",
    "s_p_val3.set_ylabel(\"Tegelikud märgendid\", fontsize=13);\n",
    "s_p_val3.set_xlabel(\"Ennustatud märgendid\", fontsize=13);\n",
    "s_p_val3.set_title(\"Segadusmaatriks valideerimisandmestikul\");"
   ]
  },
  {
   "cell_type": "code",
   "execution_count": 356,
   "id": "d1cf012e-4640-4374-accf-4cf3445e9789",
   "metadata": {},
   "outputs": [],
   "source": [
    "fig = s_p_val3.get_figure()\n",
    "fig.savefig(\"val_12.png\")"
   ]
  },
  {
   "cell_type": "code",
   "execution_count": 357,
   "id": "7af10196-b452-4b59-aa27-8a9ee8b5323a",
   "metadata": {},
   "outputs": [
    {
     "data": {
      "text/html": [
       "<style>#sk-container-id-36 {color: black;}#sk-container-id-36 pre{padding: 0;}#sk-container-id-36 div.sk-toggleable {background-color: white;}#sk-container-id-36 label.sk-toggleable__label {cursor: pointer;display: block;width: 100%;margin-bottom: 0;padding: 0.3em;box-sizing: border-box;text-align: center;}#sk-container-id-36 label.sk-toggleable__label-arrow:before {content: \"▸\";float: left;margin-right: 0.25em;color: #696969;}#sk-container-id-36 label.sk-toggleable__label-arrow:hover:before {color: black;}#sk-container-id-36 div.sk-estimator:hover label.sk-toggleable__label-arrow:before {color: black;}#sk-container-id-36 div.sk-toggleable__content {max-height: 0;max-width: 0;overflow: hidden;text-align: left;background-color: #f0f8ff;}#sk-container-id-36 div.sk-toggleable__content pre {margin: 0.2em;color: black;border-radius: 0.25em;background-color: #f0f8ff;}#sk-container-id-36 input.sk-toggleable__control:checked~div.sk-toggleable__content {max-height: 200px;max-width: 100%;overflow: auto;}#sk-container-id-36 input.sk-toggleable__control:checked~label.sk-toggleable__label-arrow:before {content: \"▾\";}#sk-container-id-36 div.sk-estimator input.sk-toggleable__control:checked~label.sk-toggleable__label {background-color: #d4ebff;}#sk-container-id-36 div.sk-label input.sk-toggleable__control:checked~label.sk-toggleable__label {background-color: #d4ebff;}#sk-container-id-36 input.sk-hidden--visually {border: 0;clip: rect(1px 1px 1px 1px);clip: rect(1px, 1px, 1px, 1px);height: 1px;margin: -1px;overflow: hidden;padding: 0;position: absolute;width: 1px;}#sk-container-id-36 div.sk-estimator {font-family: monospace;background-color: #f0f8ff;border: 1px dotted black;border-radius: 0.25em;box-sizing: border-box;margin-bottom: 0.5em;}#sk-container-id-36 div.sk-estimator:hover {background-color: #d4ebff;}#sk-container-id-36 div.sk-parallel-item::after {content: \"\";width: 100%;border-bottom: 1px solid gray;flex-grow: 1;}#sk-container-id-36 div.sk-label:hover label.sk-toggleable__label {background-color: #d4ebff;}#sk-container-id-36 div.sk-serial::before {content: \"\";position: absolute;border-left: 1px solid gray;box-sizing: border-box;top: 0;bottom: 0;left: 50%;z-index: 0;}#sk-container-id-36 div.sk-serial {display: flex;flex-direction: column;align-items: center;background-color: white;padding-right: 0.2em;padding-left: 0.2em;position: relative;}#sk-container-id-36 div.sk-item {position: relative;z-index: 1;}#sk-container-id-36 div.sk-parallel {display: flex;align-items: stretch;justify-content: center;background-color: white;position: relative;}#sk-container-id-36 div.sk-item::before, #sk-container-id-36 div.sk-parallel-item::before {content: \"\";position: absolute;border-left: 1px solid gray;box-sizing: border-box;top: 0;bottom: 0;left: 50%;z-index: -1;}#sk-container-id-36 div.sk-parallel-item {display: flex;flex-direction: column;z-index: 1;position: relative;background-color: white;}#sk-container-id-36 div.sk-parallel-item:first-child::after {align-self: flex-end;width: 50%;}#sk-container-id-36 div.sk-parallel-item:last-child::after {align-self: flex-start;width: 50%;}#sk-container-id-36 div.sk-parallel-item:only-child::after {width: 0;}#sk-container-id-36 div.sk-dashed-wrapped {border: 1px dashed gray;margin: 0 0.4em 0.5em 0.4em;box-sizing: border-box;padding-bottom: 0.4em;background-color: white;}#sk-container-id-36 div.sk-label label {font-family: monospace;font-weight: bold;display: inline-block;line-height: 1.2em;}#sk-container-id-36 div.sk-label-container {text-align: center;}#sk-container-id-36 div.sk-container {/* jupyter's `normalize.less` sets `[hidden] { display: none; }` but bootstrap.min.css set `[hidden] { display: none !important; }` so we also need the `!important` here to be able to override the default hidden behavior on the sphinx rendered scikit-learn.org. See: https://github.com/scikit-learn/scikit-learn/issues/21755 */display: inline-block !important;position: relative;}#sk-container-id-36 div.sk-text-repr-fallback {display: none;}</style><div id=\"sk-container-id-36\" class=\"sk-top-container\"><div class=\"sk-text-repr-fallback\"><pre>LogisticRegression(C=10, max_iter=1000)</pre><b>In a Jupyter environment, please rerun this cell to show the HTML representation or trust the notebook. <br />On GitHub, the HTML representation is unable to render, please try loading this page with nbviewer.org.</b></div><div class=\"sk-container\" hidden><div class=\"sk-item\"><div class=\"sk-estimator sk-toggleable\"><input class=\"sk-toggleable__control sk-hidden--visually\" id=\"sk-estimator-id-36\" type=\"checkbox\" checked><label for=\"sk-estimator-id-36\" class=\"sk-toggleable__label sk-toggleable__label-arrow\">LogisticRegression</label><div class=\"sk-toggleable__content\"><pre>LogisticRegression(C=10, max_iter=1000)</pre></div></div></div></div></div>"
      ],
      "text/plain": [
       "LogisticRegression(C=10, max_iter=1000)"
      ]
     },
     "execution_count": 357,
     "metadata": {},
     "output_type": "execute_result"
    }
   ],
   "source": [
    "labels_p3 = df_annotated_p3['on_symptom']\n",
    "features_p3 = df_to_vec(df_annotated_p3, 'lause')\n",
    "\n",
    "model_p3 = LogisticRegression(C = 10, max_iter=1000)\n",
    "model_p3.fit(features_p3, labels_p3)"
   ]
  },
  {
   "cell_type": "code",
   "execution_count": 359,
   "id": "852e027e-daa0-4a01-a4df-cc2d9b9a546d",
   "metadata": {},
   "outputs": [
    {
     "name": "stdout",
     "output_type": "stream",
     "text": [
      "Algselt andmebaasi lausetes:  20383\n",
      "Pärast andmebaasi lausetes:  19528\n"
     ]
    }
   ],
   "source": [
    "top_300_p3 = df_to_pred(df_db_all_para, 'data_paranoia3.xlsx', 'db_all_suurimad_300_p_3.xlsx', model_p3)"
   ]
  },
  {
   "cell_type": "code",
   "execution_count": 361,
   "id": "798c405c-f9f3-43a0-8a7f-f6add2b4cb50",
   "metadata": {},
   "outputs": [],
   "source": [
    "df_annotated_p4 = pd.read_excel('data_paranoia4.xlsx', index_col=0)"
   ]
  },
  {
   "cell_type": "code",
   "execution_count": 362,
   "id": "e5406824-d736-49a6-bbe0-677d7c50223d",
   "metadata": {},
   "outputs": [
    {
     "data": {
      "text/plain": [
       "on_symptom\n",
       "0    958\n",
       "1    205\n",
       "dtype: int64"
      ]
     },
     "execution_count": 362,
     "metadata": {},
     "output_type": "execute_result"
    }
   ],
   "source": [
    "df_annotated_p4.groupby(\"on_symptom\").size()"
   ]
  },
  {
   "cell_type": "code",
   "execution_count": 363,
   "id": "bce812a4-cac9-4f5d-af74-b0dbd20fb0e8",
   "metadata": {},
   "outputs": [],
   "source": [
    "X_train, y_train, X_test, y_test, X_val, y_val = df_to_train_data(df_annotated_p4)"
   ]
  },
  {
   "cell_type": "code",
   "execution_count": 364,
   "id": "a0703761-1c90-4399-8200-034b920433ad",
   "metadata": {},
   "outputs": [
    {
     "name": "stdout",
     "output_type": "stream",
     "text": [
      "Alganmestiku suurus: 1163\n",
      "Treeningandmestiku suurus: 814\n",
      "Testandmestiku suurus: 175\n",
      "Valideerimisandmestiku suurus: 174\n"
     ]
    }
   ],
   "source": [
    "print(f\"Alganmestiku suurus: {len(df_annotated_p4)}\")\n",
    "print(f\"Treeningandmestiku suurus: {len(X_train)}\")\n",
    "print(f\"Testandmestiku suurus: {len(X_test)}\")\n",
    "print(f\"Valideerimisandmestiku suurus: {len(X_val)}\")"
   ]
  },
  {
   "cell_type": "code",
   "execution_count": 365,
   "id": "c3e7b86f-c546-45ed-b119-3e6888d30b0e",
   "metadata": {},
   "outputs": [
    {
     "data": {
      "text/html": [
       "<style>#sk-container-id-37 {color: black;}#sk-container-id-37 pre{padding: 0;}#sk-container-id-37 div.sk-toggleable {background-color: white;}#sk-container-id-37 label.sk-toggleable__label {cursor: pointer;display: block;width: 100%;margin-bottom: 0;padding: 0.3em;box-sizing: border-box;text-align: center;}#sk-container-id-37 label.sk-toggleable__label-arrow:before {content: \"▸\";float: left;margin-right: 0.25em;color: #696969;}#sk-container-id-37 label.sk-toggleable__label-arrow:hover:before {color: black;}#sk-container-id-37 div.sk-estimator:hover label.sk-toggleable__label-arrow:before {color: black;}#sk-container-id-37 div.sk-toggleable__content {max-height: 0;max-width: 0;overflow: hidden;text-align: left;background-color: #f0f8ff;}#sk-container-id-37 div.sk-toggleable__content pre {margin: 0.2em;color: black;border-radius: 0.25em;background-color: #f0f8ff;}#sk-container-id-37 input.sk-toggleable__control:checked~div.sk-toggleable__content {max-height: 200px;max-width: 100%;overflow: auto;}#sk-container-id-37 input.sk-toggleable__control:checked~label.sk-toggleable__label-arrow:before {content: \"▾\";}#sk-container-id-37 div.sk-estimator input.sk-toggleable__control:checked~label.sk-toggleable__label {background-color: #d4ebff;}#sk-container-id-37 div.sk-label input.sk-toggleable__control:checked~label.sk-toggleable__label {background-color: #d4ebff;}#sk-container-id-37 input.sk-hidden--visually {border: 0;clip: rect(1px 1px 1px 1px);clip: rect(1px, 1px, 1px, 1px);height: 1px;margin: -1px;overflow: hidden;padding: 0;position: absolute;width: 1px;}#sk-container-id-37 div.sk-estimator {font-family: monospace;background-color: #f0f8ff;border: 1px dotted black;border-radius: 0.25em;box-sizing: border-box;margin-bottom: 0.5em;}#sk-container-id-37 div.sk-estimator:hover {background-color: #d4ebff;}#sk-container-id-37 div.sk-parallel-item::after {content: \"\";width: 100%;border-bottom: 1px solid gray;flex-grow: 1;}#sk-container-id-37 div.sk-label:hover label.sk-toggleable__label {background-color: #d4ebff;}#sk-container-id-37 div.sk-serial::before {content: \"\";position: absolute;border-left: 1px solid gray;box-sizing: border-box;top: 0;bottom: 0;left: 50%;z-index: 0;}#sk-container-id-37 div.sk-serial {display: flex;flex-direction: column;align-items: center;background-color: white;padding-right: 0.2em;padding-left: 0.2em;position: relative;}#sk-container-id-37 div.sk-item {position: relative;z-index: 1;}#sk-container-id-37 div.sk-parallel {display: flex;align-items: stretch;justify-content: center;background-color: white;position: relative;}#sk-container-id-37 div.sk-item::before, #sk-container-id-37 div.sk-parallel-item::before {content: \"\";position: absolute;border-left: 1px solid gray;box-sizing: border-box;top: 0;bottom: 0;left: 50%;z-index: -1;}#sk-container-id-37 div.sk-parallel-item {display: flex;flex-direction: column;z-index: 1;position: relative;background-color: white;}#sk-container-id-37 div.sk-parallel-item:first-child::after {align-self: flex-end;width: 50%;}#sk-container-id-37 div.sk-parallel-item:last-child::after {align-self: flex-start;width: 50%;}#sk-container-id-37 div.sk-parallel-item:only-child::after {width: 0;}#sk-container-id-37 div.sk-dashed-wrapped {border: 1px dashed gray;margin: 0 0.4em 0.5em 0.4em;box-sizing: border-box;padding-bottom: 0.4em;background-color: white;}#sk-container-id-37 div.sk-label label {font-family: monospace;font-weight: bold;display: inline-block;line-height: 1.2em;}#sk-container-id-37 div.sk-label-container {text-align: center;}#sk-container-id-37 div.sk-container {/* jupyter's `normalize.less` sets `[hidden] { display: none; }` but bootstrap.min.css set `[hidden] { display: none !important; }` so we also need the `!important` here to be able to override the default hidden behavior on the sphinx rendered scikit-learn.org. See: https://github.com/scikit-learn/scikit-learn/issues/21755 */display: inline-block !important;position: relative;}#sk-container-id-37 div.sk-text-repr-fallback {display: none;}</style><div id=\"sk-container-id-37\" class=\"sk-top-container\"><div class=\"sk-text-repr-fallback\"><pre>LogisticRegression(C=10)</pre><b>In a Jupyter environment, please rerun this cell to show the HTML representation or trust the notebook. <br />On GitHub, the HTML representation is unable to render, please try loading this page with nbviewer.org.</b></div><div class=\"sk-container\" hidden><div class=\"sk-item\"><div class=\"sk-estimator sk-toggleable\"><input class=\"sk-toggleable__control sk-hidden--visually\" id=\"sk-estimator-id-37\" type=\"checkbox\" checked><label for=\"sk-estimator-id-37\" class=\"sk-toggleable__label sk-toggleable__label-arrow\">LogisticRegression</label><div class=\"sk-toggleable__content\"><pre>LogisticRegression(C=10)</pre></div></div></div></div></div>"
      ],
      "text/plain": [
       "LogisticRegression(C=10)"
      ]
     },
     "execution_count": 365,
     "metadata": {},
     "output_type": "execute_result"
    }
   ],
   "source": [
    "model_p4 = LogisticRegression(C = 10)\n",
    "model_p4.fit(X_train, y_train)"
   ]
  },
  {
   "cell_type": "code",
   "execution_count": 366,
   "id": "fb12475c-08e9-405a-84f2-6a1fe11ac7d1",
   "metadata": {},
   "outputs": [],
   "source": [
    "predictions_val_p4 = model_p4.predict(X_val)"
   ]
  },
  {
   "cell_type": "code",
   "execution_count": 367,
   "id": "f1029b42-dc02-4376-8bca-654ce32b35ad",
   "metadata": {},
   "outputs": [
    {
     "name": "stdout",
     "output_type": "stream",
     "text": [
      "              precision    recall  f1-score   support\n",
      "\n",
      "           0       0.85      0.88      0.87       143\n",
      "           1       0.35      0.29      0.32        31\n",
      "\n",
      "    accuracy                           0.78       174\n",
      "   macro avg       0.60      0.59      0.59       174\n",
      "weighted avg       0.76      0.78      0.77       174\n",
      "\n"
     ]
    }
   ],
   "source": [
    "classification_report_val_p4 = classification_report(y_val, predictions_val_p4)\n",
    "print(classification_report_val_p4)"
   ]
  },
  {
   "cell_type": "code",
   "execution_count": 368,
   "id": "4a2d7fcb-a084-4bdd-ab19-f2378d5f4094",
   "metadata": {},
   "outputs": [],
   "source": [
    "classification_report_val_p4 = classification_report(y_val, predictions_val_p4, output_dict=True)"
   ]
  },
  {
   "cell_type": "code",
   "execution_count": 369,
   "id": "b72a69d6-b1cb-4070-a519-41d7fb9e2bad",
   "metadata": {},
   "outputs": [],
   "source": [
    "classification_reports.append(classification_report_val_p4)"
   ]
  },
  {
   "cell_type": "code",
   "execution_count": 370,
   "id": "558769fa-e508-4dbe-95f9-072cf70cb25c",
   "metadata": {
    "scrolled": true
   },
   "outputs": [
    {
     "data": {
      "image/png": "[encoded data removed]",
      "text/plain": [
       "<Figure size 1000x500 with 1 Axes>"
      ]
     },
     "metadata": {},
     "output_type": "display_data"
    }
   ],
   "source": [
    "matrix_p_val4 = confusion_matrix(y_val, predictions_val_p4)\n",
    "\n",
    "fig, axes = plt.subplots(1, figsize=(10, 5))\n",
    "\n",
    "s_p_val4 = sns.heatmap(matrix_p_val4, cmap='crest', annot=True, annot_kws={\"fontsize\":16}, cbar=False, fmt=\"d\", xticklabels=[\"ei\", \"jah\"], yticklabels=[\"ei\", \"jah\"]);\n",
    "s_p_val4.set_ylabel(\"Tegelikud märgendid\", fontsize=13);\n",
    "s_p_val4.set_xlabel(\"Ennustatud märgendid\", fontsize=13);\n",
    "s_p_val4.set_title(\"Segadusmaatriks valideerimisandmestikul\");"
   ]
  },
  {
   "cell_type": "code",
   "execution_count": 371,
   "id": "d6b43b55-ca7f-4a3f-b178-a015a84ee5e5",
   "metadata": {},
   "outputs": [],
   "source": [
    "fig = s_p_val4.get_figure()\n",
    "fig.savefig(\"val_13.png\")"
   ]
  },
  {
   "cell_type": "code",
   "execution_count": 372,
   "id": "a44dfdc3-50a5-4a38-933d-2fa3802c15cc",
   "metadata": {},
   "outputs": [
    {
     "data": {
      "text/html": [
       "<style>#sk-container-id-38 {color: black;}#sk-container-id-38 pre{padding: 0;}#sk-container-id-38 div.sk-toggleable {background-color: white;}#sk-container-id-38 label.sk-toggleable__label {cursor: pointer;display: block;width: 100%;margin-bottom: 0;padding: 0.3em;box-sizing: border-box;text-align: center;}#sk-container-id-38 label.sk-toggleable__label-arrow:before {content: \"▸\";float: left;margin-right: 0.25em;color: #696969;}#sk-container-id-38 label.sk-toggleable__label-arrow:hover:before {color: black;}#sk-container-id-38 div.sk-estimator:hover label.sk-toggleable__label-arrow:before {color: black;}#sk-container-id-38 div.sk-toggleable__content {max-height: 0;max-width: 0;overflow: hidden;text-align: left;background-color: #f0f8ff;}#sk-container-id-38 div.sk-toggleable__content pre {margin: 0.2em;color: black;border-radius: 0.25em;background-color: #f0f8ff;}#sk-container-id-38 input.sk-toggleable__control:checked~div.sk-toggleable__content {max-height: 200px;max-width: 100%;overflow: auto;}#sk-container-id-38 input.sk-toggleable__control:checked~label.sk-toggleable__label-arrow:before {content: \"▾\";}#sk-container-id-38 div.sk-estimator input.sk-toggleable__control:checked~label.sk-toggleable__label {background-color: #d4ebff;}#sk-container-id-38 div.sk-label input.sk-toggleable__control:checked~label.sk-toggleable__label {background-color: #d4ebff;}#sk-container-id-38 input.sk-hidden--visually {border: 0;clip: rect(1px 1px 1px 1px);clip: rect(1px, 1px, 1px, 1px);height: 1px;margin: -1px;overflow: hidden;padding: 0;position: absolute;width: 1px;}#sk-container-id-38 div.sk-estimator {font-family: monospace;background-color: #f0f8ff;border: 1px dotted black;border-radius: 0.25em;box-sizing: border-box;margin-bottom: 0.5em;}#sk-container-id-38 div.sk-estimator:hover {background-color: #d4ebff;}#sk-container-id-38 div.sk-parallel-item::after {content: \"\";width: 100%;border-bottom: 1px solid gray;flex-grow: 1;}#sk-container-id-38 div.sk-label:hover label.sk-toggleable__label {background-color: #d4ebff;}#sk-container-id-38 div.sk-serial::before {content: \"\";position: absolute;border-left: 1px solid gray;box-sizing: border-box;top: 0;bottom: 0;left: 50%;z-index: 0;}#sk-container-id-38 div.sk-serial {display: flex;flex-direction: column;align-items: center;background-color: white;padding-right: 0.2em;padding-left: 0.2em;position: relative;}#sk-container-id-38 div.sk-item {position: relative;z-index: 1;}#sk-container-id-38 div.sk-parallel {display: flex;align-items: stretch;justify-content: center;background-color: white;position: relative;}#sk-container-id-38 div.sk-item::before, #sk-container-id-38 div.sk-parallel-item::before {content: \"\";position: absolute;border-left: 1px solid gray;box-sizing: border-box;top: 0;bottom: 0;left: 50%;z-index: -1;}#sk-container-id-38 div.sk-parallel-item {display: flex;flex-direction: column;z-index: 1;position: relative;background-color: white;}#sk-container-id-38 div.sk-parallel-item:first-child::after {align-self: flex-end;width: 50%;}#sk-container-id-38 div.sk-parallel-item:last-child::after {align-self: flex-start;width: 50%;}#sk-container-id-38 div.sk-parallel-item:only-child::after {width: 0;}#sk-container-id-38 div.sk-dashed-wrapped {border: 1px dashed gray;margin: 0 0.4em 0.5em 0.4em;box-sizing: border-box;padding-bottom: 0.4em;background-color: white;}#sk-container-id-38 div.sk-label label {font-family: monospace;font-weight: bold;display: inline-block;line-height: 1.2em;}#sk-container-id-38 div.sk-label-container {text-align: center;}#sk-container-id-38 div.sk-container {/* jupyter's `normalize.less` sets `[hidden] { display: none; }` but bootstrap.min.css set `[hidden] { display: none !important; }` so we also need the `!important` here to be able to override the default hidden behavior on the sphinx rendered scikit-learn.org. See: https://github.com/scikit-learn/scikit-learn/issues/21755 */display: inline-block !important;position: relative;}#sk-container-id-38 div.sk-text-repr-fallback {display: none;}</style><div id=\"sk-container-id-38\" class=\"sk-top-container\"><div class=\"sk-text-repr-fallback\"><pre>LogisticRegression(C=10)</pre><b>In a Jupyter environment, please rerun this cell to show the HTML representation or trust the notebook. <br />On GitHub, the HTML representation is unable to render, please try loading this page with nbviewer.org.</b></div><div class=\"sk-container\" hidden><div class=\"sk-item\"><div class=\"sk-estimator sk-toggleable\"><input class=\"sk-toggleable__control sk-hidden--visually\" id=\"sk-estimator-id-38\" type=\"checkbox\" checked><label for=\"sk-estimator-id-38\" class=\"sk-toggleable__label sk-toggleable__label-arrow\">LogisticRegression</label><div class=\"sk-toggleable__content\"><pre>LogisticRegression(C=10)</pre></div></div></div></div></div>"
      ],
      "text/plain": [
       "LogisticRegression(C=10)"
      ]
     },
     "execution_count": 372,
     "metadata": {},
     "output_type": "execute_result"
    }
   ],
   "source": [
    "labels_p4 = df_annotated_p4['on_symptom']\n",
    "features_p4 = df_to_vec(df_annotated_p4, 'lause')\n",
    "\n",
    "model_p4 = LogisticRegression(C = 10)\n",
    "model_p4.fit(features_p4, labels_p4)"
   ]
  },
  {
   "cell_type": "code",
   "execution_count": 374,
   "id": "abb01d92-7cb1-4909-9eb6-745e21612ec6",
   "metadata": {},
   "outputs": [
    {
     "name": "stdout",
     "output_type": "stream",
     "text": [
      "Algselt andmebaasi lausetes:  20383\n",
      "Pärast andmebaasi lausetes:  19228\n"
     ]
    }
   ],
   "source": [
    "top_300_p4 = df_to_pred(df_db_all_para, 'data_paranoia4.xlsx', 'db_all_suurimad_300_p_4.xlsx', model_p4)"
   ]
  },
  {
   "cell_type": "code",
   "execution_count": 376,
   "id": "78e167ef-2dfe-48cd-9b22-ded847515c16",
   "metadata": {},
   "outputs": [],
   "source": [
    "df_annotated_p5 = pd.read_excel('data_paranoia5.xlsx', index_col=0)"
   ]
  },
  {
   "cell_type": "code",
   "execution_count": 377,
   "id": "11228cfa-64bd-44af-873a-bc6ceb266627",
   "metadata": {},
   "outputs": [
    {
     "data": {
      "text/plain": [
       "on_symptom\n",
       "0    970\n",
       "1    205\n",
       "dtype: int64"
      ]
     },
     "execution_count": 377,
     "metadata": {},
     "output_type": "execute_result"
    }
   ],
   "source": [
    "df_annotated_p5.groupby(\"on_symptom\").size()"
   ]
  },
  {
   "cell_type": "code",
   "execution_count": 378,
   "id": "6d7e1150-697f-42de-8ac8-e71c7dbe3254",
   "metadata": {},
   "outputs": [],
   "source": [
    "X_train, y_train, X_test, y_test, X_val, y_val = df_to_train_data(df_annotated_p5)"
   ]
  },
  {
   "cell_type": "code",
   "execution_count": 379,
   "id": "27c04e5e-b5cc-4392-ad3b-95689b685147",
   "metadata": {},
   "outputs": [
    {
     "name": "stdout",
     "output_type": "stream",
     "text": [
      "Alganmestiku suurus: 1175\n",
      "Treeningandmestiku suurus: 822\n",
      "Testandmestiku suurus: 177\n",
      "Valideerimisandmestiku suurus: 176\n"
     ]
    }
   ],
   "source": [
    "print(f\"Alganmestiku suurus: {len(df_annotated_p5)}\")\n",
    "print(f\"Treeningandmestiku suurus: {len(X_train)}\")\n",
    "print(f\"Testandmestiku suurus: {len(X_test)}\")\n",
    "print(f\"Valideerimisandmestiku suurus: {len(X_val)}\")"
   ]
  },
  {
   "cell_type": "code",
   "execution_count": 380,
   "id": "54fef166-cb95-4b65-bff6-7984b6479cc1",
   "metadata": {},
   "outputs": [
    {
     "data": {
      "text/html": [
       "<style>#sk-container-id-39 {color: black;}#sk-container-id-39 pre{padding: 0;}#sk-container-id-39 div.sk-toggleable {background-color: white;}#sk-container-id-39 label.sk-toggleable__label {cursor: pointer;display: block;width: 100%;margin-bottom: 0;padding: 0.3em;box-sizing: border-box;text-align: center;}#sk-container-id-39 label.sk-toggleable__label-arrow:before {content: \"▸\";float: left;margin-right: 0.25em;color: #696969;}#sk-container-id-39 label.sk-toggleable__label-arrow:hover:before {color: black;}#sk-container-id-39 div.sk-estimator:hover label.sk-toggleable__label-arrow:before {color: black;}#sk-container-id-39 div.sk-toggleable__content {max-height: 0;max-width: 0;overflow: hidden;text-align: left;background-color: #f0f8ff;}#sk-container-id-39 div.sk-toggleable__content pre {margin: 0.2em;color: black;border-radius: 0.25em;background-color: #f0f8ff;}#sk-container-id-39 input.sk-toggleable__control:checked~div.sk-toggleable__content {max-height: 200px;max-width: 100%;overflow: auto;}#sk-container-id-39 input.sk-toggleable__control:checked~label.sk-toggleable__label-arrow:before {content: \"▾\";}#sk-container-id-39 div.sk-estimator input.sk-toggleable__control:checked~label.sk-toggleable__label {background-color: #d4ebff;}#sk-container-id-39 div.sk-label input.sk-toggleable__control:checked~label.sk-toggleable__label {background-color: #d4ebff;}#sk-container-id-39 input.sk-hidden--visually {border: 0;clip: rect(1px 1px 1px 1px);clip: rect(1px, 1px, 1px, 1px);height: 1px;margin: -1px;overflow: hidden;padding: 0;position: absolute;width: 1px;}#sk-container-id-39 div.sk-estimator {font-family: monospace;background-color: #f0f8ff;border: 1px dotted black;border-radius: 0.25em;box-sizing: border-box;margin-bottom: 0.5em;}#sk-container-id-39 div.sk-estimator:hover {background-color: #d4ebff;}#sk-container-id-39 div.sk-parallel-item::after {content: \"\";width: 100%;border-bottom: 1px solid gray;flex-grow: 1;}#sk-container-id-39 div.sk-label:hover label.sk-toggleable__label {background-color: #d4ebff;}#sk-container-id-39 div.sk-serial::before {content: \"\";position: absolute;border-left: 1px solid gray;box-sizing: border-box;top: 0;bottom: 0;left: 50%;z-index: 0;}#sk-container-id-39 div.sk-serial {display: flex;flex-direction: column;align-items: center;background-color: white;padding-right: 0.2em;padding-left: 0.2em;position: relative;}#sk-container-id-39 div.sk-item {position: relative;z-index: 1;}#sk-container-id-39 div.sk-parallel {display: flex;align-items: stretch;justify-content: center;background-color: white;position: relative;}#sk-container-id-39 div.sk-item::before, #sk-container-id-39 div.sk-parallel-item::before {content: \"\";position: absolute;border-left: 1px solid gray;box-sizing: border-box;top: 0;bottom: 0;left: 50%;z-index: -1;}#sk-container-id-39 div.sk-parallel-item {display: flex;flex-direction: column;z-index: 1;position: relative;background-color: white;}#sk-container-id-39 div.sk-parallel-item:first-child::after {align-self: flex-end;width: 50%;}#sk-container-id-39 div.sk-parallel-item:last-child::after {align-self: flex-start;width: 50%;}#sk-container-id-39 div.sk-parallel-item:only-child::after {width: 0;}#sk-container-id-39 div.sk-dashed-wrapped {border: 1px dashed gray;margin: 0 0.4em 0.5em 0.4em;box-sizing: border-box;padding-bottom: 0.4em;background-color: white;}#sk-container-id-39 div.sk-label label {font-family: monospace;font-weight: bold;display: inline-block;line-height: 1.2em;}#sk-container-id-39 div.sk-label-container {text-align: center;}#sk-container-id-39 div.sk-container {/* jupyter's `normalize.less` sets `[hidden] { display: none; }` but bootstrap.min.css set `[hidden] { display: none !important; }` so we also need the `!important` here to be able to override the default hidden behavior on the sphinx rendered scikit-learn.org. See: https://github.com/scikit-learn/scikit-learn/issues/21755 */display: inline-block !important;position: relative;}#sk-container-id-39 div.sk-text-repr-fallback {display: none;}</style><div id=\"sk-container-id-39\" class=\"sk-top-container\"><div class=\"sk-text-repr-fallback\"><pre>LogisticRegression(C=10)</pre><b>In a Jupyter environment, please rerun this cell to show the HTML representation or trust the notebook. <br />On GitHub, the HTML representation is unable to render, please try loading this page with nbviewer.org.</b></div><div class=\"sk-container\" hidden><div class=\"sk-item\"><div class=\"sk-estimator sk-toggleable\"><input class=\"sk-toggleable__control sk-hidden--visually\" id=\"sk-estimator-id-39\" type=\"checkbox\" checked><label for=\"sk-estimator-id-39\" class=\"sk-toggleable__label sk-toggleable__label-arrow\">LogisticRegression</label><div class=\"sk-toggleable__content\"><pre>LogisticRegression(C=10)</pre></div></div></div></div></div>"
      ],
      "text/plain": [
       "LogisticRegression(C=10)"
      ]
     },
     "execution_count": 380,
     "metadata": {},
     "output_type": "execute_result"
    }
   ],
   "source": [
    "model_p5 = LogisticRegression(C = 10)\n",
    "model_p5.fit(X_train, y_train)"
   ]
  },
  {
   "cell_type": "code",
   "execution_count": 381,
   "id": "490211c6-ca67-4aee-9dc9-cbdb25447efb",
   "metadata": {},
   "outputs": [],
   "source": [
    "predictions_val_p5 = model_p5.predict(X_val)"
   ]
  },
  {
   "cell_type": "code",
   "execution_count": 382,
   "id": "9dcaa701-b99b-40b6-82ad-ad6973f31d67",
   "metadata": {},
   "outputs": [
    {
     "name": "stdout",
     "output_type": "stream",
     "text": [
      "              precision    recall  f1-score   support\n",
      "\n",
      "           0       0.83      0.89      0.86       145\n",
      "           1       0.20      0.13      0.16        31\n",
      "\n",
      "    accuracy                           0.76       176\n",
      "   macro avg       0.51      0.51      0.51       176\n",
      "weighted avg       0.72      0.76      0.73       176\n",
      "\n"
     ]
    }
   ],
   "source": [
    "classification_report_val_p5 = classification_report(y_val, predictions_val_p5)\n",
    "print(classification_report_val_p5)"
   ]
  },
  {
   "cell_type": "code",
   "execution_count": 383,
   "id": "d43983cc-5a6e-4cd4-8f27-057278454da6",
   "metadata": {},
   "outputs": [],
   "source": [
    "classification_report_val_p5 = classification_report(y_val, predictions_val_p5, output_dict=True)"
   ]
  },
  {
   "cell_type": "code",
   "execution_count": 384,
   "id": "be201e27-73d7-4536-a911-6c216b5cfb70",
   "metadata": {},
   "outputs": [],
   "source": [
    "classification_reports.append(classification_report_val_p5)"
   ]
  },
  {
   "cell_type": "code",
   "execution_count": 385,
   "id": "ca23eb55-d156-440a-a496-b44c904579e0",
   "metadata": {},
   "outputs": [
    {
     "data": {
      "image/png": "[encoded data removed]",
      "text/plain": [
       "<Figure size 1000x500 with 1 Axes>"
      ]
     },
     "metadata": {},
     "output_type": "display_data"
    }
   ],
   "source": [
    "matrix_p_val5 = confusion_matrix(y_val, predictions_val_p5)\n",
    "\n",
    "fig, axes = plt.subplots(1, figsize=(10, 5))\n",
    "\n",
    "s_p_val5 = sns.heatmap(matrix_p_val5, cmap='crest', annot=True, annot_kws={\"fontsize\":16}, cbar=False, fmt=\"d\", xticklabels=[\"ei\", \"jah\"], yticklabels=[\"ei\", \"jah\"]);\n",
    "s_p_val5.set_ylabel(\"Tegelikud märgendid\", fontsize=13);\n",
    "s_p_val5.set_xlabel(\"Ennustatud märgendid\", fontsize=13);\n",
    "s_p_val5.set_title(\"Segadusmaatriks valideerimisandmestikul\");"
   ]
  },
  {
   "cell_type": "code",
   "execution_count": 386,
   "id": "a783d3d3-5e17-4485-a62f-1668aab59c60",
   "metadata": {},
   "outputs": [],
   "source": [
    "fig = s_p_val5.get_figure()\n",
    "fig.savefig(\"val_14.png\")"
   ]
  },
  {
   "cell_type": "code",
   "execution_count": 387,
   "id": "eaa9da6f-6c38-4269-998f-be7bfdf83283",
   "metadata": {},
   "outputs": [
    {
     "data": {
      "text/html": [
       "<style>#sk-container-id-40 {color: black;}#sk-container-id-40 pre{padding: 0;}#sk-container-id-40 div.sk-toggleable {background-color: white;}#sk-container-id-40 label.sk-toggleable__label {cursor: pointer;display: block;width: 100%;margin-bottom: 0;padding: 0.3em;box-sizing: border-box;text-align: center;}#sk-container-id-40 label.sk-toggleable__label-arrow:before {content: \"▸\";float: left;margin-right: 0.25em;color: #696969;}#sk-container-id-40 label.sk-toggleable__label-arrow:hover:before {color: black;}#sk-container-id-40 div.sk-estimator:hover label.sk-toggleable__label-arrow:before {color: black;}#sk-container-id-40 div.sk-toggleable__content {max-height: 0;max-width: 0;overflow: hidden;text-align: left;background-color: #f0f8ff;}#sk-container-id-40 div.sk-toggleable__content pre {margin: 0.2em;color: black;border-radius: 0.25em;background-color: #f0f8ff;}#sk-container-id-40 input.sk-toggleable__control:checked~div.sk-toggleable__content {max-height: 200px;max-width: 100%;overflow: auto;}#sk-container-id-40 input.sk-toggleable__control:checked~label.sk-toggleable__label-arrow:before {content: \"▾\";}#sk-container-id-40 div.sk-estimator input.sk-toggleable__control:checked~label.sk-toggleable__label {background-color: #d4ebff;}#sk-container-id-40 div.sk-label input.sk-toggleable__control:checked~label.sk-toggleable__label {background-color: #d4ebff;}#sk-container-id-40 input.sk-hidden--visually {border: 0;clip: rect(1px 1px 1px 1px);clip: rect(1px, 1px, 1px, 1px);height: 1px;margin: -1px;overflow: hidden;padding: 0;position: absolute;width: 1px;}#sk-container-id-40 div.sk-estimator {font-family: monospace;background-color: #f0f8ff;border: 1px dotted black;border-radius: 0.25em;box-sizing: border-box;margin-bottom: 0.5em;}#sk-container-id-40 div.sk-estimator:hover {background-color: #d4ebff;}#sk-container-id-40 div.sk-parallel-item::after {content: \"\";width: 100%;border-bottom: 1px solid gray;flex-grow: 1;}#sk-container-id-40 div.sk-label:hover label.sk-toggleable__label {background-color: #d4ebff;}#sk-container-id-40 div.sk-serial::before {content: \"\";position: absolute;border-left: 1px solid gray;box-sizing: border-box;top: 0;bottom: 0;left: 50%;z-index: 0;}#sk-container-id-40 div.sk-serial {display: flex;flex-direction: column;align-items: center;background-color: white;padding-right: 0.2em;padding-left: 0.2em;position: relative;}#sk-container-id-40 div.sk-item {position: relative;z-index: 1;}#sk-container-id-40 div.sk-parallel {display: flex;align-items: stretch;justify-content: center;background-color: white;position: relative;}#sk-container-id-40 div.sk-item::before, #sk-container-id-40 div.sk-parallel-item::before {content: \"\";position: absolute;border-left: 1px solid gray;box-sizing: border-box;top: 0;bottom: 0;left: 50%;z-index: -1;}#sk-container-id-40 div.sk-parallel-item {display: flex;flex-direction: column;z-index: 1;position: relative;background-color: white;}#sk-container-id-40 div.sk-parallel-item:first-child::after {align-self: flex-end;width: 50%;}#sk-container-id-40 div.sk-parallel-item:last-child::after {align-self: flex-start;width: 50%;}#sk-container-id-40 div.sk-parallel-item:only-child::after {width: 0;}#sk-container-id-40 div.sk-dashed-wrapped {border: 1px dashed gray;margin: 0 0.4em 0.5em 0.4em;box-sizing: border-box;padding-bottom: 0.4em;background-color: white;}#sk-container-id-40 div.sk-label label {font-family: monospace;font-weight: bold;display: inline-block;line-height: 1.2em;}#sk-container-id-40 div.sk-label-container {text-align: center;}#sk-container-id-40 div.sk-container {/* jupyter's `normalize.less` sets `[hidden] { display: none; }` but bootstrap.min.css set `[hidden] { display: none !important; }` so we also need the `!important` here to be able to override the default hidden behavior on the sphinx rendered scikit-learn.org. See: https://github.com/scikit-learn/scikit-learn/issues/21755 */display: inline-block !important;position: relative;}#sk-container-id-40 div.sk-text-repr-fallback {display: none;}</style><div id=\"sk-container-id-40\" class=\"sk-top-container\"><div class=\"sk-text-repr-fallback\"><pre>LogisticRegression(C=10)</pre><b>In a Jupyter environment, please rerun this cell to show the HTML representation or trust the notebook. <br />On GitHub, the HTML representation is unable to render, please try loading this page with nbviewer.org.</b></div><div class=\"sk-container\" hidden><div class=\"sk-item\"><div class=\"sk-estimator sk-toggleable\"><input class=\"sk-toggleable__control sk-hidden--visually\" id=\"sk-estimator-id-40\" type=\"checkbox\" checked><label for=\"sk-estimator-id-40\" class=\"sk-toggleable__label sk-toggleable__label-arrow\">LogisticRegression</label><div class=\"sk-toggleable__content\"><pre>LogisticRegression(C=10)</pre></div></div></div></div></div>"
      ],
      "text/plain": [
       "LogisticRegression(C=10)"
      ]
     },
     "execution_count": 387,
     "metadata": {},
     "output_type": "execute_result"
    }
   ],
   "source": [
    "labels_p5 = df_annotated_p5['on_symptom']\n",
    "features_p5 = df_to_vec(df_annotated_p5, 'lause')\n",
    "\n",
    "model_p5 = LogisticRegression(C = 10)\n",
    "model_p5.fit(features_p5, labels_p5)"
   ]
  },
  {
   "cell_type": "code",
   "execution_count": 389,
   "id": "95cc864e-7d80-43f6-95b9-3929a9776024",
   "metadata": {},
   "outputs": [
    {
     "name": "stdout",
     "output_type": "stream",
     "text": [
      "Algselt andmebaasi lausetes:  20383\n",
      "Pärast andmebaasi lausetes:  19216\n"
     ]
    }
   ],
   "source": [
    "top_300_p5 = df_to_pred(df_db_all_para, 'data_paranoia5.xlsx', 'db_all_suurimad_300_p_5.xlsx', model_p5)"
   ]
  },
  {
   "cell_type": "markdown",
   "id": "f233a88a-d433-4f7d-9e80-602a91f16b60",
   "metadata": {},
   "source": [
    "Siinkohal mudel ennustab ebakindlalt. Iteratsioonid lõpetatud."
   ]
  },
  {
   "cell_type": "markdown",
   "id": "abfd6a7a-49d9-4a60-965f-d058128150c0",
   "metadata": {},
   "source": [
    "# Word2Vec mudelist puuduvad sõnad"
   ]
  },
  {
   "cell_type": "code",
   "execution_count": 391,
   "id": "72356d6c-c6f5-4cc2-995e-ea51fe87546b",
   "metadata": {},
   "outputs": [],
   "source": [
    "vasteta_sõnad_final = sorted(vasteta_count.items(), key=lambda x:x[1])"
   ]
  },
  {
   "cell_type": "code",
   "execution_count": 394,
   "id": "099f676b-ec62-49f6-af36-3c3980b6c7a8",
   "metadata": {},
   "outputs": [],
   "source": [
    "vasteta_sõnu_kokku = 0\n",
    "\n",
    "for key, value in vasteta_sõnad_final:\n",
    "    vasteta_sõnu_kokku += 1"
   ]
  },
  {
   "cell_type": "code",
   "execution_count": 395,
   "id": "e13f542c-22e9-4f69-9a92-bb43533737bc",
   "metadata": {},
   "outputs": [
    {
     "name": "stdout",
     "output_type": "stream",
     "text": [
      "Vasteta sõnu kokku: 8368\n"
     ]
    }
   ],
   "source": [
    "print(f\"Vasteta sõnu kokku: {vasteta_sõnu_kokku}\")"
   ]
  },
  {
   "cell_type": "code",
   "execution_count": 397,
   "id": "3d7a2b87-4f34-4456-a63c-ae72be0863c3",
   "metadata": {},
   "outputs": [],
   "source": [
    "data = []\n",
    "\n",
    "for key, value in vasteta_sõnad_final:\n",
    "    data.append([key, value])"
   ]
  },
  {
   "cell_type": "code",
   "execution_count": 398,
   "id": "a8904201-4e7b-41df-b34e-178d3995bb00",
   "metadata": {},
   "outputs": [],
   "source": [
    "df_puuduvad_sõnad = pd.DataFrame(data, columns=['sõna', 'sagedus'])"
   ]
  },
  {
   "cell_type": "code",
   "execution_count": 399,
   "id": "d164044c-06fa-4320-bbe1-fe3ac0dd0e7c",
   "metadata": {},
   "outputs": [],
   "source": [
    "df_puuduvad_sõnad.to_excel('puuduvad_sõnad.xlsx')"
   ]
  }
 ],
 "metadata": {
  "kernelspec": {
   "display_name": "Python 3 (ipykernel)",
   "language": "python",
   "name": "python3"
  },
  "language_info": {
   "codemirror_mode": {
    "name": "ipython",
    "version": 3
   },
   "file_extension": ".py",
   "mimetype": "text/x-python",
   "name": "python",
   "nbconvert_exporter": "python",
   "pygments_lexer": "ipython3",
   "version": "3.11.7"
  }
 },
 "nbformat": 4,
 "nbformat_minor": 5
}
